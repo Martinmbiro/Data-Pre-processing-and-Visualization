{
  "nbformat": 4,
  "nbformat_minor": 0,
  "metadata": {
    "colab": {
      "provenance": [],
      "collapsed_sections": [
        "xOcHqM8Hi_dk"
      ]
    },
    "kernelspec": {
      "name": "python3",
      "display_name": "Python 3"
    },
    "language_info": {
      "name": "python"
    }
  },
  "cells": [
    {
      "cell_type": "markdown",
      "source": [
        "# **Pandas boxplot**\n",
        "---\n",
        "A box plot is a method for graphically depicting groups of numerical data through their quartiles as illustrated in the code-block below.  \n",
        "More on the documentation can be found here: [`DataFrame.boxplot()`](https://pandas.pydata.org/docs/reference/api/pandas.DataFrame.boxplot.html), [`Series.plot.box()`](https://pandas.pydata.org/pandas-docs/stable/reference/api/pandas.Series.plot.box.html) and [`matplotlib.pyplot.boxplot()`](https://matplotlib.org/stable/api/_as_gen/matplotlib.pyplot.boxplot.html)\n",
        "```\n",
        "                 Q1   median  Q3   \n",
        "     Q1-1.5IQR    |-----:-----|    Q3+1.5IQR\n",
        "  o      |--------|     :     |--------|    o  o\n",
        "                  |-----:-----|  \n",
        "flier             <----------->            fliers  \n",
        "                       IQR\n",
        "```\n",
        "\n",
        "+ `df.boxplot(column=[list], **kwargs)` makes a box plot of the DataFrame columns\n",
        "+ `Series.plot.box(**kwargs)` makes a box plot of the particular Series\n",
        "\n",
        "+ By default, `matplotlib` is used, hence `matplotlib` plotting keyword arguments can be passed, and `matplotlib` methods can be called to modify the plot\n",
        "\n",
        ">> Arguments:\n",
        "+ `**kwargs` - Plotting key word arguments to be passed to [`matplotlib.pyplot.boxplot()`](https://matplotlib.org/stable/api/_as_gen/matplotlib.pyplot.boxplot.html) as well as additional keywords for [`DataFrame.plot()`](https://pandas.pydata.org/pandas-docs/stable/reference/api/pandas.DataFrame.plot.html#pandas.DataFrame.plot)\n",
        "\n",
        ">> Returns: [`matplotlib.axes.Axes`](https://matplotlib.org/stable/api/_as_gen/matplotlib.axes.Axes.html#matplotlib.axes.Axes) or `np.ndarray` of them"
      ],
      "metadata": {
        "id": "BQaIkUCLjcsU"
      }
    },
    {
      "cell_type": "markdown",
      "source": [
        "### Working with the Salaries Dataset"
      ],
      "metadata": {
        "id": "xOcHqM8Hi_dk"
      }
    },
    {
      "cell_type": "code",
      "source": [
        "# Import pandas\n",
        "import pandas as pd\n",
        "# Import matplotlib\n",
        "import matplotlib.pyplot as plt\n",
        "\n",
        "# Specify the style sheet to use\n",
        "plt.style.use(\"fast\")\n",
        "\n",
        "salaries = pd.read_csv(\"/content/Salaries.csv\", low_memory=False)\n",
        "houses = pd.read_csv(\"/content/kc_house_data.csv\", low_memory=False)\n",
        "\n",
        "# Convert columns to numeric\n",
        "salaries[\"BasePay\"] = pd.to_numeric(salaries[\"BasePay\"], errors=\"coerce\").fillna(0)\n",
        "salaries[\"OvertimePay\"] = pd.to_numeric(salaries[\"OvertimePay\"], errors=\"coerce\").fillna(0)\n",
        "salaries[\"OtherPay\"] = pd.to_numeric(salaries[\"OtherPay\"], errors=\"coerce\").fillna(0)\n",
        "\n",
        "# Make a sub-set of the dataframe\n",
        "df = salaries[[\"EmployeeName\", \"BasePay\", \"OvertimePay\", \"OtherPay\"]]\n",
        "df.set_index(\"EmployeeName\", inplace=True)\n",
        "\n",
        "# A little peek into the data\n",
        "df.head()"
      ],
      "metadata": {
        "colab": {
          "base_uri": "https://localhost:8080/",
          "height": 238
        },
        "id": "kGYe7CWejHyl",
        "outputId": "6e6f73c0-bbf7-438f-8b4e-9d1fac95f65f"
      },
      "execution_count": null,
      "outputs": [
        {
          "output_type": "execute_result",
          "data": {
            "text/plain": [
              "                     BasePay  OvertimePay   OtherPay\n",
              "EmployeeName                                        \n",
              "NATHANIEL FORD     167411.18         0.00  400184.25\n",
              "GARY JIMENEZ       155966.02    245131.88  137811.38\n",
              "ALBERT PARDINI     212739.13    106088.18   16452.60\n",
              "CHRISTOPHER CHONG   77916.00     56120.71  198306.90\n",
              "PATRICK GARDNER    134401.60      9737.00  182234.59"
            ],
            "text/html": [
              "\n",
              "  <div id=\"df-85fb0c5f-fc20-4182-9dad-f39908456adf\" class=\"colab-df-container\">\n",
              "    <div>\n",
              "<style scoped>\n",
              "    .dataframe tbody tr th:only-of-type {\n",
              "        vertical-align: middle;\n",
              "    }\n",
              "\n",
              "    .dataframe tbody tr th {\n",
              "        vertical-align: top;\n",
              "    }\n",
              "\n",
              "    .dataframe thead th {\n",
              "        text-align: right;\n",
              "    }\n",
              "</style>\n",
              "<table border=\"1\" class=\"dataframe\">\n",
              "  <thead>\n",
              "    <tr style=\"text-align: right;\">\n",
              "      <th></th>\n",
              "      <th>BasePay</th>\n",
              "      <th>OvertimePay</th>\n",
              "      <th>OtherPay</th>\n",
              "    </tr>\n",
              "    <tr>\n",
              "      <th>EmployeeName</th>\n",
              "      <th></th>\n",
              "      <th></th>\n",
              "      <th></th>\n",
              "    </tr>\n",
              "  </thead>\n",
              "  <tbody>\n",
              "    <tr>\n",
              "      <th>NATHANIEL FORD</th>\n",
              "      <td>167411.18</td>\n",
              "      <td>0.00</td>\n",
              "      <td>400184.25</td>\n",
              "    </tr>\n",
              "    <tr>\n",
              "      <th>GARY JIMENEZ</th>\n",
              "      <td>155966.02</td>\n",
              "      <td>245131.88</td>\n",
              "      <td>137811.38</td>\n",
              "    </tr>\n",
              "    <tr>\n",
              "      <th>ALBERT PARDINI</th>\n",
              "      <td>212739.13</td>\n",
              "      <td>106088.18</td>\n",
              "      <td>16452.60</td>\n",
              "    </tr>\n",
              "    <tr>\n",
              "      <th>CHRISTOPHER CHONG</th>\n",
              "      <td>77916.00</td>\n",
              "      <td>56120.71</td>\n",
              "      <td>198306.90</td>\n",
              "    </tr>\n",
              "    <tr>\n",
              "      <th>PATRICK GARDNER</th>\n",
              "      <td>134401.60</td>\n",
              "      <td>9737.00</td>\n",
              "      <td>182234.59</td>\n",
              "    </tr>\n",
              "  </tbody>\n",
              "</table>\n",
              "</div>\n",
              "    <div class=\"colab-df-buttons\">\n",
              "\n",
              "  <div class=\"colab-df-container\">\n",
              "    <button class=\"colab-df-convert\" onclick=\"convertToInteractive('df-85fb0c5f-fc20-4182-9dad-f39908456adf')\"\n",
              "            title=\"Convert this dataframe to an interactive table.\"\n",
              "            style=\"display:none;\">\n",
              "\n",
              "  <svg xmlns=\"http://www.w3.org/2000/svg\" height=\"24px\" viewBox=\"0 -960 960 960\">\n",
              "    <path d=\"M120-120v-720h720v720H120Zm60-500h600v-160H180v160Zm220 220h160v-160H400v160Zm0 220h160v-160H400v160ZM180-400h160v-160H180v160Zm440 0h160v-160H620v160ZM180-180h160v-160H180v160Zm440 0h160v-160H620v160Z\"/>\n",
              "  </svg>\n",
              "    </button>\n",
              "\n",
              "  <style>\n",
              "    .colab-df-container {\n",
              "      display:flex;\n",
              "      gap: 12px;\n",
              "    }\n",
              "\n",
              "    .colab-df-convert {\n",
              "      background-color: #E8F0FE;\n",
              "      border: none;\n",
              "      border-radius: 50%;\n",
              "      cursor: pointer;\n",
              "      display: none;\n",
              "      fill: #1967D2;\n",
              "      height: 32px;\n",
              "      padding: 0 0 0 0;\n",
              "      width: 32px;\n",
              "    }\n",
              "\n",
              "    .colab-df-convert:hover {\n",
              "      background-color: #E2EBFA;\n",
              "      box-shadow: 0px 1px 2px rgba(60, 64, 67, 0.3), 0px 1px 3px 1px rgba(60, 64, 67, 0.15);\n",
              "      fill: #174EA6;\n",
              "    }\n",
              "\n",
              "    .colab-df-buttons div {\n",
              "      margin-bottom: 4px;\n",
              "    }\n",
              "\n",
              "    [theme=dark] .colab-df-convert {\n",
              "      background-color: #3B4455;\n",
              "      fill: #D2E3FC;\n",
              "    }\n",
              "\n",
              "    [theme=dark] .colab-df-convert:hover {\n",
              "      background-color: #434B5C;\n",
              "      box-shadow: 0px 1px 3px 1px rgba(0, 0, 0, 0.15);\n",
              "      filter: drop-shadow(0px 1px 2px rgba(0, 0, 0, 0.3));\n",
              "      fill: #FFFFFF;\n",
              "    }\n",
              "  </style>\n",
              "\n",
              "    <script>\n",
              "      const buttonEl =\n",
              "        document.querySelector('#df-85fb0c5f-fc20-4182-9dad-f39908456adf button.colab-df-convert');\n",
              "      buttonEl.style.display =\n",
              "        google.colab.kernel.accessAllowed ? 'block' : 'none';\n",
              "\n",
              "      async function convertToInteractive(key) {\n",
              "        const element = document.querySelector('#df-85fb0c5f-fc20-4182-9dad-f39908456adf');\n",
              "        const dataTable =\n",
              "          await google.colab.kernel.invokeFunction('convertToInteractive',\n",
              "                                                    [key], {});\n",
              "        if (!dataTable) return;\n",
              "\n",
              "        const docLinkHtml = 'Like what you see? Visit the ' +\n",
              "          '<a target=\"_blank\" href=https://colab.research.google.com/notebooks/data_table.ipynb>data table notebook</a>'\n",
              "          + ' to learn more about interactive tables.';\n",
              "        element.innerHTML = '';\n",
              "        dataTable['output_type'] = 'display_data';\n",
              "        await google.colab.output.renderOutput(dataTable, element);\n",
              "        const docLink = document.createElement('div');\n",
              "        docLink.innerHTML = docLinkHtml;\n",
              "        element.appendChild(docLink);\n",
              "      }\n",
              "    </script>\n",
              "  </div>\n",
              "\n",
              "\n",
              "<div id=\"df-d0667189-48e2-4ddf-97d0-7763cdd01bf5\">\n",
              "  <button class=\"colab-df-quickchart\" onclick=\"quickchart('df-d0667189-48e2-4ddf-97d0-7763cdd01bf5')\"\n",
              "            title=\"Suggest charts\"\n",
              "            style=\"display:none;\">\n",
              "\n",
              "<svg xmlns=\"http://www.w3.org/2000/svg\" height=\"24px\"viewBox=\"0 0 24 24\"\n",
              "     width=\"24px\">\n",
              "    <g>\n",
              "        <path d=\"M19 3H5c-1.1 0-2 .9-2 2v14c0 1.1.9 2 2 2h14c1.1 0 2-.9 2-2V5c0-1.1-.9-2-2-2zM9 17H7v-7h2v7zm4 0h-2V7h2v10zm4 0h-2v-4h2v4z\"/>\n",
              "    </g>\n",
              "</svg>\n",
              "  </button>\n",
              "\n",
              "<style>\n",
              "  .colab-df-quickchart {\n",
              "      --bg-color: #E8F0FE;\n",
              "      --fill-color: #1967D2;\n",
              "      --hover-bg-color: #E2EBFA;\n",
              "      --hover-fill-color: #174EA6;\n",
              "      --disabled-fill-color: #AAA;\n",
              "      --disabled-bg-color: #DDD;\n",
              "  }\n",
              "\n",
              "  [theme=dark] .colab-df-quickchart {\n",
              "      --bg-color: #3B4455;\n",
              "      --fill-color: #D2E3FC;\n",
              "      --hover-bg-color: #434B5C;\n",
              "      --hover-fill-color: #FFFFFF;\n",
              "      --disabled-bg-color: #3B4455;\n",
              "      --disabled-fill-color: #666;\n",
              "  }\n",
              "\n",
              "  .colab-df-quickchart {\n",
              "    background-color: var(--bg-color);\n",
              "    border: none;\n",
              "    border-radius: 50%;\n",
              "    cursor: pointer;\n",
              "    display: none;\n",
              "    fill: var(--fill-color);\n",
              "    height: 32px;\n",
              "    padding: 0;\n",
              "    width: 32px;\n",
              "  }\n",
              "\n",
              "  .colab-df-quickchart:hover {\n",
              "    background-color: var(--hover-bg-color);\n",
              "    box-shadow: 0 1px 2px rgba(60, 64, 67, 0.3), 0 1px 3px 1px rgba(60, 64, 67, 0.15);\n",
              "    fill: var(--button-hover-fill-color);\n",
              "  }\n",
              "\n",
              "  .colab-df-quickchart-complete:disabled,\n",
              "  .colab-df-quickchart-complete:disabled:hover {\n",
              "    background-color: var(--disabled-bg-color);\n",
              "    fill: var(--disabled-fill-color);\n",
              "    box-shadow: none;\n",
              "  }\n",
              "\n",
              "  .colab-df-spinner {\n",
              "    border: 2px solid var(--fill-color);\n",
              "    border-color: transparent;\n",
              "    border-bottom-color: var(--fill-color);\n",
              "    animation:\n",
              "      spin 1s steps(1) infinite;\n",
              "  }\n",
              "\n",
              "  @keyframes spin {\n",
              "    0% {\n",
              "      border-color: transparent;\n",
              "      border-bottom-color: var(--fill-color);\n",
              "      border-left-color: var(--fill-color);\n",
              "    }\n",
              "    20% {\n",
              "      border-color: transparent;\n",
              "      border-left-color: var(--fill-color);\n",
              "      border-top-color: var(--fill-color);\n",
              "    }\n",
              "    30% {\n",
              "      border-color: transparent;\n",
              "      border-left-color: var(--fill-color);\n",
              "      border-top-color: var(--fill-color);\n",
              "      border-right-color: var(--fill-color);\n",
              "    }\n",
              "    40% {\n",
              "      border-color: transparent;\n",
              "      border-right-color: var(--fill-color);\n",
              "      border-top-color: var(--fill-color);\n",
              "    }\n",
              "    60% {\n",
              "      border-color: transparent;\n",
              "      border-right-color: var(--fill-color);\n",
              "    }\n",
              "    80% {\n",
              "      border-color: transparent;\n",
              "      border-right-color: var(--fill-color);\n",
              "      border-bottom-color: var(--fill-color);\n",
              "    }\n",
              "    90% {\n",
              "      border-color: transparent;\n",
              "      border-bottom-color: var(--fill-color);\n",
              "    }\n",
              "  }\n",
              "</style>\n",
              "\n",
              "  <script>\n",
              "    async function quickchart(key) {\n",
              "      const quickchartButtonEl =\n",
              "        document.querySelector('#' + key + ' button');\n",
              "      quickchartButtonEl.disabled = true;  // To prevent multiple clicks.\n",
              "      quickchartButtonEl.classList.add('colab-df-spinner');\n",
              "      try {\n",
              "        const charts = await google.colab.kernel.invokeFunction(\n",
              "            'suggestCharts', [key], {});\n",
              "      } catch (error) {\n",
              "        console.error('Error during call to suggestCharts:', error);\n",
              "      }\n",
              "      quickchartButtonEl.classList.remove('colab-df-spinner');\n",
              "      quickchartButtonEl.classList.add('colab-df-quickchart-complete');\n",
              "    }\n",
              "    (() => {\n",
              "      let quickchartButtonEl =\n",
              "        document.querySelector('#df-d0667189-48e2-4ddf-97d0-7763cdd01bf5 button');\n",
              "      quickchartButtonEl.style.display =\n",
              "        google.colab.kernel.accessAllowed ? 'block' : 'none';\n",
              "    })();\n",
              "  </script>\n",
              "</div>\n",
              "\n",
              "    </div>\n",
              "  </div>\n"
            ],
            "application/vnd.google.colaboratory.intrinsic+json": {
              "type": "dataframe",
              "variable_name": "df"
            }
          },
          "metadata": {},
          "execution_count": 11
        }
      ]
    },
    {
      "cell_type": "code",
      "source": [
        "\"\"\"\n",
        "  Make box plot showing distribution of the columns in Salaries dataset\n",
        "\"\"\"\n",
        "# Define figure dimensions\n",
        "plt.figure(figsize=(5,4), layout=\"tight\")\n",
        "# Generate the Plot\n",
        "df.plot.box()\n",
        "\n",
        "# Customize plot using matplotlib methods\n",
        "plt.ylabel(\"Pay Amount in $\", fontsize=13)\n",
        "plt.xlabel(\"Type of Pay\", fontsize=13)\n",
        "plt.title(\"San Francisco Salaries Distribution\", pad=15)\n",
        "\n",
        "plt.show()"
      ],
      "metadata": {
        "colab": {
          "base_uri": "https://localhost:8080/",
          "height": 505
        },
        "id": "FSTo2LWfkTDq",
        "outputId": "296cd5c5-6b6b-4d9f-d4ff-da881a806bed"
      },
      "execution_count": null,
      "outputs": [
        {
          "output_type": "display_data",
          "data": {
            "text/plain": [
              "<Figure size 500x400 with 0 Axes>"
            ]
          },
          "metadata": {}
        },
        {
          "output_type": "display_data",
          "data": {
            "text/plain": [
              "<Figure size 640x480 with 1 Axes>"
            ],
            "image/png": "[encoded data removed]"
          },
          "metadata": {}
        }
      ]
    },
    {
      "cell_type": "markdown",
      "source": [
        "### Working with the `kc_house_data.csv` Dataset"
      ],
      "metadata": {
        "id": "CTLtogK9hYtm"
      }
    },
    {
      "cell_type": "code",
      "source": [
        "\"\"\"\n",
        "  Make box plot showing distribution of Bedrooms in the Houses Dataset\n",
        "\"\"\"\n",
        "# Define figure dimensions\n",
        "plt.figure(figsize=(5,4), layout=\"tight\")\n",
        "# Generate the Plot\n",
        "houses.rename(columns={\"bedrooms\":\"Bedrooms\"})[\"Bedrooms\"].plot.box(showfliers=False,\n",
        "                            meanline=True,\n",
        "                            showmeans=True,\n",
        "                            medianprops=dict(color=\"#7c0902\", linewidth=\"2.0\"))\n",
        "\n",
        "# Customize plot using matplotlib methods\n",
        "plt.grid(visible=True, axis=\"y\", color=\"#e5e4e2\")\n",
        "plt.ylabel(\"No. Bedrooms\", fontsize=13)\n",
        "plt.title(\"Bedroom Number Distribution from House Sales Data\", pad=10)\n",
        "\n",
        "plt.show()"
      ],
      "metadata": {
        "colab": {
          "base_uri": "https://localhost:8080/",
          "height": 407
        },
        "id": "tVSSSttLl43c",
        "outputId": "bc57095d-7239-4e0c-8ca2-29a93aab26b7"
      },
      "execution_count": null,
      "outputs": [
        {
          "output_type": "display_data",
          "data": {
            "text/plain": [
              "<Figure size 500x400 with 1 Axes>"
            ],
            "image/png": "[encoded data removed]"
          },
          "metadata": {}
        }
      ]
    },
    {
      "cell_type": "code",
      "source": [
        "# See how the box plot compares to these values\n",
        "houses[\"bedrooms\"].describe()"
      ],
      "metadata": {
        "colab": {
          "base_uri": "https://localhost:8080/"
        },
        "id": "AMvsrK5DoYba",
        "outputId": "091ca012-62fb-474c-b58f-019ecbf82e1b"
      },
      "execution_count": null,
      "outputs": [
        {
          "output_type": "execute_result",
          "data": {
            "text/plain": [
              "count    21613.000000\n",
              "mean         3.370842\n",
              "std          0.930062\n",
              "min          0.000000\n",
              "25%          3.000000\n",
              "50%          3.000000\n",
              "75%          4.000000\n",
              "max         33.000000\n",
              "Name: bedrooms, dtype: float64"
            ]
          },
          "metadata": {},
          "execution_count": 76
        }
      ]
    },
    {
      "cell_type": "markdown",
      "source": [
        "# **Pandas `scatter` plot**\n",
        "---\n",
        "A scatter plot is a chart type used to observe the relationship between variables where markers are used to represent each point.  \n",
        "More on the documentation can be found here: [`DataFrame.plot.scatter`](https://pandas.pydata.org/docs/reference/api/pandas.DataFrame.plot.scatter.html) and  [`matplotlib.pyplot.scatter`](https://matplotlib.org/stable/api/_as_gen/matplotlib.pyplot.scatter.html#matplotlib.pyplot.scatter)\n",
        "\n",
        ">> Method call:\n",
        "+ `df.plot.scatter(x, y, **kwargs)`\n",
        "+ `df.plot(kind='scatter', x, y, **kwargs)`  \n",
        ">> + By default, `matplotlib` is used, hence `matplotlib` plotting keyword arguments can be passed, and `matplotlib` methods can be called to modify the plot\n",
        "\n",
        ">> Arguments:\n",
        "+ `x` - The column name or column position to be used as horizontal coordinates for each point.\n",
        "+ `y` - The column name or column position to be used as vertical coordinates for each point.\n",
        "+ `**kwargs` - Plotting key word arguments to be passed to [`matplotlib.pyplot.scatter()`](https://matplotlib.org/stable/api/_as_gen/matplotlib.pyplot.scatter.html#matplotlib.pyplot.scatter) as well as additional keywords for [`DataFrame.plot()`](https://pandas.pydata.org/pandas-docs/stable/reference/api/pandas.DataFrame.plot.html#pandas.DataFrame.plot)\n",
        "\n",
        ">> Returns: [`matplotlib.axes.Axes`](https://matplotlib.org/stable/api/_as_gen/matplotlib.axes.Axes.html#matplotlib.axes.Axes) or `np.ndarray` of them"
      ],
      "metadata": {
        "id": "U0XM_ieblnAG"
      }
    },
    {
      "cell_type": "markdown",
      "source": [
        "### Working with the King County House Sales Dataset"
      ],
      "metadata": {
        "id": "Alm6SY3jhg7I"
      }
    },
    {
      "cell_type": "code",
      "source": [
        "\"\"\"\n",
        "  Ploting the relationship betweeen bathrooms against bedrooms\n",
        "\"\"\"\n",
        "# Define figure dimensions\n",
        "plt.figure(figsize=(5,4), layout=\"tight\")\n",
        "houses.plot.scatter(x=\"bedrooms\",\n",
        "                    y=\"bathrooms\",\n",
        "                    marker=\"*\",\n",
        "                    color=\"#7f1743\")\n",
        "\n",
        "# Customize plot using matplotlib methods\n",
        "plt.ylabel(\"No. Bathrooms\", fontsize=13)\n",
        "plt.xlabel(\"No. Bedrooms\", fontsize=13)\n",
        "plt.title(\"No. of Bathrooms vs No. of Bedrooms\", pad=10)\n",
        "\n",
        "plt.show()"
      ],
      "metadata": {
        "colab": {
          "base_uri": "https://localhost:8080/",
          "height": 498
        },
        "id": "w8WJTSw2hm1N",
        "outputId": "3fc50764-945c-4486-cb98-36960ae4c9ea"
      },
      "execution_count": null,
      "outputs": [
        {
          "output_type": "display_data",
          "data": {
            "text/plain": [
              "<Figure size 500x400 with 0 Axes>"
            ]
          },
          "metadata": {}
        },
        {
          "output_type": "display_data",
          "data": {
            "text/plain": [
              "<Figure size 640x480 with 1 Axes>"
            ],
            "image/png": "[encoded data removed]"
          },
          "metadata": {}
        }
      ]
    },
    {
      "cell_type": "markdown",
      "source": [
        "# **Pandas `pie` plot**\n",
        "---\n",
        "A pie plot is a chart that represents data in a circular graph.  \n",
        "More on the documentation can be found here: [`DataFrame.plot.pie()`](https://pandas.pydata.org/docs/reference/api/pandas.DataFrame.plot.pie.html), [`Series.plot.pie()`](https://pandas.pydata.org/docs/reference/api/pandas.Series.plot.pie.html), [`matplotlib.pyplot.pie()`](https://matplotlib.org/stable/api/_as_gen/matplotlib.pyplot.pie.html) and sample customization [`here`](https://proclusacademy.com/blog/customize_matplotlib_piechart/)\n",
        "\n",
        ">> Method call:\n",
        "+ `df.plot.pie(**kwargs)` / `df.plot(kind=\"pie\", **kwargs)`\n",
        "+ `Series.plot.pie(**kwargs)` / `Series.plot(kind=\"pie\", **kwargs)`  \n",
        "\n",
        ">> + By default, `matplotlib` is used, hence `matplotlib` plotting keyword arguments can be passed, and `matplotlib` methods can be called to modify the plot\n",
        "\n",
        ">> Arguments:\n",
        "+ `**kwargs` - Plotting key word arguments to be passed to [`matplotlib.pyplot.pie()`](https://matplotlib.org/stable/api/_as_gen/matplotlib.pyplot.pie.html) as well as additional keywords for [`DataFrame.plot()`](https://pandas.pydata.org/pandas-docs/stable/reference/api/pandas.DataFrame.plot.html#pandas.DataFrame.plot)\n",
        "\n",
        ">> Returns: [`matplotlib.axes.Axes`](https://matplotlib.org/stable/api/_as_gen/matplotlib.axes.Axes.html#matplotlib.axes.Axes) or `np.ndarray` of them"
      ],
      "metadata": {
        "id": "VtSFmVRSe0Kw"
      }
    },
    {
      "cell_type": "markdown",
      "source": [
        "# **Exercise Time!** 💪 💪 💪\n",
        "---\n",
        "Work with  `pandas` and the `billboard_charts.csv` dataset to generate the `postman.png` pie plot in the `pics` folder. It visualizes the various artists who charted with the song `Please Mr. Postman`\n",
        "\n",
        "+ Add in the custom title\n",
        "+ Use this list of colors: `colors = [\"#6c5ce7\" ,\"#00cec9\", \"#74b9ff\"]`\n",
        "+ Explode the `Gentle Persuasion` slice by `0.1`"
      ],
      "metadata": {
        "id": "GPoh0Y2QfcN5"
      }
    },
    {
      "cell_type": "code",
      "execution_count": null,
      "metadata": {
        "id": "331Rpn-Yi5g3",
        "colab": {
          "base_uri": "https://localhost:8080/",
          "height": 143
        },
        "outputId": "497318ee-2b39-4cbd-a6e3-fdfd4d75480b"
      },
      "outputs": [
        {
          "output_type": "execute_result",
          "data": {
            "text/plain": [
              "         date  rank           song                         artist  last-week  \\\n",
              "0  2021-11-06     1     Easy On Me                          Adele        1.0   \n",
              "1  2021-11-06     2           Stay  The Kid LAROI & Justin Bieber        2.0   \n",
              "2  2021-11-06     3  Industry Baby        Lil Nas X & Jack Harlow        3.0   \n",
              "\n",
              "   peak-rank  weeks-on-board  \n",
              "0          1               3  \n",
              "1          1              16  \n",
              "2          1              14  "
            ],
            "text/html": [
              "\n",
              "  <div id=\"df-a807ed0d-9c1c-42d2-946a-440fb06e7636\" class=\"colab-df-container\">\n",
              "    <div>\n",
              "<style scoped>\n",
              "    .dataframe tbody tr th:only-of-type {\n",
              "        vertical-align: middle;\n",
              "    }\n",
              "\n",
              "    .dataframe tbody tr th {\n",
              "        vertical-align: top;\n",
              "    }\n",
              "\n",
              "    .dataframe thead th {\n",
              "        text-align: right;\n",
              "    }\n",
              "</style>\n",
              "<table border=\"1\" class=\"dataframe\">\n",
              "  <thead>\n",
              "    <tr style=\"text-align: right;\">\n",
              "      <th></th>\n",
              "      <th>date</th>\n",
              "      <th>rank</th>\n",
              "      <th>song</th>\n",
              "      <th>artist</th>\n",
              "      <th>last-week</th>\n",
              "      <th>peak-rank</th>\n",
              "      <th>weeks-on-board</th>\n",
              "    </tr>\n",
              "  </thead>\n",
              "  <tbody>\n",
              "    <tr>\n",
              "      <th>0</th>\n",
              "      <td>2021-11-06</td>\n",
              "      <td>1</td>\n",
              "      <td>Easy On Me</td>\n",
              "      <td>Adele</td>\n",
              "      <td>1.0</td>\n",
              "      <td>1</td>\n",
              "      <td>3</td>\n",
              "    </tr>\n",
              "    <tr>\n",
              "      <th>1</th>\n",
              "      <td>2021-11-06</td>\n",
              "      <td>2</td>\n",
              "      <td>Stay</td>\n",
              "      <td>The Kid LAROI &amp; Justin Bieber</td>\n",
              "      <td>2.0</td>\n",
              "      <td>1</td>\n",
              "      <td>16</td>\n",
              "    </tr>\n",
              "    <tr>\n",
              "      <th>2</th>\n",
              "      <td>2021-11-06</td>\n",
              "      <td>3</td>\n",
              "      <td>Industry Baby</td>\n",
              "      <td>Lil Nas X &amp; Jack Harlow</td>\n",
              "      <td>3.0</td>\n",
              "      <td>1</td>\n",
              "      <td>14</td>\n",
              "    </tr>\n",
              "  </tbody>\n",
              "</table>\n",
              "</div>\n",
              "    <div class=\"colab-df-buttons\">\n",
              "\n",
              "  <div class=\"colab-df-container\">\n",
              "    <button class=\"colab-df-convert\" onclick=\"convertToInteractive('df-a807ed0d-9c1c-42d2-946a-440fb06e7636')\"\n",
              "            title=\"Convert this dataframe to an interactive table.\"\n",
              "            style=\"display:none;\">\n",
              "\n",
              "  <svg xmlns=\"http://www.w3.org/2000/svg\" height=\"24px\" viewBox=\"0 -960 960 960\">\n",
              "    <path d=\"M120-120v-720h720v720H120Zm60-500h600v-160H180v160Zm220 220h160v-160H400v160Zm0 220h160v-160H400v160ZM180-400h160v-160H180v160Zm440 0h160v-160H620v160ZM180-180h160v-160H180v160Zm440 0h160v-160H620v160Z\"/>\n",
              "  </svg>\n",
              "    </button>\n",
              "\n",
              "  <style>\n",
              "    .colab-df-container {\n",
              "      display:flex;\n",
              "      gap: 12px;\n",
              "    }\n",
              "\n",
              "    .colab-df-convert {\n",
              "      background-color: #E8F0FE;\n",
              "      border: none;\n",
              "      border-radius: 50%;\n",
              "      cursor: pointer;\n",
              "      display: none;\n",
              "      fill: #1967D2;\n",
              "      height: 32px;\n",
              "      padding: 0 0 0 0;\n",
              "      width: 32px;\n",
              "    }\n",
              "\n",
              "    .colab-df-convert:hover {\n",
              "      background-color: #E2EBFA;\n",
              "      box-shadow: 0px 1px 2px rgba(60, 64, 67, 0.3), 0px 1px 3px 1px rgba(60, 64, 67, 0.15);\n",
              "      fill: #174EA6;\n",
              "    }\n",
              "\n",
              "    .colab-df-buttons div {\n",
              "      margin-bottom: 4px;\n",
              "    }\n",
              "\n",
              "    [theme=dark] .colab-df-convert {\n",
              "      background-color: #3B4455;\n",
              "      fill: #D2E3FC;\n",
              "    }\n",
              "\n",
              "    [theme=dark] .colab-df-convert:hover {\n",
              "      background-color: #434B5C;\n",
              "      box-shadow: 0px 1px 3px 1px rgba(0, 0, 0, 0.15);\n",
              "      filter: drop-shadow(0px 1px 2px rgba(0, 0, 0, 0.3));\n",
              "      fill: #FFFFFF;\n",
              "    }\n",
              "  </style>\n",
              "\n",
              "    <script>\n",
              "      const buttonEl =\n",
              "        document.querySelector('#df-a807ed0d-9c1c-42d2-946a-440fb06e7636 button.colab-df-convert');\n",
              "      buttonEl.style.display =\n",
              "        google.colab.kernel.accessAllowed ? 'block' : 'none';\n",
              "\n",
              "      async function convertToInteractive(key) {\n",
              "        const element = document.querySelector('#df-a807ed0d-9c1c-42d2-946a-440fb06e7636');\n",
              "        const dataTable =\n",
              "          await google.colab.kernel.invokeFunction('convertToInteractive',\n",
              "                                                    [key], {});\n",
              "        if (!dataTable) return;\n",
              "\n",
              "        const docLinkHtml = 'Like what you see? Visit the ' +\n",
              "          '<a target=\"_blank\" href=https://colab.research.google.com/notebooks/data_table.ipynb>data table notebook</a>'\n",
              "          + ' to learn more about interactive tables.';\n",
              "        element.innerHTML = '';\n",
              "        dataTable['output_type'] = 'display_data';\n",
              "        await google.colab.output.renderOutput(dataTable, element);\n",
              "        const docLink = document.createElement('div');\n",
              "        docLink.innerHTML = docLinkHtml;\n",
              "        element.appendChild(docLink);\n",
              "      }\n",
              "    </script>\n",
              "  </div>\n",
              "\n",
              "\n",
              "<div id=\"df-4f4a7fc2-b1cd-40e1-b908-d4aa94643597\">\n",
              "  <button class=\"colab-df-quickchart\" onclick=\"quickchart('df-4f4a7fc2-b1cd-40e1-b908-d4aa94643597')\"\n",
              "            title=\"Suggest charts\"\n",
              "            style=\"display:none;\">\n",
              "\n",
              "<svg xmlns=\"http://www.w3.org/2000/svg\" height=\"24px\"viewBox=\"0 0 24 24\"\n",
              "     width=\"24px\">\n",
              "    <g>\n",
              "        <path d=\"M19 3H5c-1.1 0-2 .9-2 2v14c0 1.1.9 2 2 2h14c1.1 0 2-.9 2-2V5c0-1.1-.9-2-2-2zM9 17H7v-7h2v7zm4 0h-2V7h2v10zm4 0h-2v-4h2v4z\"/>\n",
              "    </g>\n",
              "</svg>\n",
              "  </button>\n",
              "\n",
              "<style>\n",
              "  .colab-df-quickchart {\n",
              "      --bg-color: #E8F0FE;\n",
              "      --fill-color: #1967D2;\n",
              "      --hover-bg-color: #E2EBFA;\n",
              "      --hover-fill-color: #174EA6;\n",
              "      --disabled-fill-color: #AAA;\n",
              "      --disabled-bg-color: #DDD;\n",
              "  }\n",
              "\n",
              "  [theme=dark] .colab-df-quickchart {\n",
              "      --bg-color: #3B4455;\n",
              "      --fill-color: #D2E3FC;\n",
              "      --hover-bg-color: #434B5C;\n",
              "      --hover-fill-color: #FFFFFF;\n",
              "      --disabled-bg-color: #3B4455;\n",
              "      --disabled-fill-color: #666;\n",
              "  }\n",
              "\n",
              "  .colab-df-quickchart {\n",
              "    background-color: var(--bg-color);\n",
              "    border: none;\n",
              "    border-radius: 50%;\n",
              "    cursor: pointer;\n",
              "    display: none;\n",
              "    fill: var(--fill-color);\n",
              "    height: 32px;\n",
              "    padding: 0;\n",
              "    width: 32px;\n",
              "  }\n",
              "\n",
              "  .colab-df-quickchart:hover {\n",
              "    background-color: var(--hover-bg-color);\n",
              "    box-shadow: 0 1px 2px rgba(60, 64, 67, 0.3), 0 1px 3px 1px rgba(60, 64, 67, 0.15);\n",
              "    fill: var(--button-hover-fill-color);\n",
              "  }\n",
              "\n",
              "  .colab-df-quickchart-complete:disabled,\n",
              "  .colab-df-quickchart-complete:disabled:hover {\n",
              "    background-color: var(--disabled-bg-color);\n",
              "    fill: var(--disabled-fill-color);\n",
              "    box-shadow: none;\n",
              "  }\n",
              "\n",
              "  .colab-df-spinner {\n",
              "    border: 2px solid var(--fill-color);\n",
              "    border-color: transparent;\n",
              "    border-bottom-color: var(--fill-color);\n",
              "    animation:\n",
              "      spin 1s steps(1) infinite;\n",
              "  }\n",
              "\n",
              "  @keyframes spin {\n",
              "    0% {\n",
              "      border-color: transparent;\n",
              "      border-bottom-color: var(--fill-color);\n",
              "      border-left-color: var(--fill-color);\n",
              "    }\n",
              "    20% {\n",
              "      border-color: transparent;\n",
              "      border-left-color: var(--fill-color);\n",
              "      border-top-color: var(--fill-color);\n",
              "    }\n",
              "    30% {\n",
              "      border-color: transparent;\n",
              "      border-left-color: var(--fill-color);\n",
              "      border-top-color: var(--fill-color);\n",
              "      border-right-color: var(--fill-color);\n",
              "    }\n",
              "    40% {\n",
              "      border-color: transparent;\n",
              "      border-right-color: var(--fill-color);\n",
              "      border-top-color: var(--fill-color);\n",
              "    }\n",
              "    60% {\n",
              "      border-color: transparent;\n",
              "      border-right-color: var(--fill-color);\n",
              "    }\n",
              "    80% {\n",
              "      border-color: transparent;\n",
              "      border-right-color: var(--fill-color);\n",
              "      border-bottom-color: var(--fill-color);\n",
              "    }\n",
              "    90% {\n",
              "      border-color: transparent;\n",
              "      border-bottom-color: var(--fill-color);\n",
              "    }\n",
              "  }\n",
              "</style>\n",
              "\n",
              "  <script>\n",
              "    async function quickchart(key) {\n",
              "      const quickchartButtonEl =\n",
              "        document.querySelector('#' + key + ' button');\n",
              "      quickchartButtonEl.disabled = true;  // To prevent multiple clicks.\n",
              "      quickchartButtonEl.classList.add('colab-df-spinner');\n",
              "      try {\n",
              "        const charts = await google.colab.kernel.invokeFunction(\n",
              "            'suggestCharts', [key], {});\n",
              "      } catch (error) {\n",
              "        console.error('Error during call to suggestCharts:', error);\n",
              "      }\n",
              "      quickchartButtonEl.classList.remove('colab-df-spinner');\n",
              "      quickchartButtonEl.classList.add('colab-df-quickchart-complete');\n",
              "    }\n",
              "    (() => {\n",
              "      let quickchartButtonEl =\n",
              "        document.querySelector('#df-4f4a7fc2-b1cd-40e1-b908-d4aa94643597 button');\n",
              "      quickchartButtonEl.style.display =\n",
              "        google.colab.kernel.accessAllowed ? 'block' : 'none';\n",
              "    })();\n",
              "  </script>\n",
              "</div>\n",
              "\n",
              "    </div>\n",
              "  </div>\n"
            ],
            "application/vnd.google.colaboratory.intrinsic+json": {
              "type": "dataframe",
              "variable_name": "charts"
            }
          },
          "metadata": {},
          "execution_count": 46
        }
      ],
      "source": [
        "# Import libraries\n",
        "import pandas as pd\n",
        "import matplotlib.pyplot as plt\n",
        "import matplotlib as mpl\n",
        "# Specify the style sheet\n",
        "plt.style.use(\"fast\")\n",
        "\n",
        "# Load Dataset as a DataFrame\n",
        "charts = pd.read_csv(\"/content/billboard_charts.csv\")\n",
        "\n",
        "# A little peek into the data\n",
        "charts.head(3)"
      ]
    },
    {
      "cell_type": "code",
      "source": [
        "# Filter by song Please Mr. Postman, narrow down to the artist, and do valuecounts\n",
        "charts[charts[\"song\"]==\"Please Mr. Postman\"][\"artist\"].value_counts()"
      ],
      "metadata": {
        "colab": {
          "base_uri": "https://localhost:8080/"
        },
        "id": "IffP3ISVe_h4",
        "outputId": "a8738b20-d41b-4172-a82d-8966ef020530"
      },
      "execution_count": null,
      "outputs": [
        {
          "output_type": "execute_result",
          "data": {
            "text/plain": [
              "artist\n",
              "The Marvelettes      23\n",
              "Carpenters           17\n",
              "Gentle Persuasion     4\n",
              "Name: count, dtype: int64"
            ]
          },
          "metadata": {},
          "execution_count": 19
        }
      ]
    },
    {
      "cell_type": "markdown",
      "source": [
        "### I decided to make a donut plot instead 😉\n",
        "+ I first drew a `pie` chart\n",
        "+ Then overlay a `circle` to hide the centre of the pie Chart"
      ],
      "metadata": {
        "id": "HYTz_4sGpsPk"
      }
    },
    {
      "cell_type": "code",
      "source": [
        "# Plot the Series from above\n",
        "plt.figure(figsize=(5,5), layout=\"constrained\")\n",
        "charts[charts[\"song\"]==\"Please Mr. Postman\"][\"artist\"].value_counts().plot.pie(\n",
        "    colors=[\"#6c5ce7\" ,\"#00cec9\", \"#74b9ff\"],\n",
        "    explode=[0.01, 0.01, 0.1])\n",
        "\n",
        "# Customize with Matplotlib Methods\n",
        "plt.ylabel(\"\")\n",
        "plt.title(\"Please Mr. Postman Versions\", fontsize=13, pad=15)\n",
        "# Make a circle with white facecolor\n",
        "hole = mpl.patches.Circle((0,0), radius=0.6, facecolor=\"#ffffff\")\n",
        "# Overlay the circle atop the pie chart\n",
        "plt.gca().add_artist(hole)\n",
        "plt.show()"
      ],
      "metadata": {
        "colab": {
          "base_uri": "https://localhost:8080/",
          "height": 453
        },
        "id": "HgavRfMuhg6D",
        "outputId": "565fa30c-54f4-47d0-c5f4-f6b6deb0f38a"
      },
      "execution_count": null,
      "outputs": [
        {
          "output_type": "display_data",
          "data": {
            "text/plain": [
              "<Figure size 500x500 with 1 Axes>"
            ],
            "image/png": "[encoded data removed]"
          },
          "metadata": {}
        }
      ]
    }
  ]
}