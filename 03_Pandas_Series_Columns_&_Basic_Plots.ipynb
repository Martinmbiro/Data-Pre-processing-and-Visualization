{
  "nbformat": 4,
  "nbformat_minor": 0,
  "metadata": {
    "colab": {
      "provenance": [],
      "collapsed_sections": [
        "PIjFglTq7tkp"
      ],
      "toc_visible": true
    },
    "kernelspec": {
      "name": "python3",
      "display_name": "Python 3"
    },
    "language_info": {
      "name": "python"
    }
  },
  "cells": [
    {
      "cell_type": "markdown",
      "source": [
        "# **Series, columns & basic plots with Pandas**\n",
        "---\n",
        "* A `Series` is a data structure that comes with the `pandas`library.\n",
        "* `Series` are especially useful in selecting / narrowing down a `DataFrame` down to a single `column` at a time, in either of two ways: `df.age` or `df[\"age\"]`\n",
        "* A `Series` is a one-dimensional labeled *(indexed)* array capable of holding data of any type (integer, string, float, python objects, etc.)"
      ],
      "metadata": {
        "id": "LIofhUxjzELQ"
      }
    },
    {
      "cell_type": "code",
      "source": [
        "# Parsing our Datasets into DataFrames:\n",
        "import pandas as pd\n",
        "houses = pd.read_csv(\"/content/kc_house_data.csv\")\n",
        "titanic = pd.read_csv(\"/content/titanic.csv\")\n",
        "netflix = pd.read_csv(\"/content/netflix_titles.csv\", delimiter=\"|\", index_col=0)\n",
        "bestsellers = pd.read_csv(\"/content/bestsellers.csv\")"
      ],
      "metadata": {
        "id": "kjQ8GlQF67V7"
      },
      "execution_count": 4,
      "outputs": []
    },
    {
      "cell_type": "code",
      "source": [
        "# Peek into the titanic DataFrame\n",
        "titanic.info()"
      ],
      "metadata": {
        "colab": {
          "base_uri": "https://localhost:8080/"
        },
        "id": "RhCnE0pw7yBs",
        "outputId": "b8000833-2dfb-4147-caef-e833e21d10fa"
      },
      "execution_count": 5,
      "outputs": [
        {
          "output_type": "stream",
          "name": "stdout",
          "text": [
            "<class 'pandas.core.frame.DataFrame'>\n",
            "RangeIndex: 1309 entries, 0 to 1308\n",
            "Data columns (total 14 columns):\n",
            " #   Column     Non-Null Count  Dtype \n",
            "---  ------     --------------  ----- \n",
            " 0   pclass     1309 non-null   int64 \n",
            " 1   survived   1309 non-null   int64 \n",
            " 2   name       1309 non-null   object\n",
            " 3   sex        1309 non-null   object\n",
            " 4   age        1309 non-null   object\n",
            " 5   sibsp      1309 non-null   int64 \n",
            " 6   parch      1309 non-null   int64 \n",
            " 7   ticket     1309 non-null   object\n",
            " 8   fare       1309 non-null   object\n",
            " 9   cabin      1309 non-null   object\n",
            " 10  embarked   1309 non-null   object\n",
            " 11  boat       1309 non-null   object\n",
            " 12  body       1309 non-null   object\n",
            " 13  home.dest  1309 non-null   object\n",
            "dtypes: int64(4), object(10)\n",
            "memory usage: 143.3+ KB\n"
          ]
        }
      ]
    },
    {
      "cell_type": "markdown",
      "source": [
        "### Selecting a single column from the `titanic` DataFrame"
      ],
      "metadata": {
        "id": "99dVTEhh4rNR"
      }
    },
    {
      "cell_type": "code",
      "source": [
        "# Selecting the 'name' column from the titanic DataFrame\n",
        "titanic[\"name\"] # same as calling titanic.name"
      ],
      "metadata": {
        "colab": {
          "base_uri": "https://localhost:8080/"
        },
        "id": "cSaYPrTL7W2d",
        "outputId": "3befde55-a64b-462a-edad-17d21638b1f2"
      },
      "execution_count": 6,
      "outputs": [
        {
          "output_type": "execute_result",
          "data": {
            "text/plain": [
              "0                         Allen, Miss. Elisabeth Walton\n",
              "1                        Allison, Master. Hudson Trevor\n",
              "2                          Allison, Miss. Helen Loraine\n",
              "3                  Allison, Mr. Hudson Joshua Creighton\n",
              "4       Allison, Mrs. Hudson J C (Bessie Waldo Daniels)\n",
              "                             ...                       \n",
              "1304                               Zabour, Miss. Hileni\n",
              "1305                              Zabour, Miss. Thamine\n",
              "1306                          Zakarian, Mr. Mapriededer\n",
              "1307                                Zakarian, Mr. Ortin\n",
              "1308                                 Zimmerman, Mr. Leo\n",
              "Name: name, Length: 1309, dtype: object"
            ]
          },
          "metadata": {},
          "execution_count": 6
        }
      ]
    },
    {
      "cell_type": "code",
      "source": [
        "# Check out, the type returned from the above line of code is a pandas Series\n",
        "type(titanic[\"name\"])"
      ],
      "metadata": {
        "id": "SFcji8Xz8aJP"
      },
      "execution_count": null,
      "outputs": []
    },
    {
      "cell_type": "markdown",
      "source": [
        "Labels (index) in a `series` can either be numeric or otherwise (such as text)\n",
        "\n"
      ],
      "metadata": {
        "id": "FbPEC-zm_AAh"
      }
    },
    {
      "cell_type": "code",
      "source": [
        "# The code below returns a Series with 0 - 1308 as the labels or index(es), and values as male or female\n",
        "titanic[\"sex\"]"
      ],
      "metadata": {
        "colab": {
          "base_uri": "https://localhost:8080/"
        },
        "id": "YJsZ9c1a8ntG",
        "outputId": "3b39edd2-7de4-4be4-fa18-ebcab3bfd16d"
      },
      "execution_count": 8,
      "outputs": [
        {
          "output_type": "execute_result",
          "data": {
            "text/plain": [
              "0       female\n",
              "1         male\n",
              "2       female\n",
              "3         male\n",
              "4       female\n",
              "         ...  \n",
              "1304    female\n",
              "1305    female\n",
              "1306      male\n",
              "1307      male\n",
              "1308      male\n",
              "Name: sex, Length: 1309, dtype: object"
            ]
          },
          "metadata": {},
          "execution_count": 8
        }
      ]
    },
    {
      "cell_type": "code",
      "source": [
        "'''Whereas the code below returns a Series with id, price, floors, e.t.c as the labels or index(es),\n",
        "      and values as information to the right\n",
        "'''\n",
        "houses.mean(numeric_only=True)\n",
        "# Recall, the df.mean() method returns a Series"
      ],
      "metadata": {
        "colab": {
          "base_uri": "https://localhost:8080/"
        },
        "id": "-r7mXeJ1zF9R",
        "outputId": "bcc98859-6d47-4b4e-cb32-bfef218b4c15"
      },
      "execution_count": 9,
      "outputs": [
        {
          "output_type": "execute_result",
          "data": {
            "text/plain": [
              "id               4.580302e+09\n",
              "price            5.400881e+05\n",
              "bedrooms         3.370842e+00\n",
              "bathrooms        2.114757e+00\n",
              "sqft_living      2.079900e+03\n",
              "sqft_lot         1.510697e+04\n",
              "floors           1.494309e+00\n",
              "waterfront       7.541757e-03\n",
              "view             2.343034e-01\n",
              "condition        3.409430e+00\n",
              "grade            7.656873e+00\n",
              "sqft_above       1.788391e+03\n",
              "sqft_basement    2.915090e+02\n",
              "yr_built         1.971005e+03\n",
              "yr_renovated     8.440226e+01\n",
              "zipcode          9.807794e+04\n",
              "lat              4.756005e+01\n",
              "long            -1.222139e+02\n",
              "sqft_living15    1.986552e+03\n",
              "sqft_lot15       1.276846e+04\n",
              "dtype: float64"
            ]
          },
          "metadata": {},
          "execution_count": 9
        }
      ]
    },
    {
      "cell_type": "markdown",
      "source": [
        "### Basic Baaaaasic `Series` methods\n",
        "A lot of the `DataFrame` methods & properties also exist on the `Series` data structure"
      ],
      "metadata": {
        "id": "YVwrzGLn0OrS"
      }
    },
    {
      "cell_type": "code",
      "source": [
        "# Sum\n",
        "houses[\"price\"].sum()"
      ],
      "metadata": {
        "colab": {
          "base_uri": "https://localhost:8080/"
        },
        "id": "eE-TE1BN1E82",
        "outputId": "42c61de9-ac0e-4dc2-ecfd-90634498ea84"
      },
      "execution_count": 10,
      "outputs": [
        {
          "output_type": "execute_result",
          "data": {
            "text/plain": [
              "11672925008.0"
            ]
          },
          "metadata": {},
          "execution_count": 10
        }
      ]
    },
    {
      "cell_type": "code",
      "source": [
        "# Max\n",
        "houses[\"bedrooms\"].max()"
      ],
      "metadata": {
        "colab": {
          "base_uri": "https://localhost:8080/"
        },
        "id": "QcTqgZfk1Mni",
        "outputId": "3efea3a7-0ba5-4d35-91e5-dd9600129edc"
      },
      "execution_count": 11,
      "outputs": [
        {
          "output_type": "execute_result",
          "data": {
            "text/plain": [
              "33"
            ]
          },
          "metadata": {},
          "execution_count": 11
        }
      ]
    },
    {
      "cell_type": "code",
      "source": [
        "# Shape\n",
        "houses[\"price\"].shape"
      ],
      "metadata": {
        "colab": {
          "base_uri": "https://localhost:8080/"
        },
        "id": "DtUxLjxa1hjB",
        "outputId": "0b54ee39-8646-45ad-a91f-725580bf5839"
      },
      "execution_count": 12,
      "outputs": [
        {
          "output_type": "execute_result",
          "data": {
            "text/plain": [
              "(21613,)"
            ]
          },
          "metadata": {},
          "execution_count": 12
        }
      ]
    },
    {
      "cell_type": "code",
      "source": [
        "# Values\n",
        "titanic[\"name\"].values # Returns the underlying array containing the names"
      ],
      "metadata": {
        "colab": {
          "base_uri": "https://localhost:8080/"
        },
        "id": "p-agobSA2cA9",
        "outputId": "a1ffa2e3-07d7-4885-b176-8ae8f8c73c60"
      },
      "execution_count": 13,
      "outputs": [
        {
          "output_type": "execute_result",
          "data": {
            "text/plain": [
              "array(['Allen, Miss. Elisabeth Walton', 'Allison, Master. Hudson Trevor',\n",
              "       'Allison, Miss. Helen Loraine', ..., 'Zakarian, Mr. Mapriededer',\n",
              "       'Zakarian, Mr. Ortin', 'Zimmerman, Mr. Leo'], dtype=object)"
            ]
          },
          "metadata": {},
          "execution_count": 13
        }
      ]
    },
    {
      "cell_type": "code",
      "source": [
        "# Index\n",
        "titanic[\"name\"].index # The label (index) for the series is a RangeIndex starting at 0 and eding at 1309"
      ],
      "metadata": {
        "colab": {
          "base_uri": "https://localhost:8080/"
        },
        "id": "e4RfdZ6H3nWQ",
        "outputId": "b2a5a017-a42f-41fe-8f2f-1866c539c2a3"
      },
      "execution_count": 15,
      "outputs": [
        {
          "output_type": "execute_result",
          "data": {
            "text/plain": [
              "RangeIndex(start=0, stop=1309, step=1)"
            ]
          },
          "metadata": {},
          "execution_count": 15
        }
      ]
    },
    {
      "cell_type": "code",
      "source": [
        "houses.min(numeric_only=True).index # The label (index) for the series is a list of values"
      ],
      "metadata": {
        "colab": {
          "base_uri": "https://localhost:8080/"
        },
        "id": "5U-N1Rh73pNx",
        "outputId": "23afe69d-b2fe-4ade-821a-ab1d0fe94683"
      },
      "execution_count": 16,
      "outputs": [
        {
          "output_type": "execute_result",
          "data": {
            "text/plain": [
              "Index(['id', 'price', 'bedrooms', 'bathrooms', 'sqft_living', 'sqft_lot',\n",
              "       'floors', 'waterfront', 'view', 'condition', 'grade', 'sqft_above',\n",
              "       'sqft_basement', 'yr_built', 'yr_renovated', 'zipcode', 'lat', 'long',\n",
              "       'sqft_living15', 'sqft_lot15'],\n",
              "      dtype='object')"
            ]
          },
          "metadata": {},
          "execution_count": 16
        }
      ]
    },
    {
      "cell_type": "markdown",
      "source": [
        "### Important `Series` methods"
      ],
      "metadata": {
        "id": "J_rg6IZX5XBu"
      }
    },
    {
      "cell_type": "code",
      "source": [
        "# Head\n",
        "titanic[\"age\"].head(10) # Returns a Series with the first 10 values"
      ],
      "metadata": {
        "colab": {
          "base_uri": "https://localhost:8080/"
        },
        "id": "oB0-IuyZ5uYV",
        "outputId": "d565400c-d2d0-469d-e8b1-a9291ba9e587"
      },
      "execution_count": 17,
      "outputs": [
        {
          "output_type": "execute_result",
          "data": {
            "text/plain": [
              "0        29\n",
              "1    0.9167\n",
              "2         2\n",
              "3        30\n",
              "4        25\n",
              "5        48\n",
              "6        63\n",
              "7        39\n",
              "8        53\n",
              "9        71\n",
              "Name: age, dtype: object"
            ]
          },
          "metadata": {},
          "execution_count": 17
        }
      ]
    },
    {
      "cell_type": "code",
      "source": [
        "# Tail\n",
        "netflix[\"title\"].tail(10) # Returns a Series with last 10 values"
      ],
      "metadata": {
        "colab": {
          "base_uri": "https://localhost:8080/"
        },
        "id": "aFPispWA5v3n",
        "outputId": "6271759a-d2a4-4d75-f629-fdfb47748794"
      },
      "execution_count": 18,
      "outputs": [
        {
          "output_type": "execute_result",
          "data": {
            "text/plain": [
              "5420                                           Dangal\n",
              "5421                                   Young & Hungry\n",
              "5422               Pac-Man and the Ghostly Adventures\n",
              "5423            Puss in Book: Trapped in an Epic Tale\n",
              "5424    Rory Scovel Tries Stand-Up for the First Time\n",
              "5425                                         Aquarius\n",
              "5426                                     Counterpunch\n",
              "5427                                  What the Health\n",
              "5428                                    World of Winx\n",
              "5429                                   Kanavu Variyam\n",
              "Name: title, dtype: object"
            ]
          },
          "metadata": {},
          "execution_count": 18
        }
      ]
    },
    {
      "cell_type": "code",
      "source": [
        "# Describe\n",
        "houses[\"price\"].describe() # Returns non-numeric stats on a numeric column"
      ],
      "metadata": {
        "colab": {
          "base_uri": "https://localhost:8080/"
        },
        "id": "pBU5sVwt5xfD",
        "outputId": "d0c13e38-d99a-4084-af99-f32c90895f9f"
      },
      "execution_count": 19,
      "outputs": [
        {
          "output_type": "execute_result",
          "data": {
            "text/plain": [
              "count    2.161300e+04\n",
              "mean     5.400881e+05\n",
              "std      3.671272e+05\n",
              "min      7.500000e+04\n",
              "25%      3.219500e+05\n",
              "50%      4.500000e+05\n",
              "75%      6.450000e+05\n",
              "max      7.700000e+06\n",
              "Name: price, dtype: float64"
            ]
          },
          "metadata": {},
          "execution_count": 19
        }
      ]
    },
    {
      "cell_type": "code",
      "source": [
        "netflix[\"rating\"].describe() # Returns non-numeric stats on an Object column"
      ],
      "metadata": {
        "colab": {
          "base_uri": "https://localhost:8080/"
        },
        "id": "diMq94mw60Mx",
        "outputId": "6a482fb1-4d19-4eaa-f3d0-752f3b4ac85a"
      },
      "execution_count": 20,
      "outputs": [
        {
          "output_type": "execute_result",
          "data": {
            "text/plain": [
              "count      5430\n",
              "unique       11\n",
              "top       TV-MA\n",
              "freq       2256\n",
              "Name: rating, dtype: object"
            ]
          },
          "metadata": {},
          "execution_count": 20
        }
      ]
    },
    {
      "cell_type": "markdown",
      "source": [
        "### `Series.unique()` & `Series.nunique()`\n",
        "These methods can only be applied on a `Series`, and NOT a `DataFrame`\n",
        "\n",
        "* `Series.unique()` - Returns a unique value of `Series` Objects\n",
        "* `Series.nunique()` - Return number (int) of unique elements in the object. Excludes NA values by default."
      ],
      "metadata": {
        "id": "zrZMEWbTzevm"
      }
    },
    {
      "cell_type": "code",
      "source": [
        "# What is the count of no. of bedrooms in the houses DataFrame?\n",
        "#houses['bedrooms'].nunique() # df.nunique(dropna=True) is there by default, so that Nan values are excluded\n",
        "print(f\"Total Unique Values: {houses['bedrooms'].nunique()}\")\n",
        "\n",
        "# What are the unique values for bedrooms in the houses DataFrame\n",
        "houses[\"bedrooms\"].unique()"
      ],
      "metadata": {
        "colab": {
          "base_uri": "https://localhost:8080/"
        },
        "id": "rNCK0fgfzc6R",
        "outputId": "61863e5a-f51f-481c-e4d9-550897536f6b"
      },
      "execution_count": 21,
      "outputs": [
        {
          "output_type": "stream",
          "name": "stdout",
          "text": [
            "Total Unique Values: 13\n"
          ]
        },
        {
          "output_type": "execute_result",
          "data": {
            "text/plain": [
              "array([ 3,  2,  4,  5,  1,  6,  7,  0,  8,  9, 11, 10, 33])"
            ]
          },
          "metadata": {},
          "execution_count": 21
        }
      ]
    },
    {
      "cell_type": "markdown",
      "source": [
        "### `Series.nlargest()` & `Series.nsmallest()`\n",
        "\n",
        "* `Series.nlargest()` - Returns a `Series` with the largest `n` elements in `descending` order\n",
        "* `Series.nsmallest()` - Returns a `Series` with the largest `n` elements in `ascending` order"
      ],
      "metadata": {
        "id": "gGXshi5T8-Lm"
      }
    },
    {
      "cell_type": "code",
      "source": [
        "# 9 largest house prices\n",
        "houses[\"price\"].nlargest(9) # By default, returns 5 elements in descending order"
      ],
      "metadata": {
        "colab": {
          "base_uri": "https://localhost:8080/"
        },
        "id": "WCr_45dR_wkC",
        "outputId": "183ac113-0f63-4974-a8ce-f1fd3a991239"
      },
      "execution_count": 22,
      "outputs": [
        {
          "output_type": "execute_result",
          "data": {
            "text/plain": [
              "7252    7700000.0\n",
              "3914    7062500.0\n",
              "9254    6885000.0\n",
              "4411    5570000.0\n",
              "1448    5350000.0\n",
              "1315    5300000.0\n",
              "1164    5110800.0\n",
              "8092    4668000.0\n",
              "2626    4500000.0\n",
              "Name: price, dtype: float64"
            ]
          },
          "metadata": {},
          "execution_count": 22
        }
      ]
    },
    {
      "cell_type": "code",
      "source": [
        "# 7 cheapest house prices\n",
        "houses[\"price\"].nsmallest(7) # By default, returns 5 elements in ascending order"
      ],
      "metadata": {
        "colab": {
          "base_uri": "https://localhost:8080/"
        },
        "id": "eSjJbG16AKVB",
        "outputId": "49cdbd76-a7fb-4314-8d14-a829b8bde5ba"
      },
      "execution_count": 23,
      "outputs": [
        {
          "output_type": "execute_result",
          "data": {
            "text/plain": [
              "1149     75000.0\n",
              "15293    78000.0\n",
              "465      80000.0\n",
              "16198    81000.0\n",
              "8274     82000.0\n",
              "2141     82500.0\n",
              "18468    83000.0\n",
              "Name: price, dtype: float64"
            ]
          },
          "metadata": {},
          "execution_count": 23
        }
      ]
    },
    {
      "cell_type": "markdown",
      "source": [
        "### `Dataframe.nlargest(n,[list of column(s)])` & `DataFrame.nsmallest(n,[list of column(s)])`\n",
        "\n",
        "* `DataFrame.nlargest()` - Returns the first `n` rows with the `largest` values in columns, in `descending` order. The columns that are not specified are returned as well, but not used for ordering.\n",
        "* `DataFrame.nsmallest()` - Return the first `n` rows with the `smallest` values in columns, in `ascending` order. The columns that are not specified are returned as well, but not used for ordering.\n",
        "\n",
        "*Both methods return a* `DataFrame`"
      ],
      "metadata": {
        "id": "syurLaU89EnR"
      }
    },
    {
      "cell_type": "code",
      "source": [
        "# Give me the 10 largest listings in the houses DataFrame ranked by their price?\n",
        "houses.nlargest(10, [\"price\"])"
      ],
      "metadata": {
        "colab": {
          "base_uri": "https://localhost:8080/",
          "height": 412
        },
        "id": "K7dI0PPF6moS",
        "outputId": "ca3a1cdd-3fb0-42e0-80a2-844eb92bf2d4"
      },
      "execution_count": 24,
      "outputs": [
        {
          "output_type": "execute_result",
          "data": {
            "text/plain": [
              "              id             date      price  bedrooms  bathrooms  \\\n",
              "7252  6762700020  20141013T000000  7700000.0         6       8.00   \n",
              "3914  9808700762  20140611T000000  7062500.0         5       4.50   \n",
              "9254  9208900037  20140919T000000  6885000.0         6       7.75   \n",
              "4411  2470100110  20140804T000000  5570000.0         5       5.75   \n",
              "1448  8907500070  20150413T000000  5350000.0         5       5.00   \n",
              "1315  7558700030  20150413T000000  5300000.0         6       6.00   \n",
              "1164  1247600105  20141020T000000  5110800.0         5       5.25   \n",
              "8092  1924059029  20140617T000000  4668000.0         5       6.75   \n",
              "2626  7738500731  20140815T000000  4500000.0         5       5.50   \n",
              "8638  3835500195  20140618T000000  4489000.0         4       3.00   \n",
              "\n",
              "      sqft_living  sqft_lot  floors  waterfront  view  ...  grade  sqft_above  \\\n",
              "7252        12050     27600     2.5           0     3  ...     13        8570   \n",
              "3914        10040     37325     2.0           1     2  ...     11        7680   \n",
              "9254         9890     31374     2.0           0     4  ...     13        8860   \n",
              "4411         9200     35069     2.0           0     0  ...     13        6200   \n",
              "1448         8000     23985     2.0           0     4  ...     12        6720   \n",
              "1315         7390     24829     2.0           1     4  ...     12        5000   \n",
              "1164         8010     45517     2.0           1     4  ...     12        5990   \n",
              "8092         9640     13068     1.0           1     4  ...     12        4820   \n",
              "2626         6640     40014     2.0           1     4  ...     12        6350   \n",
              "8638         6430     27517     2.0           0     0  ...     12        6430   \n",
              "\n",
              "      sqft_basement  yr_built  yr_renovated  zipcode      lat     long  \\\n",
              "7252           3480      1910          1987    98102  47.6298 -122.323   \n",
              "3914           2360      1940          2001    98004  47.6500 -122.214   \n",
              "9254           1030      2001             0    98039  47.6305 -122.240   \n",
              "4411           3000      2001             0    98039  47.6289 -122.233   \n",
              "1448           1280      2009             0    98004  47.6232 -122.220   \n",
              "1315           2390      1991             0    98040  47.5631 -122.210   \n",
              "1164           2020      1999             0    98033  47.6767 -122.211   \n",
              "8092           4820      1983          2009    98040  47.5570 -122.210   \n",
              "2626            290      2004             0    98155  47.7493 -122.280   \n",
              "8638              0      2001             0    98004  47.6208 -122.219   \n",
              "\n",
              "      sqft_living15  sqft_lot15  \n",
              "7252           3940        8800  \n",
              "3914           3930       25449  \n",
              "9254           4540       42730  \n",
              "4411           3560       24345  \n",
              "1448           4600       21750  \n",
              "1315           4320       24619  \n",
              "1164           3430       26788  \n",
              "8092           3270       10454  \n",
              "2626           3030       23408  \n",
              "8638           3720       14592  \n",
              "\n",
              "[10 rows x 21 columns]"
            ],
            "text/html": [
              "\n",
              "  <div id=\"df-567b7ab5-a451-4596-805f-69fd7addc3c3\" class=\"colab-df-container\">\n",
              "    <div>\n",
              "<style scoped>\n",
              "    .dataframe tbody tr th:only-of-type {\n",
              "        vertical-align: middle;\n",
              "    }\n",
              "\n",
              "    .dataframe tbody tr th {\n",
              "        vertical-align: top;\n",
              "    }\n",
              "\n",
              "    .dataframe thead th {\n",
              "        text-align: right;\n",
              "    }\n",
              "</style>\n",
              "<table border=\"1\" class=\"dataframe\">\n",
              "  <thead>\n",
              "    <tr style=\"text-align: right;\">\n",
              "      <th></th>\n",
              "      <th>id</th>\n",
              "      <th>date</th>\n",
              "      <th>price</th>\n",
              "      <th>bedrooms</th>\n",
              "      <th>bathrooms</th>\n",
              "      <th>sqft_living</th>\n",
              "      <th>sqft_lot</th>\n",
              "      <th>floors</th>\n",
              "      <th>waterfront</th>\n",
              "      <th>view</th>\n",
              "      <th>...</th>\n",
              "      <th>grade</th>\n",
              "      <th>sqft_above</th>\n",
              "      <th>sqft_basement</th>\n",
              "      <th>yr_built</th>\n",
              "      <th>yr_renovated</th>\n",
              "      <th>zipcode</th>\n",
              "      <th>lat</th>\n",
              "      <th>long</th>\n",
              "      <th>sqft_living15</th>\n",
              "      <th>sqft_lot15</th>\n",
              "    </tr>\n",
              "  </thead>\n",
              "  <tbody>\n",
              "    <tr>\n",
              "      <th>7252</th>\n",
              "      <td>6762700020</td>\n",
              "      <td>20141013T000000</td>\n",
              "      <td>7700000.0</td>\n",
              "      <td>6</td>\n",
              "      <td>8.00</td>\n",
              "      <td>12050</td>\n",
              "      <td>27600</td>\n",
              "      <td>2.5</td>\n",
              "      <td>0</td>\n",
              "      <td>3</td>\n",
              "      <td>...</td>\n",
              "      <td>13</td>\n",
              "      <td>8570</td>\n",
              "      <td>3480</td>\n",
              "      <td>1910</td>\n",
              "      <td>1987</td>\n",
              "      <td>98102</td>\n",
              "      <td>47.6298</td>\n",
              "      <td>-122.323</td>\n",
              "      <td>3940</td>\n",
              "      <td>8800</td>\n",
              "    </tr>\n",
              "    <tr>\n",
              "      <th>3914</th>\n",
              "      <td>9808700762</td>\n",
              "      <td>20140611T000000</td>\n",
              "      <td>7062500.0</td>\n",
              "      <td>5</td>\n",
              "      <td>4.50</td>\n",
              "      <td>10040</td>\n",
              "      <td>37325</td>\n",
              "      <td>2.0</td>\n",
              "      <td>1</td>\n",
              "      <td>2</td>\n",
              "      <td>...</td>\n",
              "      <td>11</td>\n",
              "      <td>7680</td>\n",
              "      <td>2360</td>\n",
              "      <td>1940</td>\n",
              "      <td>2001</td>\n",
              "      <td>98004</td>\n",
              "      <td>47.6500</td>\n",
              "      <td>-122.214</td>\n",
              "      <td>3930</td>\n",
              "      <td>25449</td>\n",
              "    </tr>\n",
              "    <tr>\n",
              "      <th>9254</th>\n",
              "      <td>9208900037</td>\n",
              "      <td>20140919T000000</td>\n",
              "      <td>6885000.0</td>\n",
              "      <td>6</td>\n",
              "      <td>7.75</td>\n",
              "      <td>9890</td>\n",
              "      <td>31374</td>\n",
              "      <td>2.0</td>\n",
              "      <td>0</td>\n",
              "      <td>4</td>\n",
              "      <td>...</td>\n",
              "      <td>13</td>\n",
              "      <td>8860</td>\n",
              "      <td>1030</td>\n",
              "      <td>2001</td>\n",
              "      <td>0</td>\n",
              "      <td>98039</td>\n",
              "      <td>47.6305</td>\n",
              "      <td>-122.240</td>\n",
              "      <td>4540</td>\n",
              "      <td>42730</td>\n",
              "    </tr>\n",
              "    <tr>\n",
              "      <th>4411</th>\n",
              "      <td>2470100110</td>\n",
              "      <td>20140804T000000</td>\n",
              "      <td>5570000.0</td>\n",
              "      <td>5</td>\n",
              "      <td>5.75</td>\n",
              "      <td>9200</td>\n",
              "      <td>35069</td>\n",
              "      <td>2.0</td>\n",
              "      <td>0</td>\n",
              "      <td>0</td>\n",
              "      <td>...</td>\n",
              "      <td>13</td>\n",
              "      <td>6200</td>\n",
              "      <td>3000</td>\n",
              "      <td>2001</td>\n",
              "      <td>0</td>\n",
              "      <td>98039</td>\n",
              "      <td>47.6289</td>\n",
              "      <td>-122.233</td>\n",
              "      <td>3560</td>\n",
              "      <td>24345</td>\n",
              "    </tr>\n",
              "    <tr>\n",
              "      <th>1448</th>\n",
              "      <td>8907500070</td>\n",
              "      <td>20150413T000000</td>\n",
              "      <td>5350000.0</td>\n",
              "      <td>5</td>\n",
              "      <td>5.00</td>\n",
              "      <td>8000</td>\n",
              "      <td>23985</td>\n",
              "      <td>2.0</td>\n",
              "      <td>0</td>\n",
              "      <td>4</td>\n",
              "      <td>...</td>\n",
              "      <td>12</td>\n",
              "      <td>6720</td>\n",
              "      <td>1280</td>\n",
              "      <td>2009</td>\n",
              "      <td>0</td>\n",
              "      <td>98004</td>\n",
              "      <td>47.6232</td>\n",
              "      <td>-122.220</td>\n",
              "      <td>4600</td>\n",
              "      <td>21750</td>\n",
              "    </tr>\n",
              "    <tr>\n",
              "      <th>1315</th>\n",
              "      <td>7558700030</td>\n",
              "      <td>20150413T000000</td>\n",
              "      <td>5300000.0</td>\n",
              "      <td>6</td>\n",
              "      <td>6.00</td>\n",
              "      <td>7390</td>\n",
              "      <td>24829</td>\n",
              "      <td>2.0</td>\n",
              "      <td>1</td>\n",
              "      <td>4</td>\n",
              "      <td>...</td>\n",
              "      <td>12</td>\n",
              "      <td>5000</td>\n",
              "      <td>2390</td>\n",
              "      <td>1991</td>\n",
              "      <td>0</td>\n",
              "      <td>98040</td>\n",
              "      <td>47.5631</td>\n",
              "      <td>-122.210</td>\n",
              "      <td>4320</td>\n",
              "      <td>24619</td>\n",
              "    </tr>\n",
              "    <tr>\n",
              "      <th>1164</th>\n",
              "      <td>1247600105</td>\n",
              "      <td>20141020T000000</td>\n",
              "      <td>5110800.0</td>\n",
              "      <td>5</td>\n",
              "      <td>5.25</td>\n",
              "      <td>8010</td>\n",
              "      <td>45517</td>\n",
              "      <td>2.0</td>\n",
              "      <td>1</td>\n",
              "      <td>4</td>\n",
              "      <td>...</td>\n",
              "      <td>12</td>\n",
              "      <td>5990</td>\n",
              "      <td>2020</td>\n",
              "      <td>1999</td>\n",
              "      <td>0</td>\n",
              "      <td>98033</td>\n",
              "      <td>47.6767</td>\n",
              "      <td>-122.211</td>\n",
              "      <td>3430</td>\n",
              "      <td>26788</td>\n",
              "    </tr>\n",
              "    <tr>\n",
              "      <th>8092</th>\n",
              "      <td>1924059029</td>\n",
              "      <td>20140617T000000</td>\n",
              "      <td>4668000.0</td>\n",
              "      <td>5</td>\n",
              "      <td>6.75</td>\n",
              "      <td>9640</td>\n",
              "      <td>13068</td>\n",
              "      <td>1.0</td>\n",
              "      <td>1</td>\n",
              "      <td>4</td>\n",
              "      <td>...</td>\n",
              "      <td>12</td>\n",
              "      <td>4820</td>\n",
              "      <td>4820</td>\n",
              "      <td>1983</td>\n",
              "      <td>2009</td>\n",
              "      <td>98040</td>\n",
              "      <td>47.5570</td>\n",
              "      <td>-122.210</td>\n",
              "      <td>3270</td>\n",
              "      <td>10454</td>\n",
              "    </tr>\n",
              "    <tr>\n",
              "      <th>2626</th>\n",
              "      <td>7738500731</td>\n",
              "      <td>20140815T000000</td>\n",
              "      <td>4500000.0</td>\n",
              "      <td>5</td>\n",
              "      <td>5.50</td>\n",
              "      <td>6640</td>\n",
              "      <td>40014</td>\n",
              "      <td>2.0</td>\n",
              "      <td>1</td>\n",
              "      <td>4</td>\n",
              "      <td>...</td>\n",
              "      <td>12</td>\n",
              "      <td>6350</td>\n",
              "      <td>290</td>\n",
              "      <td>2004</td>\n",
              "      <td>0</td>\n",
              "      <td>98155</td>\n",
              "      <td>47.7493</td>\n",
              "      <td>-122.280</td>\n",
              "      <td>3030</td>\n",
              "      <td>23408</td>\n",
              "    </tr>\n",
              "    <tr>\n",
              "      <th>8638</th>\n",
              "      <td>3835500195</td>\n",
              "      <td>20140618T000000</td>\n",
              "      <td>4489000.0</td>\n",
              "      <td>4</td>\n",
              "      <td>3.00</td>\n",
              "      <td>6430</td>\n",
              "      <td>27517</td>\n",
              "      <td>2.0</td>\n",
              "      <td>0</td>\n",
              "      <td>0</td>\n",
              "      <td>...</td>\n",
              "      <td>12</td>\n",
              "      <td>6430</td>\n",
              "      <td>0</td>\n",
              "      <td>2001</td>\n",
              "      <td>0</td>\n",
              "      <td>98004</td>\n",
              "      <td>47.6208</td>\n",
              "      <td>-122.219</td>\n",
              "      <td>3720</td>\n",
              "      <td>14592</td>\n",
              "    </tr>\n",
              "  </tbody>\n",
              "</table>\n",
              "<p>10 rows × 21 columns</p>\n",
              "</div>\n",
              "    <div class=\"colab-df-buttons\">\n",
              "\n",
              "  <div class=\"colab-df-container\">\n",
              "    <button class=\"colab-df-convert\" onclick=\"convertToInteractive('df-567b7ab5-a451-4596-805f-69fd7addc3c3')\"\n",
              "            title=\"Convert this dataframe to an interactive table.\"\n",
              "            style=\"display:none;\">\n",
              "\n",
              "  <svg xmlns=\"http://www.w3.org/2000/svg\" height=\"24px\" viewBox=\"0 -960 960 960\">\n",
              "    <path d=\"M120-120v-720h720v720H120Zm60-500h600v-160H180v160Zm220 220h160v-160H400v160Zm0 220h160v-160H400v160ZM180-400h160v-160H180v160Zm440 0h160v-160H620v160ZM180-180h160v-160H180v160Zm440 0h160v-160H620v160Z\"/>\n",
              "  </svg>\n",
              "    </button>\n",
              "\n",
              "  <style>\n",
              "    .colab-df-container {\n",
              "      display:flex;\n",
              "      gap: 12px;\n",
              "    }\n",
              "\n",
              "    .colab-df-convert {\n",
              "      background-color: #E8F0FE;\n",
              "      border: none;\n",
              "      border-radius: 50%;\n",
              "      cursor: pointer;\n",
              "      display: none;\n",
              "      fill: #1967D2;\n",
              "      height: 32px;\n",
              "      padding: 0 0 0 0;\n",
              "      width: 32px;\n",
              "    }\n",
              "\n",
              "    .colab-df-convert:hover {\n",
              "      background-color: #E2EBFA;\n",
              "      box-shadow: 0px 1px 2px rgba(60, 64, 67, 0.3), 0px 1px 3px 1px rgba(60, 64, 67, 0.15);\n",
              "      fill: #174EA6;\n",
              "    }\n",
              "\n",
              "    .colab-df-buttons div {\n",
              "      margin-bottom: 4px;\n",
              "    }\n",
              "\n",
              "    [theme=dark] .colab-df-convert {\n",
              "      background-color: #3B4455;\n",
              "      fill: #D2E3FC;\n",
              "    }\n",
              "\n",
              "    [theme=dark] .colab-df-convert:hover {\n",
              "      background-color: #434B5C;\n",
              "      box-shadow: 0px 1px 3px 1px rgba(0, 0, 0, 0.15);\n",
              "      filter: drop-shadow(0px 1px 2px rgba(0, 0, 0, 0.3));\n",
              "      fill: #FFFFFF;\n",
              "    }\n",
              "  </style>\n",
              "\n",
              "    <script>\n",
              "      const buttonEl =\n",
              "        document.querySelector('#df-567b7ab5-a451-4596-805f-69fd7addc3c3 button.colab-df-convert');\n",
              "      buttonEl.style.display =\n",
              "        google.colab.kernel.accessAllowed ? 'block' : 'none';\n",
              "\n",
              "      async function convertToInteractive(key) {\n",
              "        const element = document.querySelector('#df-567b7ab5-a451-4596-805f-69fd7addc3c3');\n",
              "        const dataTable =\n",
              "          await google.colab.kernel.invokeFunction('convertToInteractive',\n",
              "                                                    [key], {});\n",
              "        if (!dataTable) return;\n",
              "\n",
              "        const docLinkHtml = 'Like what you see? Visit the ' +\n",
              "          '<a target=\"_blank\" href=https://colab.research.google.com/notebooks/data_table.ipynb>data table notebook</a>'\n",
              "          + ' to learn more about interactive tables.';\n",
              "        element.innerHTML = '';\n",
              "        dataTable['output_type'] = 'display_data';\n",
              "        await google.colab.output.renderOutput(dataTable, element);\n",
              "        const docLink = document.createElement('div');\n",
              "        docLink.innerHTML = docLinkHtml;\n",
              "        element.appendChild(docLink);\n",
              "      }\n",
              "    </script>\n",
              "  </div>\n",
              "\n",
              "\n",
              "<div id=\"df-61035e0f-921b-46d4-8479-94876c94a253\">\n",
              "  <button class=\"colab-df-quickchart\" onclick=\"quickchart('df-61035e0f-921b-46d4-8479-94876c94a253')\"\n",
              "            title=\"Suggest charts\"\n",
              "            style=\"display:none;\">\n",
              "\n",
              "<svg xmlns=\"http://www.w3.org/2000/svg\" height=\"24px\"viewBox=\"0 0 24 24\"\n",
              "     width=\"24px\">\n",
              "    <g>\n",
              "        <path d=\"M19 3H5c-1.1 0-2 .9-2 2v14c0 1.1.9 2 2 2h14c1.1 0 2-.9 2-2V5c0-1.1-.9-2-2-2zM9 17H7v-7h2v7zm4 0h-2V7h2v10zm4 0h-2v-4h2v4z\"/>\n",
              "    </g>\n",
              "</svg>\n",
              "  </button>\n",
              "\n",
              "<style>\n",
              "  .colab-df-quickchart {\n",
              "      --bg-color: #E8F0FE;\n",
              "      --fill-color: #1967D2;\n",
              "      --hover-bg-color: #E2EBFA;\n",
              "      --hover-fill-color: #174EA6;\n",
              "      --disabled-fill-color: #AAA;\n",
              "      --disabled-bg-color: #DDD;\n",
              "  }\n",
              "\n",
              "  [theme=dark] .colab-df-quickchart {\n",
              "      --bg-color: #3B4455;\n",
              "      --fill-color: #D2E3FC;\n",
              "      --hover-bg-color: #434B5C;\n",
              "      --hover-fill-color: #FFFFFF;\n",
              "      --disabled-bg-color: #3B4455;\n",
              "      --disabled-fill-color: #666;\n",
              "  }\n",
              "\n",
              "  .colab-df-quickchart {\n",
              "    background-color: var(--bg-color);\n",
              "    border: none;\n",
              "    border-radius: 50%;\n",
              "    cursor: pointer;\n",
              "    display: none;\n",
              "    fill: var(--fill-color);\n",
              "    height: 32px;\n",
              "    padding: 0;\n",
              "    width: 32px;\n",
              "  }\n",
              "\n",
              "  .colab-df-quickchart:hover {\n",
              "    background-color: var(--hover-bg-color);\n",
              "    box-shadow: 0 1px 2px rgba(60, 64, 67, 0.3), 0 1px 3px 1px rgba(60, 64, 67, 0.15);\n",
              "    fill: var(--button-hover-fill-color);\n",
              "  }\n",
              "\n",
              "  .colab-df-quickchart-complete:disabled,\n",
              "  .colab-df-quickchart-complete:disabled:hover {\n",
              "    background-color: var(--disabled-bg-color);\n",
              "    fill: var(--disabled-fill-color);\n",
              "    box-shadow: none;\n",
              "  }\n",
              "\n",
              "  .colab-df-spinner {\n",
              "    border: 2px solid var(--fill-color);\n",
              "    border-color: transparent;\n",
              "    border-bottom-color: var(--fill-color);\n",
              "    animation:\n",
              "      spin 1s steps(1) infinite;\n",
              "  }\n",
              "\n",
              "  @keyframes spin {\n",
              "    0% {\n",
              "      border-color: transparent;\n",
              "      border-bottom-color: var(--fill-color);\n",
              "      border-left-color: var(--fill-color);\n",
              "    }\n",
              "    20% {\n",
              "      border-color: transparent;\n",
              "      border-left-color: var(--fill-color);\n",
              "      border-top-color: var(--fill-color);\n",
              "    }\n",
              "    30% {\n",
              "      border-color: transparent;\n",
              "      border-left-color: var(--fill-color);\n",
              "      border-top-color: var(--fill-color);\n",
              "      border-right-color: var(--fill-color);\n",
              "    }\n",
              "    40% {\n",
              "      border-color: transparent;\n",
              "      border-right-color: var(--fill-color);\n",
              "      border-top-color: var(--fill-color);\n",
              "    }\n",
              "    60% {\n",
              "      border-color: transparent;\n",
              "      border-right-color: var(--fill-color);\n",
              "    }\n",
              "    80% {\n",
              "      border-color: transparent;\n",
              "      border-right-color: var(--fill-color);\n",
              "      border-bottom-color: var(--fill-color);\n",
              "    }\n",
              "    90% {\n",
              "      border-color: transparent;\n",
              "      border-bottom-color: var(--fill-color);\n",
              "    }\n",
              "  }\n",
              "</style>\n",
              "\n",
              "  <script>\n",
              "    async function quickchart(key) {\n",
              "      const quickchartButtonEl =\n",
              "        document.querySelector('#' + key + ' button');\n",
              "      quickchartButtonEl.disabled = true;  // To prevent multiple clicks.\n",
              "      quickchartButtonEl.classList.add('colab-df-spinner');\n",
              "      try {\n",
              "        const charts = await google.colab.kernel.invokeFunction(\n",
              "            'suggestCharts', [key], {});\n",
              "      } catch (error) {\n",
              "        console.error('Error during call to suggestCharts:', error);\n",
              "      }\n",
              "      quickchartButtonEl.classList.remove('colab-df-spinner');\n",
              "      quickchartButtonEl.classList.add('colab-df-quickchart-complete');\n",
              "    }\n",
              "    (() => {\n",
              "      let quickchartButtonEl =\n",
              "        document.querySelector('#df-61035e0f-921b-46d4-8479-94876c94a253 button');\n",
              "      quickchartButtonEl.style.display =\n",
              "        google.colab.kernel.accessAllowed ? 'block' : 'none';\n",
              "    })();\n",
              "  </script>\n",
              "</div>\n",
              "\n",
              "    </div>\n",
              "  </div>\n"
            ],
            "application/vnd.google.colaboratory.intrinsic+json": {
              "type": "dataframe"
            }
          },
          "metadata": {},
          "execution_count": 24
        }
      ]
    },
    {
      "cell_type": "code",
      "source": [
        "# Returns a DataFrame object\n",
        "type(houses.nlargest(10, [\"price\"]))"
      ],
      "metadata": {
        "id": "sk9Ps2H0DznG"
      },
      "execution_count": null,
      "outputs": []
    },
    {
      "cell_type": "code",
      "source": [
        "# Give me the 10 largest listings in the houses DataFrame ranked by their bedrooms & bathrooms\n",
        "houses.nlargest(10, [\"bedrooms\", \"bathrooms\"])"
      ],
      "metadata": {
        "colab": {
          "base_uri": "https://localhost:8080/",
          "height": 412
        },
        "id": "LkftwQgyEbvm",
        "outputId": "0943f1ee-8fcf-4feb-8aef-cf43c715c135"
      },
      "execution_count": 26,
      "outputs": [
        {
          "output_type": "execute_result",
          "data": {
            "text/plain": [
              "               id             date      price  bedrooms  bathrooms  \\\n",
              "15870  2402100895  20140625T000000   640000.0        33       1.75   \n",
              "8757   1773100755  20140821T000000   520000.0        11       3.00   \n",
              "13314   627300145  20140814T000000  1148000.0        10       5.25   \n",
              "19254  8812401450  20141229T000000   660000.0        10       3.00   \n",
              "15161  5566100170  20141029T000000   650000.0        10       2.00   \n",
              "8546    424049043  20140811T000000   450000.0         9       7.50   \n",
              "4096   1997200215  20140507T000000   599999.0         9       4.50   \n",
              "6079   9822700190  20140808T000000  1280000.0         9       4.50   \n",
              "16844  8823900290  20150317T000000  1400000.0         9       4.00   \n",
              "4235   2902200015  20150106T000000   700000.0         9       3.00   \n",
              "\n",
              "       sqft_living  sqft_lot  floors  waterfront  view  ...  grade  \\\n",
              "15870         1620      6000     1.0           0     0  ...      7   \n",
              "8757          3000      4960     2.0           0     0  ...      7   \n",
              "13314         4590     10920     1.0           0     2  ...      9   \n",
              "19254         2920      3745     2.0           0     0  ...      7   \n",
              "15161         3610     11914     2.0           0     0  ...      7   \n",
              "8546          4050      6504     2.0           0     0  ...      7   \n",
              "4096          3830      6988     2.5           0     0  ...      7   \n",
              "6079          3650      5000     2.0           0     0  ...      8   \n",
              "16844         4620      5508     2.5           0     0  ...     11   \n",
              "4235          3680      4400     2.0           0     0  ...      7   \n",
              "\n",
              "       sqft_above  sqft_basement  yr_built  yr_renovated  zipcode      lat  \\\n",
              "15870        1040            580      1947             0    98103  47.6878   \n",
              "8757         2400            600      1918          1999    98106  47.5560   \n",
              "13314        2500           2090      2008             0    98004  47.5861   \n",
              "19254        1860           1060      1913             0    98105  47.6635   \n",
              "15161        3010            600      1958             0    98006  47.5705   \n",
              "8546         4050              0      1996             0    98144  47.5923   \n",
              "4096         2450           1380      1938             0    98103  47.6927   \n",
              "6079         2530           1120      1915          2010    98105  47.6604   \n",
              "16844        3870            750      1915             0    98105  47.6684   \n",
              "4235         2830            850      1908             0    98102  47.6374   \n",
              "\n",
              "          long  sqft_living15  sqft_lot15  \n",
              "15870 -122.331           1330        4700  \n",
              "8757  -122.363           1420        4960  \n",
              "13314 -122.113           2730       10400  \n",
              "19254 -122.320           1810        3745  \n",
              "15161 -122.175           2040       11914  \n",
              "8546  -122.301           1448        3866  \n",
              "4096  -122.338           1460        6291  \n",
              "6079  -122.289           2510        5000  \n",
              "16844 -122.309           2710        4320  \n",
              "4235  -122.324           1960        2450  \n",
              "\n",
              "[10 rows x 21 columns]"
            ],
            "text/html": [
              "\n",
              "  <div id=\"df-0f6fc906-00d3-4b36-a6cd-cd0b468abe57\" class=\"colab-df-container\">\n",
              "    <div>\n",
              "<style scoped>\n",
              "    .dataframe tbody tr th:only-of-type {\n",
              "        vertical-align: middle;\n",
              "    }\n",
              "\n",
              "    .dataframe tbody tr th {\n",
              "        vertical-align: top;\n",
              "    }\n",
              "\n",
              "    .dataframe thead th {\n",
              "        text-align: right;\n",
              "    }\n",
              "</style>\n",
              "<table border=\"1\" class=\"dataframe\">\n",
              "  <thead>\n",
              "    <tr style=\"text-align: right;\">\n",
              "      <th></th>\n",
              "      <th>id</th>\n",
              "      <th>date</th>\n",
              "      <th>price</th>\n",
              "      <th>bedrooms</th>\n",
              "      <th>bathrooms</th>\n",
              "      <th>sqft_living</th>\n",
              "      <th>sqft_lot</th>\n",
              "      <th>floors</th>\n",
              "      <th>waterfront</th>\n",
              "      <th>view</th>\n",
              "      <th>...</th>\n",
              "      <th>grade</th>\n",
              "      <th>sqft_above</th>\n",
              "      <th>sqft_basement</th>\n",
              "      <th>yr_built</th>\n",
              "      <th>yr_renovated</th>\n",
              "      <th>zipcode</th>\n",
              "      <th>lat</th>\n",
              "      <th>long</th>\n",
              "      <th>sqft_living15</th>\n",
              "      <th>sqft_lot15</th>\n",
              "    </tr>\n",
              "  </thead>\n",
              "  <tbody>\n",
              "    <tr>\n",
              "      <th>15870</th>\n",
              "      <td>2402100895</td>\n",
              "      <td>20140625T000000</td>\n",
              "      <td>640000.0</td>\n",
              "      <td>33</td>\n",
              "      <td>1.75</td>\n",
              "      <td>1620</td>\n",
              "      <td>6000</td>\n",
              "      <td>1.0</td>\n",
              "      <td>0</td>\n",
              "      <td>0</td>\n",
              "      <td>...</td>\n",
              "      <td>7</td>\n",
              "      <td>1040</td>\n",
              "      <td>580</td>\n",
              "      <td>1947</td>\n",
              "      <td>0</td>\n",
              "      <td>98103</td>\n",
              "      <td>47.6878</td>\n",
              "      <td>-122.331</td>\n",
              "      <td>1330</td>\n",
              "      <td>4700</td>\n",
              "    </tr>\n",
              "    <tr>\n",
              "      <th>8757</th>\n",
              "      <td>1773100755</td>\n",
              "      <td>20140821T000000</td>\n",
              "      <td>520000.0</td>\n",
              "      <td>11</td>\n",
              "      <td>3.00</td>\n",
              "      <td>3000</td>\n",
              "      <td>4960</td>\n",
              "      <td>2.0</td>\n",
              "      <td>0</td>\n",
              "      <td>0</td>\n",
              "      <td>...</td>\n",
              "      <td>7</td>\n",
              "      <td>2400</td>\n",
              "      <td>600</td>\n",
              "      <td>1918</td>\n",
              "      <td>1999</td>\n",
              "      <td>98106</td>\n",
              "      <td>47.5560</td>\n",
              "      <td>-122.363</td>\n",
              "      <td>1420</td>\n",
              "      <td>4960</td>\n",
              "    </tr>\n",
              "    <tr>\n",
              "      <th>13314</th>\n",
              "      <td>627300145</td>\n",
              "      <td>20140814T000000</td>\n",
              "      <td>1148000.0</td>\n",
              "      <td>10</td>\n",
              "      <td>5.25</td>\n",
              "      <td>4590</td>\n",
              "      <td>10920</td>\n",
              "      <td>1.0</td>\n",
              "      <td>0</td>\n",
              "      <td>2</td>\n",
              "      <td>...</td>\n",
              "      <td>9</td>\n",
              "      <td>2500</td>\n",
              "      <td>2090</td>\n",
              "      <td>2008</td>\n",
              "      <td>0</td>\n",
              "      <td>98004</td>\n",
              "      <td>47.5861</td>\n",
              "      <td>-122.113</td>\n",
              "      <td>2730</td>\n",
              "      <td>10400</td>\n",
              "    </tr>\n",
              "    <tr>\n",
              "      <th>19254</th>\n",
              "      <td>8812401450</td>\n",
              "      <td>20141229T000000</td>\n",
              "      <td>660000.0</td>\n",
              "      <td>10</td>\n",
              "      <td>3.00</td>\n",
              "      <td>2920</td>\n",
              "      <td>3745</td>\n",
              "      <td>2.0</td>\n",
              "      <td>0</td>\n",
              "      <td>0</td>\n",
              "      <td>...</td>\n",
              "      <td>7</td>\n",
              "      <td>1860</td>\n",
              "      <td>1060</td>\n",
              "      <td>1913</td>\n",
              "      <td>0</td>\n",
              "      <td>98105</td>\n",
              "      <td>47.6635</td>\n",
              "      <td>-122.320</td>\n",
              "      <td>1810</td>\n",
              "      <td>3745</td>\n",
              "    </tr>\n",
              "    <tr>\n",
              "      <th>15161</th>\n",
              "      <td>5566100170</td>\n",
              "      <td>20141029T000000</td>\n",
              "      <td>650000.0</td>\n",
              "      <td>10</td>\n",
              "      <td>2.00</td>\n",
              "      <td>3610</td>\n",
              "      <td>11914</td>\n",
              "      <td>2.0</td>\n",
              "      <td>0</td>\n",
              "      <td>0</td>\n",
              "      <td>...</td>\n",
              "      <td>7</td>\n",
              "      <td>3010</td>\n",
              "      <td>600</td>\n",
              "      <td>1958</td>\n",
              "      <td>0</td>\n",
              "      <td>98006</td>\n",
              "      <td>47.5705</td>\n",
              "      <td>-122.175</td>\n",
              "      <td>2040</td>\n",
              "      <td>11914</td>\n",
              "    </tr>\n",
              "    <tr>\n",
              "      <th>8546</th>\n",
              "      <td>424049043</td>\n",
              "      <td>20140811T000000</td>\n",
              "      <td>450000.0</td>\n",
              "      <td>9</td>\n",
              "      <td>7.50</td>\n",
              "      <td>4050</td>\n",
              "      <td>6504</td>\n",
              "      <td>2.0</td>\n",
              "      <td>0</td>\n",
              "      <td>0</td>\n",
              "      <td>...</td>\n",
              "      <td>7</td>\n",
              "      <td>4050</td>\n",
              "      <td>0</td>\n",
              "      <td>1996</td>\n",
              "      <td>0</td>\n",
              "      <td>98144</td>\n",
              "      <td>47.5923</td>\n",
              "      <td>-122.301</td>\n",
              "      <td>1448</td>\n",
              "      <td>3866</td>\n",
              "    </tr>\n",
              "    <tr>\n",
              "      <th>4096</th>\n",
              "      <td>1997200215</td>\n",
              "      <td>20140507T000000</td>\n",
              "      <td>599999.0</td>\n",
              "      <td>9</td>\n",
              "      <td>4.50</td>\n",
              "      <td>3830</td>\n",
              "      <td>6988</td>\n",
              "      <td>2.5</td>\n",
              "      <td>0</td>\n",
              "      <td>0</td>\n",
              "      <td>...</td>\n",
              "      <td>7</td>\n",
              "      <td>2450</td>\n",
              "      <td>1380</td>\n",
              "      <td>1938</td>\n",
              "      <td>0</td>\n",
              "      <td>98103</td>\n",
              "      <td>47.6927</td>\n",
              "      <td>-122.338</td>\n",
              "      <td>1460</td>\n",
              "      <td>6291</td>\n",
              "    </tr>\n",
              "    <tr>\n",
              "      <th>6079</th>\n",
              "      <td>9822700190</td>\n",
              "      <td>20140808T000000</td>\n",
              "      <td>1280000.0</td>\n",
              "      <td>9</td>\n",
              "      <td>4.50</td>\n",
              "      <td>3650</td>\n",
              "      <td>5000</td>\n",
              "      <td>2.0</td>\n",
              "      <td>0</td>\n",
              "      <td>0</td>\n",
              "      <td>...</td>\n",
              "      <td>8</td>\n",
              "      <td>2530</td>\n",
              "      <td>1120</td>\n",
              "      <td>1915</td>\n",
              "      <td>2010</td>\n",
              "      <td>98105</td>\n",
              "      <td>47.6604</td>\n",
              "      <td>-122.289</td>\n",
              "      <td>2510</td>\n",
              "      <td>5000</td>\n",
              "    </tr>\n",
              "    <tr>\n",
              "      <th>16844</th>\n",
              "      <td>8823900290</td>\n",
              "      <td>20150317T000000</td>\n",
              "      <td>1400000.0</td>\n",
              "      <td>9</td>\n",
              "      <td>4.00</td>\n",
              "      <td>4620</td>\n",
              "      <td>5508</td>\n",
              "      <td>2.5</td>\n",
              "      <td>0</td>\n",
              "      <td>0</td>\n",
              "      <td>...</td>\n",
              "      <td>11</td>\n",
              "      <td>3870</td>\n",
              "      <td>750</td>\n",
              "      <td>1915</td>\n",
              "      <td>0</td>\n",
              "      <td>98105</td>\n",
              "      <td>47.6684</td>\n",
              "      <td>-122.309</td>\n",
              "      <td>2710</td>\n",
              "      <td>4320</td>\n",
              "    </tr>\n",
              "    <tr>\n",
              "      <th>4235</th>\n",
              "      <td>2902200015</td>\n",
              "      <td>20150106T000000</td>\n",
              "      <td>700000.0</td>\n",
              "      <td>9</td>\n",
              "      <td>3.00</td>\n",
              "      <td>3680</td>\n",
              "      <td>4400</td>\n",
              "      <td>2.0</td>\n",
              "      <td>0</td>\n",
              "      <td>0</td>\n",
              "      <td>...</td>\n",
              "      <td>7</td>\n",
              "      <td>2830</td>\n",
              "      <td>850</td>\n",
              "      <td>1908</td>\n",
              "      <td>0</td>\n",
              "      <td>98102</td>\n",
              "      <td>47.6374</td>\n",
              "      <td>-122.324</td>\n",
              "      <td>1960</td>\n",
              "      <td>2450</td>\n",
              "    </tr>\n",
              "  </tbody>\n",
              "</table>\n",
              "<p>10 rows × 21 columns</p>\n",
              "</div>\n",
              "    <div class=\"colab-df-buttons\">\n",
              "\n",
              "  <div class=\"colab-df-container\">\n",
              "    <button class=\"colab-df-convert\" onclick=\"convertToInteractive('df-0f6fc906-00d3-4b36-a6cd-cd0b468abe57')\"\n",
              "            title=\"Convert this dataframe to an interactive table.\"\n",
              "            style=\"display:none;\">\n",
              "\n",
              "  <svg xmlns=\"http://www.w3.org/2000/svg\" height=\"24px\" viewBox=\"0 -960 960 960\">\n",
              "    <path d=\"M120-120v-720h720v720H120Zm60-500h600v-160H180v160Zm220 220h160v-160H400v160Zm0 220h160v-160H400v160ZM180-400h160v-160H180v160Zm440 0h160v-160H620v160ZM180-180h160v-160H180v160Zm440 0h160v-160H620v160Z\"/>\n",
              "  </svg>\n",
              "    </button>\n",
              "\n",
              "  <style>\n",
              "    .colab-df-container {\n",
              "      display:flex;\n",
              "      gap: 12px;\n",
              "    }\n",
              "\n",
              "    .colab-df-convert {\n",
              "      background-color: #E8F0FE;\n",
              "      border: none;\n",
              "      border-radius: 50%;\n",
              "      cursor: pointer;\n",
              "      display: none;\n",
              "      fill: #1967D2;\n",
              "      height: 32px;\n",
              "      padding: 0 0 0 0;\n",
              "      width: 32px;\n",
              "    }\n",
              "\n",
              "    .colab-df-convert:hover {\n",
              "      background-color: #E2EBFA;\n",
              "      box-shadow: 0px 1px 2px rgba(60, 64, 67, 0.3), 0px 1px 3px 1px rgba(60, 64, 67, 0.15);\n",
              "      fill: #174EA6;\n",
              "    }\n",
              "\n",
              "    .colab-df-buttons div {\n",
              "      margin-bottom: 4px;\n",
              "    }\n",
              "\n",
              "    [theme=dark] .colab-df-convert {\n",
              "      background-color: #3B4455;\n",
              "      fill: #D2E3FC;\n",
              "    }\n",
              "\n",
              "    [theme=dark] .colab-df-convert:hover {\n",
              "      background-color: #434B5C;\n",
              "      box-shadow: 0px 1px 3px 1px rgba(0, 0, 0, 0.15);\n",
              "      filter: drop-shadow(0px 1px 2px rgba(0, 0, 0, 0.3));\n",
              "      fill: #FFFFFF;\n",
              "    }\n",
              "  </style>\n",
              "\n",
              "    <script>\n",
              "      const buttonEl =\n",
              "        document.querySelector('#df-0f6fc906-00d3-4b36-a6cd-cd0b468abe57 button.colab-df-convert');\n",
              "      buttonEl.style.display =\n",
              "        google.colab.kernel.accessAllowed ? 'block' : 'none';\n",
              "\n",
              "      async function convertToInteractive(key) {\n",
              "        const element = document.querySelector('#df-0f6fc906-00d3-4b36-a6cd-cd0b468abe57');\n",
              "        const dataTable =\n",
              "          await google.colab.kernel.invokeFunction('convertToInteractive',\n",
              "                                                    [key], {});\n",
              "        if (!dataTable) return;\n",
              "\n",
              "        const docLinkHtml = 'Like what you see? Visit the ' +\n",
              "          '<a target=\"_blank\" href=https://colab.research.google.com/notebooks/data_table.ipynb>data table notebook</a>'\n",
              "          + ' to learn more about interactive tables.';\n",
              "        element.innerHTML = '';\n",
              "        dataTable['output_type'] = 'display_data';\n",
              "        await google.colab.output.renderOutput(dataTable, element);\n",
              "        const docLink = document.createElement('div');\n",
              "        docLink.innerHTML = docLinkHtml;\n",
              "        element.appendChild(docLink);\n",
              "      }\n",
              "    </script>\n",
              "  </div>\n",
              "\n",
              "\n",
              "<div id=\"df-9f9cdbf5-ad61-4639-a666-d72ce64ede30\">\n",
              "  <button class=\"colab-df-quickchart\" onclick=\"quickchart('df-9f9cdbf5-ad61-4639-a666-d72ce64ede30')\"\n",
              "            title=\"Suggest charts\"\n",
              "            style=\"display:none;\">\n",
              "\n",
              "<svg xmlns=\"http://www.w3.org/2000/svg\" height=\"24px\"viewBox=\"0 0 24 24\"\n",
              "     width=\"24px\">\n",
              "    <g>\n",
              "        <path d=\"M19 3H5c-1.1 0-2 .9-2 2v14c0 1.1.9 2 2 2h14c1.1 0 2-.9 2-2V5c0-1.1-.9-2-2-2zM9 17H7v-7h2v7zm4 0h-2V7h2v10zm4 0h-2v-4h2v4z\"/>\n",
              "    </g>\n",
              "</svg>\n",
              "  </button>\n",
              "\n",
              "<style>\n",
              "  .colab-df-quickchart {\n",
              "      --bg-color: #E8F0FE;\n",
              "      --fill-color: #1967D2;\n",
              "      --hover-bg-color: #E2EBFA;\n",
              "      --hover-fill-color: #174EA6;\n",
              "      --disabled-fill-color: #AAA;\n",
              "      --disabled-bg-color: #DDD;\n",
              "  }\n",
              "\n",
              "  [theme=dark] .colab-df-quickchart {\n",
              "      --bg-color: #3B4455;\n",
              "      --fill-color: #D2E3FC;\n",
              "      --hover-bg-color: #434B5C;\n",
              "      --hover-fill-color: #FFFFFF;\n",
              "      --disabled-bg-color: #3B4455;\n",
              "      --disabled-fill-color: #666;\n",
              "  }\n",
              "\n",
              "  .colab-df-quickchart {\n",
              "    background-color: var(--bg-color);\n",
              "    border: none;\n",
              "    border-radius: 50%;\n",
              "    cursor: pointer;\n",
              "    display: none;\n",
              "    fill: var(--fill-color);\n",
              "    height: 32px;\n",
              "    padding: 0;\n",
              "    width: 32px;\n",
              "  }\n",
              "\n",
              "  .colab-df-quickchart:hover {\n",
              "    background-color: var(--hover-bg-color);\n",
              "    box-shadow: 0 1px 2px rgba(60, 64, 67, 0.3), 0 1px 3px 1px rgba(60, 64, 67, 0.15);\n",
              "    fill: var(--button-hover-fill-color);\n",
              "  }\n",
              "\n",
              "  .colab-df-quickchart-complete:disabled,\n",
              "  .colab-df-quickchart-complete:disabled:hover {\n",
              "    background-color: var(--disabled-bg-color);\n",
              "    fill: var(--disabled-fill-color);\n",
              "    box-shadow: none;\n",
              "  }\n",
              "\n",
              "  .colab-df-spinner {\n",
              "    border: 2px solid var(--fill-color);\n",
              "    border-color: transparent;\n",
              "    border-bottom-color: var(--fill-color);\n",
              "    animation:\n",
              "      spin 1s steps(1) infinite;\n",
              "  }\n",
              "\n",
              "  @keyframes spin {\n",
              "    0% {\n",
              "      border-color: transparent;\n",
              "      border-bottom-color: var(--fill-color);\n",
              "      border-left-color: var(--fill-color);\n",
              "    }\n",
              "    20% {\n",
              "      border-color: transparent;\n",
              "      border-left-color: var(--fill-color);\n",
              "      border-top-color: var(--fill-color);\n",
              "    }\n",
              "    30% {\n",
              "      border-color: transparent;\n",
              "      border-left-color: var(--fill-color);\n",
              "      border-top-color: var(--fill-color);\n",
              "      border-right-color: var(--fill-color);\n",
              "    }\n",
              "    40% {\n",
              "      border-color: transparent;\n",
              "      border-right-color: var(--fill-color);\n",
              "      border-top-color: var(--fill-color);\n",
              "    }\n",
              "    60% {\n",
              "      border-color: transparent;\n",
              "      border-right-color: var(--fill-color);\n",
              "    }\n",
              "    80% {\n",
              "      border-color: transparent;\n",
              "      border-right-color: var(--fill-color);\n",
              "      border-bottom-color: var(--fill-color);\n",
              "    }\n",
              "    90% {\n",
              "      border-color: transparent;\n",
              "      border-bottom-color: var(--fill-color);\n",
              "    }\n",
              "  }\n",
              "</style>\n",
              "\n",
              "  <script>\n",
              "    async function quickchart(key) {\n",
              "      const quickchartButtonEl =\n",
              "        document.querySelector('#' + key + ' button');\n",
              "      quickchartButtonEl.disabled = true;  // To prevent multiple clicks.\n",
              "      quickchartButtonEl.classList.add('colab-df-spinner');\n",
              "      try {\n",
              "        const charts = await google.colab.kernel.invokeFunction(\n",
              "            'suggestCharts', [key], {});\n",
              "      } catch (error) {\n",
              "        console.error('Error during call to suggestCharts:', error);\n",
              "      }\n",
              "      quickchartButtonEl.classList.remove('colab-df-spinner');\n",
              "      quickchartButtonEl.classList.add('colab-df-quickchart-complete');\n",
              "    }\n",
              "    (() => {\n",
              "      let quickchartButtonEl =\n",
              "        document.querySelector('#df-9f9cdbf5-ad61-4639-a666-d72ce64ede30 button');\n",
              "      quickchartButtonEl.style.display =\n",
              "        google.colab.kernel.accessAllowed ? 'block' : 'none';\n",
              "    })();\n",
              "  </script>\n",
              "</div>\n",
              "\n",
              "    </div>\n",
              "  </div>\n"
            ],
            "application/vnd.google.colaboratory.intrinsic+json": {
              "type": "dataframe"
            }
          },
          "metadata": {},
          "execution_count": 26
        }
      ]
    },
    {
      "cell_type": "code",
      "source": [
        "# Give me the 10 smallest listings in the houses DataFrame ranked by sqft_lot\n",
        "houses.nsmallest(10, [\"sqft_lot\"])"
      ],
      "metadata": {
        "colab": {
          "base_uri": "https://localhost:8080/",
          "height": 412
        },
        "id": "dtbwZN0TGBf6",
        "outputId": "44aeba62-8ea3-4ccb-d6cb-66b5d1480e7a"
      },
      "execution_count": 27,
      "outputs": [
        {
          "output_type": "execute_result",
          "data": {
            "text/plain": [
              "               id             date      price  bedrooms  bathrooms  \\\n",
              "15743  9828702895  20141022T000000   700000.0         4       1.75   \n",
              "5826   1773101159  20150107T000000   250000.0         3       2.25   \n",
              "7589   6371000026  20150122T000000   367500.0         2       2.00   \n",
              "3452   2559950110  20150422T000000  1234570.0         2       2.50   \n",
              "20604  7899800857  20141215T000000   256950.0         2       2.00   \n",
              "21552   688000017  20140627T000000   516500.0         1       1.25   \n",
              "547    7899800860  20150319T000000   259950.0         2       2.00   \n",
              "4352   7899800864  20150305T000000   259950.0         2       2.00   \n",
              "19662  3362400125  20150303T000000   405000.0         3       2.00   \n",
              "21519  1702901618  20150407T000000   420000.0         1       2.00   \n",
              "\n",
              "       sqft_living  sqft_lot  floors  waterfront  view  ...  grade  \\\n",
              "15743         2420       520     1.5           0     0  ...      7   \n",
              "5826          1050       572     2.0           0     0  ...      7   \n",
              "7589          1030       600     2.0           0     0  ...      8   \n",
              "3452          2470       609     3.0           0     0  ...     11   \n",
              "20604         1070       635     2.0           0     0  ...      9   \n",
              "21552         1100       638     3.0           0     0  ...      9   \n",
              "547           1070       649     2.0           0     0  ...      9   \n",
              "4352          1070       649     2.0           0     0  ...      9   \n",
              "19662         1060       651     3.0           0     0  ...      7   \n",
              "21519         1070       675     2.0           0     0  ...      8   \n",
              "\n",
              "       sqft_above  sqft_basement  yr_built  yr_renovated  zipcode      lat  \\\n",
              "15743        2420              0      1900             0    98112  47.6209   \n",
              "5826          740            310      2006             0    98106  47.5549   \n",
              "7589          680            350      2004             0    98116  47.5788   \n",
              "3452         1910            560      2011             0    98112  47.6182   \n",
              "20604         720            350      2008             0    98106  47.5212   \n",
              "21552        1100              0      2014             0    98112  47.6228   \n",
              "547           720            350      2008             0    98106  47.5213   \n",
              "4352          720            350      2008             0    98106  47.5213   \n",
              "19662        1060              0      2007             0    98103  47.6828   \n",
              "21519         880            190      2007             0    98118  47.5574   \n",
              "\n",
              "          long  sqft_living15  sqft_lot15  \n",
              "15743 -122.302           1200        1170  \n",
              "5826  -122.363           1260        1062  \n",
              "7589  -122.410           1120        1267  \n",
              "3452  -122.312           2440        1229  \n",
              "20604 -122.357           1070         928  \n",
              "21552 -122.307           1110        1933  \n",
              "547   -122.357           1070         928  \n",
              "4352  -122.357           1070         928  \n",
              "19662 -122.345           1440        1501  \n",
              "21519 -122.284           1220         788  \n",
              "\n",
              "[10 rows x 21 columns]"
            ],
            "text/html": [
              "\n",
              "  <div id=\"df-317ed3cd-1105-4816-8bf6-2e40f4efbdee\" class=\"colab-df-container\">\n",
              "    <div>\n",
              "<style scoped>\n",
              "    .dataframe tbody tr th:only-of-type {\n",
              "        vertical-align: middle;\n",
              "    }\n",
              "\n",
              "    .dataframe tbody tr th {\n",
              "        vertical-align: top;\n",
              "    }\n",
              "\n",
              "    .dataframe thead th {\n",
              "        text-align: right;\n",
              "    }\n",
              "</style>\n",
              "<table border=\"1\" class=\"dataframe\">\n",
              "  <thead>\n",
              "    <tr style=\"text-align: right;\">\n",
              "      <th></th>\n",
              "      <th>id</th>\n",
              "      <th>date</th>\n",
              "      <th>price</th>\n",
              "      <th>bedrooms</th>\n",
              "      <th>bathrooms</th>\n",
              "      <th>sqft_living</th>\n",
              "      <th>sqft_lot</th>\n",
              "      <th>floors</th>\n",
              "      <th>waterfront</th>\n",
              "      <th>view</th>\n",
              "      <th>...</th>\n",
              "      <th>grade</th>\n",
              "      <th>sqft_above</th>\n",
              "      <th>sqft_basement</th>\n",
              "      <th>yr_built</th>\n",
              "      <th>yr_renovated</th>\n",
              "      <th>zipcode</th>\n",
              "      <th>lat</th>\n",
              "      <th>long</th>\n",
              "      <th>sqft_living15</th>\n",
              "      <th>sqft_lot15</th>\n",
              "    </tr>\n",
              "  </thead>\n",
              "  <tbody>\n",
              "    <tr>\n",
              "      <th>15743</th>\n",
              "      <td>9828702895</td>\n",
              "      <td>20141022T000000</td>\n",
              "      <td>700000.0</td>\n",
              "      <td>4</td>\n",
              "      <td>1.75</td>\n",
              "      <td>2420</td>\n",
              "      <td>520</td>\n",
              "      <td>1.5</td>\n",
              "      <td>0</td>\n",
              "      <td>0</td>\n",
              "      <td>...</td>\n",
              "      <td>7</td>\n",
              "      <td>2420</td>\n",
              "      <td>0</td>\n",
              "      <td>1900</td>\n",
              "      <td>0</td>\n",
              "      <td>98112</td>\n",
              "      <td>47.6209</td>\n",
              "      <td>-122.302</td>\n",
              "      <td>1200</td>\n",
              "      <td>1170</td>\n",
              "    </tr>\n",
              "    <tr>\n",
              "      <th>5826</th>\n",
              "      <td>1773101159</td>\n",
              "      <td>20150107T000000</td>\n",
              "      <td>250000.0</td>\n",
              "      <td>3</td>\n",
              "      <td>2.25</td>\n",
              "      <td>1050</td>\n",
              "      <td>572</td>\n",
              "      <td>2.0</td>\n",
              "      <td>0</td>\n",
              "      <td>0</td>\n",
              "      <td>...</td>\n",
              "      <td>7</td>\n",
              "      <td>740</td>\n",
              "      <td>310</td>\n",
              "      <td>2006</td>\n",
              "      <td>0</td>\n",
              "      <td>98106</td>\n",
              "      <td>47.5549</td>\n",
              "      <td>-122.363</td>\n",
              "      <td>1260</td>\n",
              "      <td>1062</td>\n",
              "    </tr>\n",
              "    <tr>\n",
              "      <th>7589</th>\n",
              "      <td>6371000026</td>\n",
              "      <td>20150122T000000</td>\n",
              "      <td>367500.0</td>\n",
              "      <td>2</td>\n",
              "      <td>2.00</td>\n",
              "      <td>1030</td>\n",
              "      <td>600</td>\n",
              "      <td>2.0</td>\n",
              "      <td>0</td>\n",
              "      <td>0</td>\n",
              "      <td>...</td>\n",
              "      <td>8</td>\n",
              "      <td>680</td>\n",
              "      <td>350</td>\n",
              "      <td>2004</td>\n",
              "      <td>0</td>\n",
              "      <td>98116</td>\n",
              "      <td>47.5788</td>\n",
              "      <td>-122.410</td>\n",
              "      <td>1120</td>\n",
              "      <td>1267</td>\n",
              "    </tr>\n",
              "    <tr>\n",
              "      <th>3452</th>\n",
              "      <td>2559950110</td>\n",
              "      <td>20150422T000000</td>\n",
              "      <td>1234570.0</td>\n",
              "      <td>2</td>\n",
              "      <td>2.50</td>\n",
              "      <td>2470</td>\n",
              "      <td>609</td>\n",
              "      <td>3.0</td>\n",
              "      <td>0</td>\n",
              "      <td>0</td>\n",
              "      <td>...</td>\n",
              "      <td>11</td>\n",
              "      <td>1910</td>\n",
              "      <td>560</td>\n",
              "      <td>2011</td>\n",
              "      <td>0</td>\n",
              "      <td>98112</td>\n",
              "      <td>47.6182</td>\n",
              "      <td>-122.312</td>\n",
              "      <td>2440</td>\n",
              "      <td>1229</td>\n",
              "    </tr>\n",
              "    <tr>\n",
              "      <th>20604</th>\n",
              "      <td>7899800857</td>\n",
              "      <td>20141215T000000</td>\n",
              "      <td>256950.0</td>\n",
              "      <td>2</td>\n",
              "      <td>2.00</td>\n",
              "      <td>1070</td>\n",
              "      <td>635</td>\n",
              "      <td>2.0</td>\n",
              "      <td>0</td>\n",
              "      <td>0</td>\n",
              "      <td>...</td>\n",
              "      <td>9</td>\n",
              "      <td>720</td>\n",
              "      <td>350</td>\n",
              "      <td>2008</td>\n",
              "      <td>0</td>\n",
              "      <td>98106</td>\n",
              "      <td>47.5212</td>\n",
              "      <td>-122.357</td>\n",
              "      <td>1070</td>\n",
              "      <td>928</td>\n",
              "    </tr>\n",
              "    <tr>\n",
              "      <th>21552</th>\n",
              "      <td>688000017</td>\n",
              "      <td>20140627T000000</td>\n",
              "      <td>516500.0</td>\n",
              "      <td>1</td>\n",
              "      <td>1.25</td>\n",
              "      <td>1100</td>\n",
              "      <td>638</td>\n",
              "      <td>3.0</td>\n",
              "      <td>0</td>\n",
              "      <td>0</td>\n",
              "      <td>...</td>\n",
              "      <td>9</td>\n",
              "      <td>1100</td>\n",
              "      <td>0</td>\n",
              "      <td>2014</td>\n",
              "      <td>0</td>\n",
              "      <td>98112</td>\n",
              "      <td>47.6228</td>\n",
              "      <td>-122.307</td>\n",
              "      <td>1110</td>\n",
              "      <td>1933</td>\n",
              "    </tr>\n",
              "    <tr>\n",
              "      <th>547</th>\n",
              "      <td>7899800860</td>\n",
              "      <td>20150319T000000</td>\n",
              "      <td>259950.0</td>\n",
              "      <td>2</td>\n",
              "      <td>2.00</td>\n",
              "      <td>1070</td>\n",
              "      <td>649</td>\n",
              "      <td>2.0</td>\n",
              "      <td>0</td>\n",
              "      <td>0</td>\n",
              "      <td>...</td>\n",
              "      <td>9</td>\n",
              "      <td>720</td>\n",
              "      <td>350</td>\n",
              "      <td>2008</td>\n",
              "      <td>0</td>\n",
              "      <td>98106</td>\n",
              "      <td>47.5213</td>\n",
              "      <td>-122.357</td>\n",
              "      <td>1070</td>\n",
              "      <td>928</td>\n",
              "    </tr>\n",
              "    <tr>\n",
              "      <th>4352</th>\n",
              "      <td>7899800864</td>\n",
              "      <td>20150305T000000</td>\n",
              "      <td>259950.0</td>\n",
              "      <td>2</td>\n",
              "      <td>2.00</td>\n",
              "      <td>1070</td>\n",
              "      <td>649</td>\n",
              "      <td>2.0</td>\n",
              "      <td>0</td>\n",
              "      <td>0</td>\n",
              "      <td>...</td>\n",
              "      <td>9</td>\n",
              "      <td>720</td>\n",
              "      <td>350</td>\n",
              "      <td>2008</td>\n",
              "      <td>0</td>\n",
              "      <td>98106</td>\n",
              "      <td>47.5213</td>\n",
              "      <td>-122.357</td>\n",
              "      <td>1070</td>\n",
              "      <td>928</td>\n",
              "    </tr>\n",
              "    <tr>\n",
              "      <th>19662</th>\n",
              "      <td>3362400125</td>\n",
              "      <td>20150303T000000</td>\n",
              "      <td>405000.0</td>\n",
              "      <td>3</td>\n",
              "      <td>2.00</td>\n",
              "      <td>1060</td>\n",
              "      <td>651</td>\n",
              "      <td>3.0</td>\n",
              "      <td>0</td>\n",
              "      <td>0</td>\n",
              "      <td>...</td>\n",
              "      <td>7</td>\n",
              "      <td>1060</td>\n",
              "      <td>0</td>\n",
              "      <td>2007</td>\n",
              "      <td>0</td>\n",
              "      <td>98103</td>\n",
              "      <td>47.6828</td>\n",
              "      <td>-122.345</td>\n",
              "      <td>1440</td>\n",
              "      <td>1501</td>\n",
              "    </tr>\n",
              "    <tr>\n",
              "      <th>21519</th>\n",
              "      <td>1702901618</td>\n",
              "      <td>20150407T000000</td>\n",
              "      <td>420000.0</td>\n",
              "      <td>1</td>\n",
              "      <td>2.00</td>\n",
              "      <td>1070</td>\n",
              "      <td>675</td>\n",
              "      <td>2.0</td>\n",
              "      <td>0</td>\n",
              "      <td>0</td>\n",
              "      <td>...</td>\n",
              "      <td>8</td>\n",
              "      <td>880</td>\n",
              "      <td>190</td>\n",
              "      <td>2007</td>\n",
              "      <td>0</td>\n",
              "      <td>98118</td>\n",
              "      <td>47.5574</td>\n",
              "      <td>-122.284</td>\n",
              "      <td>1220</td>\n",
              "      <td>788</td>\n",
              "    </tr>\n",
              "  </tbody>\n",
              "</table>\n",
              "<p>10 rows × 21 columns</p>\n",
              "</div>\n",
              "    <div class=\"colab-df-buttons\">\n",
              "\n",
              "  <div class=\"colab-df-container\">\n",
              "    <button class=\"colab-df-convert\" onclick=\"convertToInteractive('df-317ed3cd-1105-4816-8bf6-2e40f4efbdee')\"\n",
              "            title=\"Convert this dataframe to an interactive table.\"\n",
              "            style=\"display:none;\">\n",
              "\n",
              "  <svg xmlns=\"http://www.w3.org/2000/svg\" height=\"24px\" viewBox=\"0 -960 960 960\">\n",
              "    <path d=\"M120-120v-720h720v720H120Zm60-500h600v-160H180v160Zm220 220h160v-160H400v160Zm0 220h160v-160H400v160ZM180-400h160v-160H180v160Zm440 0h160v-160H620v160ZM180-180h160v-160H180v160Zm440 0h160v-160H620v160Z\"/>\n",
              "  </svg>\n",
              "    </button>\n",
              "\n",
              "  <style>\n",
              "    .colab-df-container {\n",
              "      display:flex;\n",
              "      gap: 12px;\n",
              "    }\n",
              "\n",
              "    .colab-df-convert {\n",
              "      background-color: #E8F0FE;\n",
              "      border: none;\n",
              "      border-radius: 50%;\n",
              "      cursor: pointer;\n",
              "      display: none;\n",
              "      fill: #1967D2;\n",
              "      height: 32px;\n",
              "      padding: 0 0 0 0;\n",
              "      width: 32px;\n",
              "    }\n",
              "\n",
              "    .colab-df-convert:hover {\n",
              "      background-color: #E2EBFA;\n",
              "      box-shadow: 0px 1px 2px rgba(60, 64, 67, 0.3), 0px 1px 3px 1px rgba(60, 64, 67, 0.15);\n",
              "      fill: #174EA6;\n",
              "    }\n",
              "\n",
              "    .colab-df-buttons div {\n",
              "      margin-bottom: 4px;\n",
              "    }\n",
              "\n",
              "    [theme=dark] .colab-df-convert {\n",
              "      background-color: #3B4455;\n",
              "      fill: #D2E3FC;\n",
              "    }\n",
              "\n",
              "    [theme=dark] .colab-df-convert:hover {\n",
              "      background-color: #434B5C;\n",
              "      box-shadow: 0px 1px 3px 1px rgba(0, 0, 0, 0.15);\n",
              "      filter: drop-shadow(0px 1px 2px rgba(0, 0, 0, 0.3));\n",
              "      fill: #FFFFFF;\n",
              "    }\n",
              "  </style>\n",
              "\n",
              "    <script>\n",
              "      const buttonEl =\n",
              "        document.querySelector('#df-317ed3cd-1105-4816-8bf6-2e40f4efbdee button.colab-df-convert');\n",
              "      buttonEl.style.display =\n",
              "        google.colab.kernel.accessAllowed ? 'block' : 'none';\n",
              "\n",
              "      async function convertToInteractive(key) {\n",
              "        const element = document.querySelector('#df-317ed3cd-1105-4816-8bf6-2e40f4efbdee');\n",
              "        const dataTable =\n",
              "          await google.colab.kernel.invokeFunction('convertToInteractive',\n",
              "                                                    [key], {});\n",
              "        if (!dataTable) return;\n",
              "\n",
              "        const docLinkHtml = 'Like what you see? Visit the ' +\n",
              "          '<a target=\"_blank\" href=https://colab.research.google.com/notebooks/data_table.ipynb>data table notebook</a>'\n",
              "          + ' to learn more about interactive tables.';\n",
              "        element.innerHTML = '';\n",
              "        dataTable['output_type'] = 'display_data';\n",
              "        await google.colab.output.renderOutput(dataTable, element);\n",
              "        const docLink = document.createElement('div');\n",
              "        docLink.innerHTML = docLinkHtml;\n",
              "        element.appendChild(docLink);\n",
              "      }\n",
              "    </script>\n",
              "  </div>\n",
              "\n",
              "\n",
              "<div id=\"df-65309e02-43ce-4f42-8dc5-f022be984417\">\n",
              "  <button class=\"colab-df-quickchart\" onclick=\"quickchart('df-65309e02-43ce-4f42-8dc5-f022be984417')\"\n",
              "            title=\"Suggest charts\"\n",
              "            style=\"display:none;\">\n",
              "\n",
              "<svg xmlns=\"http://www.w3.org/2000/svg\" height=\"24px\"viewBox=\"0 0 24 24\"\n",
              "     width=\"24px\">\n",
              "    <g>\n",
              "        <path d=\"M19 3H5c-1.1 0-2 .9-2 2v14c0 1.1.9 2 2 2h14c1.1 0 2-.9 2-2V5c0-1.1-.9-2-2-2zM9 17H7v-7h2v7zm4 0h-2V7h2v10zm4 0h-2v-4h2v4z\"/>\n",
              "    </g>\n",
              "</svg>\n",
              "  </button>\n",
              "\n",
              "<style>\n",
              "  .colab-df-quickchart {\n",
              "      --bg-color: #E8F0FE;\n",
              "      --fill-color: #1967D2;\n",
              "      --hover-bg-color: #E2EBFA;\n",
              "      --hover-fill-color: #174EA6;\n",
              "      --disabled-fill-color: #AAA;\n",
              "      --disabled-bg-color: #DDD;\n",
              "  }\n",
              "\n",
              "  [theme=dark] .colab-df-quickchart {\n",
              "      --bg-color: #3B4455;\n",
              "      --fill-color: #D2E3FC;\n",
              "      --hover-bg-color: #434B5C;\n",
              "      --hover-fill-color: #FFFFFF;\n",
              "      --disabled-bg-color: #3B4455;\n",
              "      --disabled-fill-color: #666;\n",
              "  }\n",
              "\n",
              "  .colab-df-quickchart {\n",
              "    background-color: var(--bg-color);\n",
              "    border: none;\n",
              "    border-radius: 50%;\n",
              "    cursor: pointer;\n",
              "    display: none;\n",
              "    fill: var(--fill-color);\n",
              "    height: 32px;\n",
              "    padding: 0;\n",
              "    width: 32px;\n",
              "  }\n",
              "\n",
              "  .colab-df-quickchart:hover {\n",
              "    background-color: var(--hover-bg-color);\n",
              "    box-shadow: 0 1px 2px rgba(60, 64, 67, 0.3), 0 1px 3px 1px rgba(60, 64, 67, 0.15);\n",
              "    fill: var(--button-hover-fill-color);\n",
              "  }\n",
              "\n",
              "  .colab-df-quickchart-complete:disabled,\n",
              "  .colab-df-quickchart-complete:disabled:hover {\n",
              "    background-color: var(--disabled-bg-color);\n",
              "    fill: var(--disabled-fill-color);\n",
              "    box-shadow: none;\n",
              "  }\n",
              "\n",
              "  .colab-df-spinner {\n",
              "    border: 2px solid var(--fill-color);\n",
              "    border-color: transparent;\n",
              "    border-bottom-color: var(--fill-color);\n",
              "    animation:\n",
              "      spin 1s steps(1) infinite;\n",
              "  }\n",
              "\n",
              "  @keyframes spin {\n",
              "    0% {\n",
              "      border-color: transparent;\n",
              "      border-bottom-color: var(--fill-color);\n",
              "      border-left-color: var(--fill-color);\n",
              "    }\n",
              "    20% {\n",
              "      border-color: transparent;\n",
              "      border-left-color: var(--fill-color);\n",
              "      border-top-color: var(--fill-color);\n",
              "    }\n",
              "    30% {\n",
              "      border-color: transparent;\n",
              "      border-left-color: var(--fill-color);\n",
              "      border-top-color: var(--fill-color);\n",
              "      border-right-color: var(--fill-color);\n",
              "    }\n",
              "    40% {\n",
              "      border-color: transparent;\n",
              "      border-right-color: var(--fill-color);\n",
              "      border-top-color: var(--fill-color);\n",
              "    }\n",
              "    60% {\n",
              "      border-color: transparent;\n",
              "      border-right-color: var(--fill-color);\n",
              "    }\n",
              "    80% {\n",
              "      border-color: transparent;\n",
              "      border-right-color: var(--fill-color);\n",
              "      border-bottom-color: var(--fill-color);\n",
              "    }\n",
              "    90% {\n",
              "      border-color: transparent;\n",
              "      border-bottom-color: var(--fill-color);\n",
              "    }\n",
              "  }\n",
              "</style>\n",
              "\n",
              "  <script>\n",
              "    async function quickchart(key) {\n",
              "      const quickchartButtonEl =\n",
              "        document.querySelector('#' + key + ' button');\n",
              "      quickchartButtonEl.disabled = true;  // To prevent multiple clicks.\n",
              "      quickchartButtonEl.classList.add('colab-df-spinner');\n",
              "      try {\n",
              "        const charts = await google.colab.kernel.invokeFunction(\n",
              "            'suggestCharts', [key], {});\n",
              "      } catch (error) {\n",
              "        console.error('Error during call to suggestCharts:', error);\n",
              "      }\n",
              "      quickchartButtonEl.classList.remove('colab-df-spinner');\n",
              "      quickchartButtonEl.classList.add('colab-df-quickchart-complete');\n",
              "    }\n",
              "    (() => {\n",
              "      let quickchartButtonEl =\n",
              "        document.querySelector('#df-65309e02-43ce-4f42-8dc5-f022be984417 button');\n",
              "      quickchartButtonEl.style.display =\n",
              "        google.colab.kernel.accessAllowed ? 'block' : 'none';\n",
              "    })();\n",
              "  </script>\n",
              "</div>\n",
              "\n",
              "    </div>\n",
              "  </div>\n"
            ],
            "application/vnd.google.colaboratory.intrinsic+json": {
              "type": "dataframe"
            }
          },
          "metadata": {},
          "execution_count": 27
        }
      ]
    },
    {
      "cell_type": "markdown",
      "source": [
        "### Selecting a multiple columns from a DataFrame\n",
        "Returns a subset of columns. A `list` of columns has to be passed to the square brackets as such:\n",
        "*   `df[list]` or\n",
        "*   `df[[\"col_a\", \"col_b\", \"col_c\"]]`\n",
        "\n",
        "*Returns a* `DataFrame`\n"
      ],
      "metadata": {
        "id": "99bo35vzGt5Z"
      }
    },
    {
      "cell_type": "code",
      "source": [
        "'''\n",
        "* Get a subset of the houses DataFrame containing only:\n",
        "  price, bedrooms, bathrooms, grade, condition, yr_built, yr_renovated\n",
        "\n",
        "* Get 10 listings sort by price in ascending order\n",
        "'''\n",
        "# Specifying a list of the columns needed:\n",
        "cols = ['price', 'bedrooms', 'bathrooms','condition', 'grade','yr_built', 'yr_renovated']\n",
        "new_df = houses[cols]\n",
        "new_df.nsmallest(10, ['price'])"
      ],
      "metadata": {
        "colab": {
          "base_uri": "https://localhost:8080/",
          "height": 363
        },
        "id": "QIsbJLEyG5cb",
        "outputId": "0ba7a74a-73ec-4556-a0e6-3747fb773789"
      },
      "execution_count": 28,
      "outputs": [
        {
          "output_type": "execute_result",
          "data": {
            "text/plain": [
              "         price  bedrooms  bathrooms  condition  grade  yr_built  yr_renovated\n",
              "1149   75000.0         1       0.00          3      3      1966             0\n",
              "15293  78000.0         2       1.00          1      5      1942             0\n",
              "465    80000.0         1       0.75          2      4      1912             0\n",
              "16198  81000.0         2       1.00          1      5      1943             0\n",
              "8274   82000.0         3       1.00          3      6      1954             0\n",
              "2141   82500.0         2       1.00          2      5      1951             0\n",
              "18468  83000.0         2       1.00          3      5      1918             0\n",
              "3767   84000.0         2       1.00          3      6      1949             0\n",
              "10253  85000.0         2       1.00          3      6      1939             0\n",
              "16714  85000.0         2       1.00          3      5      1947             0"
            ],
            "text/html": [
              "\n",
              "  <div id=\"df-dcaaae33-d6d1-49ae-ae2e-80f6c1970b7e\" class=\"colab-df-container\">\n",
              "    <div>\n",
              "<style scoped>\n",
              "    .dataframe tbody tr th:only-of-type {\n",
              "        vertical-align: middle;\n",
              "    }\n",
              "\n",
              "    .dataframe tbody tr th {\n",
              "        vertical-align: top;\n",
              "    }\n",
              "\n",
              "    .dataframe thead th {\n",
              "        text-align: right;\n",
              "    }\n",
              "</style>\n",
              "<table border=\"1\" class=\"dataframe\">\n",
              "  <thead>\n",
              "    <tr style=\"text-align: right;\">\n",
              "      <th></th>\n",
              "      <th>price</th>\n",
              "      <th>bedrooms</th>\n",
              "      <th>bathrooms</th>\n",
              "      <th>condition</th>\n",
              "      <th>grade</th>\n",
              "      <th>yr_built</th>\n",
              "      <th>yr_renovated</th>\n",
              "    </tr>\n",
              "  </thead>\n",
              "  <tbody>\n",
              "    <tr>\n",
              "      <th>1149</th>\n",
              "      <td>75000.0</td>\n",
              "      <td>1</td>\n",
              "      <td>0.00</td>\n",
              "      <td>3</td>\n",
              "      <td>3</td>\n",
              "      <td>1966</td>\n",
              "      <td>0</td>\n",
              "    </tr>\n",
              "    <tr>\n",
              "      <th>15293</th>\n",
              "      <td>78000.0</td>\n",
              "      <td>2</td>\n",
              "      <td>1.00</td>\n",
              "      <td>1</td>\n",
              "      <td>5</td>\n",
              "      <td>1942</td>\n",
              "      <td>0</td>\n",
              "    </tr>\n",
              "    <tr>\n",
              "      <th>465</th>\n",
              "      <td>80000.0</td>\n",
              "      <td>1</td>\n",
              "      <td>0.75</td>\n",
              "      <td>2</td>\n",
              "      <td>4</td>\n",
              "      <td>1912</td>\n",
              "      <td>0</td>\n",
              "    </tr>\n",
              "    <tr>\n",
              "      <th>16198</th>\n",
              "      <td>81000.0</td>\n",
              "      <td>2</td>\n",
              "      <td>1.00</td>\n",
              "      <td>1</td>\n",
              "      <td>5</td>\n",
              "      <td>1943</td>\n",
              "      <td>0</td>\n",
              "    </tr>\n",
              "    <tr>\n",
              "      <th>8274</th>\n",
              "      <td>82000.0</td>\n",
              "      <td>3</td>\n",
              "      <td>1.00</td>\n",
              "      <td>3</td>\n",
              "      <td>6</td>\n",
              "      <td>1954</td>\n",
              "      <td>0</td>\n",
              "    </tr>\n",
              "    <tr>\n",
              "      <th>2141</th>\n",
              "      <td>82500.0</td>\n",
              "      <td>2</td>\n",
              "      <td>1.00</td>\n",
              "      <td>2</td>\n",
              "      <td>5</td>\n",
              "      <td>1951</td>\n",
              "      <td>0</td>\n",
              "    </tr>\n",
              "    <tr>\n",
              "      <th>18468</th>\n",
              "      <td>83000.0</td>\n",
              "      <td>2</td>\n",
              "      <td>1.00</td>\n",
              "      <td>3</td>\n",
              "      <td>5</td>\n",
              "      <td>1918</td>\n",
              "      <td>0</td>\n",
              "    </tr>\n",
              "    <tr>\n",
              "      <th>3767</th>\n",
              "      <td>84000.0</td>\n",
              "      <td>2</td>\n",
              "      <td>1.00</td>\n",
              "      <td>3</td>\n",
              "      <td>6</td>\n",
              "      <td>1949</td>\n",
              "      <td>0</td>\n",
              "    </tr>\n",
              "    <tr>\n",
              "      <th>10253</th>\n",
              "      <td>85000.0</td>\n",
              "      <td>2</td>\n",
              "      <td>1.00</td>\n",
              "      <td>3</td>\n",
              "      <td>6</td>\n",
              "      <td>1939</td>\n",
              "      <td>0</td>\n",
              "    </tr>\n",
              "    <tr>\n",
              "      <th>16714</th>\n",
              "      <td>85000.0</td>\n",
              "      <td>2</td>\n",
              "      <td>1.00</td>\n",
              "      <td>3</td>\n",
              "      <td>5</td>\n",
              "      <td>1947</td>\n",
              "      <td>0</td>\n",
              "    </tr>\n",
              "  </tbody>\n",
              "</table>\n",
              "</div>\n",
              "    <div class=\"colab-df-buttons\">\n",
              "\n",
              "  <div class=\"colab-df-container\">\n",
              "    <button class=\"colab-df-convert\" onclick=\"convertToInteractive('df-dcaaae33-d6d1-49ae-ae2e-80f6c1970b7e')\"\n",
              "            title=\"Convert this dataframe to an interactive table.\"\n",
              "            style=\"display:none;\">\n",
              "\n",
              "  <svg xmlns=\"http://www.w3.org/2000/svg\" height=\"24px\" viewBox=\"0 -960 960 960\">\n",
              "    <path d=\"M120-120v-720h720v720H120Zm60-500h600v-160H180v160Zm220 220h160v-160H400v160Zm0 220h160v-160H400v160ZM180-400h160v-160H180v160Zm440 0h160v-160H620v160ZM180-180h160v-160H180v160Zm440 0h160v-160H620v160Z\"/>\n",
              "  </svg>\n",
              "    </button>\n",
              "\n",
              "  <style>\n",
              "    .colab-df-container {\n",
              "      display:flex;\n",
              "      gap: 12px;\n",
              "    }\n",
              "\n",
              "    .colab-df-convert {\n",
              "      background-color: #E8F0FE;\n",
              "      border: none;\n",
              "      border-radius: 50%;\n",
              "      cursor: pointer;\n",
              "      display: none;\n",
              "      fill: #1967D2;\n",
              "      height: 32px;\n",
              "      padding: 0 0 0 0;\n",
              "      width: 32px;\n",
              "    }\n",
              "\n",
              "    .colab-df-convert:hover {\n",
              "      background-color: #E2EBFA;\n",
              "      box-shadow: 0px 1px 2px rgba(60, 64, 67, 0.3), 0px 1px 3px 1px rgba(60, 64, 67, 0.15);\n",
              "      fill: #174EA6;\n",
              "    }\n",
              "\n",
              "    .colab-df-buttons div {\n",
              "      margin-bottom: 4px;\n",
              "    }\n",
              "\n",
              "    [theme=dark] .colab-df-convert {\n",
              "      background-color: #3B4455;\n",
              "      fill: #D2E3FC;\n",
              "    }\n",
              "\n",
              "    [theme=dark] .colab-df-convert:hover {\n",
              "      background-color: #434B5C;\n",
              "      box-shadow: 0px 1px 3px 1px rgba(0, 0, 0, 0.15);\n",
              "      filter: drop-shadow(0px 1px 2px rgba(0, 0, 0, 0.3));\n",
              "      fill: #FFFFFF;\n",
              "    }\n",
              "  </style>\n",
              "\n",
              "    <script>\n",
              "      const buttonEl =\n",
              "        document.querySelector('#df-dcaaae33-d6d1-49ae-ae2e-80f6c1970b7e button.colab-df-convert');\n",
              "      buttonEl.style.display =\n",
              "        google.colab.kernel.accessAllowed ? 'block' : 'none';\n",
              "\n",
              "      async function convertToInteractive(key) {\n",
              "        const element = document.querySelector('#df-dcaaae33-d6d1-49ae-ae2e-80f6c1970b7e');\n",
              "        const dataTable =\n",
              "          await google.colab.kernel.invokeFunction('convertToInteractive',\n",
              "                                                    [key], {});\n",
              "        if (!dataTable) return;\n",
              "\n",
              "        const docLinkHtml = 'Like what you see? Visit the ' +\n",
              "          '<a target=\"_blank\" href=https://colab.research.google.com/notebooks/data_table.ipynb>data table notebook</a>'\n",
              "          + ' to learn more about interactive tables.';\n",
              "        element.innerHTML = '';\n",
              "        dataTable['output_type'] = 'display_data';\n",
              "        await google.colab.output.renderOutput(dataTable, element);\n",
              "        const docLink = document.createElement('div');\n",
              "        docLink.innerHTML = docLinkHtml;\n",
              "        element.appendChild(docLink);\n",
              "      }\n",
              "    </script>\n",
              "  </div>\n",
              "\n",
              "\n",
              "<div id=\"df-74422331-b762-4145-94dc-75b1baac323c\">\n",
              "  <button class=\"colab-df-quickchart\" onclick=\"quickchart('df-74422331-b762-4145-94dc-75b1baac323c')\"\n",
              "            title=\"Suggest charts\"\n",
              "            style=\"display:none;\">\n",
              "\n",
              "<svg xmlns=\"http://www.w3.org/2000/svg\" height=\"24px\"viewBox=\"0 0 24 24\"\n",
              "     width=\"24px\">\n",
              "    <g>\n",
              "        <path d=\"M19 3H5c-1.1 0-2 .9-2 2v14c0 1.1.9 2 2 2h14c1.1 0 2-.9 2-2V5c0-1.1-.9-2-2-2zM9 17H7v-7h2v7zm4 0h-2V7h2v10zm4 0h-2v-4h2v4z\"/>\n",
              "    </g>\n",
              "</svg>\n",
              "  </button>\n",
              "\n",
              "<style>\n",
              "  .colab-df-quickchart {\n",
              "      --bg-color: #E8F0FE;\n",
              "      --fill-color: #1967D2;\n",
              "      --hover-bg-color: #E2EBFA;\n",
              "      --hover-fill-color: #174EA6;\n",
              "      --disabled-fill-color: #AAA;\n",
              "      --disabled-bg-color: #DDD;\n",
              "  }\n",
              "\n",
              "  [theme=dark] .colab-df-quickchart {\n",
              "      --bg-color: #3B4455;\n",
              "      --fill-color: #D2E3FC;\n",
              "      --hover-bg-color: #434B5C;\n",
              "      --hover-fill-color: #FFFFFF;\n",
              "      --disabled-bg-color: #3B4455;\n",
              "      --disabled-fill-color: #666;\n",
              "  }\n",
              "\n",
              "  .colab-df-quickchart {\n",
              "    background-color: var(--bg-color);\n",
              "    border: none;\n",
              "    border-radius: 50%;\n",
              "    cursor: pointer;\n",
              "    display: none;\n",
              "    fill: var(--fill-color);\n",
              "    height: 32px;\n",
              "    padding: 0;\n",
              "    width: 32px;\n",
              "  }\n",
              "\n",
              "  .colab-df-quickchart:hover {\n",
              "    background-color: var(--hover-bg-color);\n",
              "    box-shadow: 0 1px 2px rgba(60, 64, 67, 0.3), 0 1px 3px 1px rgba(60, 64, 67, 0.15);\n",
              "    fill: var(--button-hover-fill-color);\n",
              "  }\n",
              "\n",
              "  .colab-df-quickchart-complete:disabled,\n",
              "  .colab-df-quickchart-complete:disabled:hover {\n",
              "    background-color: var(--disabled-bg-color);\n",
              "    fill: var(--disabled-fill-color);\n",
              "    box-shadow: none;\n",
              "  }\n",
              "\n",
              "  .colab-df-spinner {\n",
              "    border: 2px solid var(--fill-color);\n",
              "    border-color: transparent;\n",
              "    border-bottom-color: var(--fill-color);\n",
              "    animation:\n",
              "      spin 1s steps(1) infinite;\n",
              "  }\n",
              "\n",
              "  @keyframes spin {\n",
              "    0% {\n",
              "      border-color: transparent;\n",
              "      border-bottom-color: var(--fill-color);\n",
              "      border-left-color: var(--fill-color);\n",
              "    }\n",
              "    20% {\n",
              "      border-color: transparent;\n",
              "      border-left-color: var(--fill-color);\n",
              "      border-top-color: var(--fill-color);\n",
              "    }\n",
              "    30% {\n",
              "      border-color: transparent;\n",
              "      border-left-color: var(--fill-color);\n",
              "      border-top-color: var(--fill-color);\n",
              "      border-right-color: var(--fill-color);\n",
              "    }\n",
              "    40% {\n",
              "      border-color: transparent;\n",
              "      border-right-color: var(--fill-color);\n",
              "      border-top-color: var(--fill-color);\n",
              "    }\n",
              "    60% {\n",
              "      border-color: transparent;\n",
              "      border-right-color: var(--fill-color);\n",
              "    }\n",
              "    80% {\n",
              "      border-color: transparent;\n",
              "      border-right-color: var(--fill-color);\n",
              "      border-bottom-color: var(--fill-color);\n",
              "    }\n",
              "    90% {\n",
              "      border-color: transparent;\n",
              "      border-bottom-color: var(--fill-color);\n",
              "    }\n",
              "  }\n",
              "</style>\n",
              "\n",
              "  <script>\n",
              "    async function quickchart(key) {\n",
              "      const quickchartButtonEl =\n",
              "        document.querySelector('#' + key + ' button');\n",
              "      quickchartButtonEl.disabled = true;  // To prevent multiple clicks.\n",
              "      quickchartButtonEl.classList.add('colab-df-spinner');\n",
              "      try {\n",
              "        const charts = await google.colab.kernel.invokeFunction(\n",
              "            'suggestCharts', [key], {});\n",
              "      } catch (error) {\n",
              "        console.error('Error during call to suggestCharts:', error);\n",
              "      }\n",
              "      quickchartButtonEl.classList.remove('colab-df-spinner');\n",
              "      quickchartButtonEl.classList.add('colab-df-quickchart-complete');\n",
              "    }\n",
              "    (() => {\n",
              "      let quickchartButtonEl =\n",
              "        document.querySelector('#df-74422331-b762-4145-94dc-75b1baac323c button');\n",
              "      quickchartButtonEl.style.display =\n",
              "        google.colab.kernel.accessAllowed ? 'block' : 'none';\n",
              "    })();\n",
              "  </script>\n",
              "</div>\n",
              "\n",
              "    </div>\n",
              "  </div>\n"
            ],
            "application/vnd.google.colaboratory.intrinsic+json": {
              "type": "dataframe",
              "summary": "{\n  \"name\": \"new_df\",\n  \"rows\": 10,\n  \"fields\": [\n    {\n      \"column\": \"price\",\n      \"properties\": {\n        \"dtype\": \"number\",\n        \"std\": 3183.725979275087,\n        \"min\": 75000.0,\n        \"max\": 85000.0,\n        \"num_unique_values\": 9,\n        \"samples\": [\n          84000.0,\n          78000.0,\n          82500.0\n        ],\n        \"semantic_type\": \"\",\n        \"description\": \"\"\n      }\n    },\n    {\n      \"column\": \"bedrooms\",\n      \"properties\": {\n        \"dtype\": \"number\",\n        \"std\": 0,\n        \"min\": 1,\n        \"max\": 3,\n        \"num_unique_values\": 3,\n        \"samples\": [\n          1,\n          2,\n          3\n        ],\n        \"semantic_type\": \"\",\n        \"description\": \"\"\n      }\n    },\n    {\n      \"column\": \"bathrooms\",\n      \"properties\": {\n        \"dtype\": \"number\",\n        \"std\": 0.31732387941099616,\n        \"min\": 0.0,\n        \"max\": 1.0,\n        \"num_unique_values\": 3,\n        \"samples\": [\n          0.0,\n          1.0,\n          0.75\n        ],\n        \"semantic_type\": \"\",\n        \"description\": \"\"\n      }\n    },\n    {\n      \"column\": \"condition\",\n      \"properties\": {\n        \"dtype\": \"number\",\n        \"std\": 0,\n        \"min\": 1,\n        \"max\": 3,\n        \"num_unique_values\": 3,\n        \"samples\": [\n          3,\n          1,\n          2\n        ],\n        \"semantic_type\": \"\",\n        \"description\": \"\"\n      }\n    },\n    {\n      \"column\": \"grade\",\n      \"properties\": {\n        \"dtype\": \"number\",\n        \"std\": 0,\n        \"min\": 3,\n        \"max\": 6,\n        \"num_unique_values\": 4,\n        \"samples\": [\n          5,\n          6,\n          3\n        ],\n        \"semantic_type\": \"\",\n        \"description\": \"\"\n      }\n    },\n    {\n      \"column\": \"yr_built\",\n      \"properties\": {\n        \"dtype\": \"number\",\n        \"std\": 16,\n        \"min\": 1912,\n        \"max\": 1966,\n        \"num_unique_values\": 10,\n        \"samples\": [\n          1939,\n          1942,\n          1951\n        ],\n        \"semantic_type\": \"\",\n        \"description\": \"\"\n      }\n    },\n    {\n      \"column\": \"yr_renovated\",\n      \"properties\": {\n        \"dtype\": \"number\",\n        \"std\": 0,\n        \"min\": 0,\n        \"max\": 0,\n        \"num_unique_values\": 1,\n        \"samples\": [\n          0\n        ],\n        \"semantic_type\": \"\",\n        \"description\": \"\"\n      }\n    }\n  ]\n}"
            }
          },
          "metadata": {},
          "execution_count": 28
        }
      ]
    },
    {
      "cell_type": "markdown",
      "source": [
        "### `Series.value_counts()`\n",
        "* Return a `Series` containing a breakdown of the frequency of unique values.\n",
        "\n",
        "* The resulting object will be in `descending` order by default so that the first element is the most frequently-occurring element\n",
        "\n",
        "* However, the order can be changed by passing `ascending = True` to the method"
      ],
      "metadata": {
        "id": "1qe8UCZKAsU5"
      }
    },
    {
      "cell_type": "code",
      "source": [
        "# What is the count of the different number of bedrooms from the houses DataFrame?\n",
        "houses[\"bedrooms\"].unique()"
      ],
      "metadata": {
        "colab": {
          "base_uri": "https://localhost:8080/"
        },
        "id": "Iq2r-aa1BBHL",
        "outputId": "401f42ef-8810-499c-bbcc-b2f95a3dbebd"
      },
      "execution_count": 29,
      "outputs": [
        {
          "output_type": "execute_result",
          "data": {
            "text/plain": [
              "array([ 3,  2,  4,  5,  1,  6,  7,  0,  8,  9, 11, 10, 33])"
            ]
          },
          "metadata": {},
          "execution_count": 29
        }
      ]
    },
    {
      "cell_type": "code",
      "source": [
        "houses[\"bedrooms\"].value_counts()"
      ],
      "metadata": {
        "colab": {
          "base_uri": "https://localhost:8080/"
        },
        "id": "WtsWNOfDB0S2",
        "outputId": "897b78eb-65a4-4cd6-be1b-c98c9e30a223"
      },
      "execution_count": 30,
      "outputs": [
        {
          "output_type": "execute_result",
          "data": {
            "text/plain": [
              "3     9824\n",
              "4     6882\n",
              "2     2760\n",
              "5     1601\n",
              "6      272\n",
              "1      199\n",
              "7       38\n",
              "0       13\n",
              "8       13\n",
              "9        6\n",
              "10       3\n",
              "11       1\n",
              "33       1\n",
              "Name: bedrooms, dtype: int64"
            ]
          },
          "metadata": {},
          "execution_count": 30
        }
      ]
    },
    {
      "cell_type": "code",
      "source": [
        "# What is the value count of the sex column from the titanic DataFrame?\n",
        "titanic[\"sex\"].value_counts(ascending=True) # ascending is False by Default"
      ],
      "metadata": {
        "colab": {
          "base_uri": "https://localhost:8080/"
        },
        "id": "wYF_qnjwCLSj",
        "outputId": "d0ca2526-14ec-4ba5-e72b-1e124b3cbf0b"
      },
      "execution_count": 31,
      "outputs": [
        {
          "output_type": "execute_result",
          "data": {
            "text/plain": [
              "female    466\n",
              "male      843\n",
              "Name: sex, dtype: int64"
            ]
          },
          "metadata": {},
          "execution_count": 31
        }
      ]
    },
    {
      "cell_type": "code",
      "source": [
        "# How many different authors are in the amazon bestsellers DataFrame?\n",
        "bestsellers[\"Author\"].nunique()"
      ],
      "metadata": {
        "colab": {
          "base_uri": "https://localhost:8080/"
        },
        "id": "jztRSzzlENS2",
        "outputId": "e613e766-26a5-4376-a43b-18abf2d0a657"
      },
      "execution_count": 32,
      "outputs": [
        {
          "output_type": "execute_result",
          "data": {
            "text/plain": [
              "248"
            ]
          },
          "metadata": {},
          "execution_count": 32
        }
      ]
    },
    {
      "cell_type": "code",
      "source": [
        "# Who are the top 10 most frequent author in the amazon bestsellers DataFrame?\n",
        "bestsellers[\"Author\"].value_counts().head(10)"
      ],
      "metadata": {
        "colab": {
          "base_uri": "https://localhost:8080/"
        },
        "id": "j-hl8-d-E5Jq",
        "outputId": "bf32c7a7-9c65-42ad-bbf1-562037acb65b"
      },
      "execution_count": 33,
      "outputs": [
        {
          "output_type": "execute_result",
          "data": {
            "text/plain": [
              "Jeff Kinney                           12\n",
              "Gary Chapman                          11\n",
              "Rick Riordan                          11\n",
              "Suzanne Collins                       11\n",
              "American Psychological Association    10\n",
              "Dr. Seuss                              9\n",
              "Gallup                                 9\n",
              "Rob Elliott                            8\n",
              "Stephen R. Covey                       7\n",
              "Stephenie Meyer                        7\n",
              "Name: Author, dtype: int64"
            ]
          },
          "metadata": {},
          "execution_count": 33
        }
      ]
    },
    {
      "cell_type": "code",
      "source": [
        "# How many houses appear for each specific type of floors in the houses DataFrame?\n",
        "houses[\"floors\"].value_counts(ascending=True) # ascending is False by Default"
      ],
      "metadata": {
        "colab": {
          "base_uri": "https://localhost:8080/"
        },
        "id": "LOrq_TFx5-gG",
        "outputId": "1c97dab4-2c42-43cb-cf9f-991dc874d624"
      },
      "execution_count": 34,
      "outputs": [
        {
          "output_type": "execute_result",
          "data": {
            "text/plain": [
              "3.5        8\n",
              "2.5      161\n",
              "3.0      613\n",
              "1.5     1910\n",
              "2.0     8241\n",
              "1.0    10680\n",
              "Name: floors, dtype: int64"
            ]
          },
          "metadata": {},
          "execution_count": 34
        }
      ]
    },
    {
      "cell_type": "markdown",
      "source": [
        "### `DataFrame.value_counts()`\n",
        "See more about `DataFrame.value_counts()` [**here**](https://pandas.pydata.org/docs/reference/api/pandas.DataFrame.value_counts.html#pandas.DataFrame.value_counts)\n",
        "\n",
        "*Returns a* `Series`"
      ],
      "metadata": {
        "id": "lSiOHoIp9Op4"
      }
    },
    {
      "cell_type": "code",
      "source": [
        "# Find how many values there are for the unique combinations that exist for bedrooms & bathrooms\n",
        "houses[[\"bedrooms\", \"bathrooms\"]].value_counts(ascending=False) # Ascending is set to False by default"
      ],
      "metadata": {
        "colab": {
          "base_uri": "https://localhost:8080/"
        },
        "id": "L9u75cIY-CfL",
        "outputId": "8d4c04b1-fd66-4aa9-82cd-a8c780891a8e"
      },
      "execution_count": 35,
      "outputs": [
        {
          "output_type": "execute_result",
          "data": {
            "text/plain": [
              "bedrooms  bathrooms\n",
              "4         2.50         2502\n",
              "3         2.50         2357\n",
              "          1.75         1870\n",
              "          1.00         1780\n",
              "2         1.00         1558\n",
              "                       ... \n",
              "7         1.00            1\n",
              "          3.25            1\n",
              "          5.50            1\n",
              "          5.75            1\n",
              "33        1.75            1\n",
              "Length: 144, dtype: int64"
            ]
          },
          "metadata": {},
          "execution_count": 35
        }
      ]
    },
    {
      "cell_type": "code",
      "source": [
        "# df.value_counts() returns a Series. Just to confirm:\n",
        "type(houses[[\"bedrooms\", \"bathrooms\"]].value_counts())"
      ],
      "metadata": {
        "id": "4aD-yNaJBpk7"
      },
      "execution_count": null,
      "outputs": []
    },
    {
      "cell_type": "code",
      "source": [
        "'''\n",
        "Keep in mind that this returns a series, whose labels are kind of like:\n",
        "  4 bedrooms 2.5 bathrooms\n",
        "  33 bedrooms 1.75 bathrooms\n",
        "  2 bedrooms 1 bathrooms\n",
        "'''\n",
        "houses[[\"bedrooms\", \"bathrooms\"]].value_counts().index"
      ],
      "metadata": {
        "colab": {
          "base_uri": "https://localhost:8080/"
        },
        "id": "SL-RLbgVAp6z",
        "outputId": "a6c28c6a-0241-4710-aa0d-65f12e15f2dc"
      },
      "execution_count": 37,
      "outputs": [
        {
          "output_type": "execute_result",
          "data": {
            "text/plain": [
              "MultiIndex([( 4,  2.5),\n",
              "            ( 3,  2.5),\n",
              "            ( 3, 1.75),\n",
              "            ( 3,  1.0),\n",
              "            ( 2,  1.0),\n",
              "            ( 3, 2.25),\n",
              "            ( 3,  2.0),\n",
              "            ( 3,  1.5),\n",
              "            ( 4, 1.75),\n",
              "            ( 4, 2.25),\n",
              "            ...\n",
              "            ( 0,  1.5),\n",
              "            ( 0,  1.0),\n",
              "            ( 6,  6.0),\n",
              "            ( 6, 7.75),\n",
              "            ( 6,  8.0),\n",
              "            ( 7,  1.0),\n",
              "            ( 7, 3.25),\n",
              "            ( 7,  5.5),\n",
              "            ( 7, 5.75),\n",
              "            (33, 1.75)],\n",
              "           names=['bedrooms', 'bathrooms'], length=144)"
            ]
          },
          "metadata": {},
          "execution_count": 37
        }
      ]
    },
    {
      "cell_type": "markdown",
      "source": [
        "# `Series.plot()`\n",
        "* Makes `plot` of a `Series`\n",
        "* `Series.plot()` will plot the `values` in the `Series` against the `labels`"
      ],
      "metadata": {
        "id": "PIjFglTq7tkp"
      }
    },
    {
      "cell_type": "code",
      "source": [
        "# How many unique bedrooms are there and how many times do they occur?\n",
        "houses[\"bedrooms\"].value_counts()"
      ],
      "metadata": {
        "colab": {
          "base_uri": "https://localhost:8080/"
        },
        "id": "tgUMYqCiAq8l",
        "outputId": "2e0746f1-3506-4926-8013-41b9308bc715"
      },
      "execution_count": 38,
      "outputs": [
        {
          "output_type": "execute_result",
          "data": {
            "text/plain": [
              "3     9824\n",
              "4     6882\n",
              "2     2760\n",
              "5     1601\n",
              "6      272\n",
              "1      199\n",
              "7       38\n",
              "0       13\n",
              "8       13\n",
              "9        6\n",
              "10       3\n",
              "11       1\n",
              "33       1\n",
              "Name: bedrooms, dtype: int64"
            ]
          },
          "metadata": {},
          "execution_count": 38
        }
      ]
    },
    {
      "cell_type": "code",
      "source": [
        "# Let's make a plot of the above Series\n",
        "houses[\"bedrooms\"].value_counts().plot(kind=\"bar\") #kind of plot = bar graph; default = line"
      ],
      "metadata": {
        "colab": {
          "base_uri": "https://localhost:8080/",
          "height": 451
        },
        "id": "NyJFWS8NDXzk",
        "outputId": "b2fb0eee-c313-4933-affd-96011ad086ff"
      },
      "execution_count": 39,
      "outputs": [
        {
          "output_type": "execute_result",
          "data": {
            "text/plain": [
              "<Axes: >"
            ]
          },
          "metadata": {},
          "execution_count": 39
        },
        {
          "output_type": "display_data",
          "data": {
            "text/plain": [
              "<Figure size 640x480 with 1 Axes>"
            ],
            "image/png": "[encoded data removed]"
          },
          "metadata": {}
        }
      ]
    },
    {
      "cell_type": "code",
      "source": [
        "# From the titanic DataFrame, let's plot how many people lived vs how many died\n",
        "titanic[\"survived\"].value_counts()\n",
        "\n",
        "# Meaning that 500 survived, and 809 died"
      ],
      "metadata": {
        "colab": {
          "base_uri": "https://localhost:8080/"
        },
        "id": "0iQpwKGzEIa8",
        "outputId": "143dacbf-67d8-4851-9eef-1bc6dffc6c73"
      },
      "execution_count": 40,
      "outputs": [
        {
          "output_type": "execute_result",
          "data": {
            "text/plain": [
              "0    809\n",
              "1    500\n",
              "Name: survived, dtype: int64"
            ]
          },
          "metadata": {},
          "execution_count": 40
        }
      ]
    },
    {
      "cell_type": "code",
      "source": [
        "# Let's plot that\n",
        "titanic[\"survived\"].value_counts().plot(kind=\"pie\") #kind of plot = pie chart ; default = line"
      ],
      "metadata": {
        "colab": {
          "base_uri": "https://localhost:8080/",
          "height": 423
        },
        "id": "dWzMbi0ZEuhC",
        "outputId": "f74cc6c3-1159-4f9b-8847-26550c062d2f"
      },
      "execution_count": 41,
      "outputs": [
        {
          "output_type": "execute_result",
          "data": {
            "text/plain": [
              "<Axes: ylabel='survived'>"
            ]
          },
          "metadata": {},
          "execution_count": 41
        },
        {
          "output_type": "display_data",
          "data": {
            "text/plain": [
              "<Figure size 640x480 with 1 Axes>"
            ],
            "image/png": "[encoded data removed]"
          },
          "metadata": {}
        }
      ]
    },
    {
      "cell_type": "code",
      "source": [
        "# How about the gender representation for people onboard the Titanic?\n",
        "titanic[\"sex\"].value_counts()\n",
        "\n",
        "# Meaning there more male than female passengers"
      ],
      "metadata": {
        "colab": {
          "base_uri": "https://localhost:8080/"
        },
        "id": "l8Y1P7MIE1U8",
        "outputId": "64f9f27d-1ff4-43ec-866f-c8e9088cec63"
      },
      "execution_count": 42,
      "outputs": [
        {
          "output_type": "execute_result",
          "data": {
            "text/plain": [
              "male      843\n",
              "female    466\n",
              "Name: sex, dtype: int64"
            ]
          },
          "metadata": {},
          "execution_count": 42
        }
      ]
    },
    {
      "cell_type": "code",
      "source": [
        "# Let's plot that\n",
        "titanic[\"sex\"].value_counts().plot(kind=\"pie\")"
      ],
      "metadata": {
        "colab": {
          "base_uri": "https://localhost:8080/",
          "height": 423
        },
        "id": "ugcra_yrFkQJ",
        "outputId": "4d1a34e3-e45a-47c3-bdd2-64a355aea5d7"
      },
      "execution_count": 43,
      "outputs": [
        {
          "output_type": "execute_result",
          "data": {
            "text/plain": [
              "<Axes: ylabel='sex'>"
            ]
          },
          "metadata": {},
          "execution_count": 43
        },
        {
          "output_type": "display_data",
          "data": {
            "text/plain": [
              "<Figure size 640x480 with 1 Axes>"
            ],
            "image/png": "[encoded data removed]"
          },
          "metadata": {}
        }
      ]
    },
    {
      "cell_type": "code",
      "source": [
        "# From the netflix_titles DataSet, let's see a general representation of top 10 ratings\n",
        "netflix[\"rating\"].unique() # The different ratings present:"
      ],
      "metadata": {
        "colab": {
          "base_uri": "https://localhost:8080/"
        },
        "id": "4I8c3RYq8JgN",
        "outputId": "2bda2654-5029-4a13-b3a5-d2b0bf625d8e"
      },
      "execution_count": 44,
      "outputs": [
        {
          "output_type": "execute_result",
          "data": {
            "text/plain": [
              "array(['PG-13', 'TV-MA', 'PG', 'TV-14', 'TV-PG', 'TV-Y', 'TV-Y7', 'R',\n",
              "       'TV-G', 'G', 'NC-17'], dtype=object)"
            ]
          },
          "metadata": {},
          "execution_count": 44
        }
      ]
    },
    {
      "cell_type": "code",
      "source": [
        "# Get top 10 ratings\n",
        "netflix[\"rating\"].value_counts().head(10)"
      ],
      "metadata": {
        "colab": {
          "base_uri": "https://localhost:8080/"
        },
        "id": "P6SUNC878pq3",
        "outputId": "44a12fb8-a34c-449a-f918-364374ae9713"
      },
      "execution_count": 45,
      "outputs": [
        {
          "output_type": "execute_result",
          "data": {
            "text/plain": [
              "TV-MA    2256\n",
              "TV-14    1386\n",
              "TV-PG     470\n",
              "R         367\n",
              "TV-Y      231\n",
              "PG-13     226\n",
              "TV-Y7     213\n",
              "TV-G      144\n",
              "PG        123\n",
              "G          13\n",
              "Name: rating, dtype: int64"
            ]
          },
          "metadata": {},
          "execution_count": 45
        }
      ]
    },
    {
      "cell_type": "code",
      "source": [
        "# Plot the series returned from the above line of code\n",
        "netflix[\"rating\"].value_counts().head(10).plot(kind=\"bar\")"
      ],
      "metadata": {
        "colab": {
          "base_uri": "https://localhost:8080/",
          "height": 476
        },
        "id": "xql6A1XQ9Cdj",
        "outputId": "ee57a82e-43b9-4ed4-8a1a-df6eecf0d6c9"
      },
      "execution_count": 46,
      "outputs": [
        {
          "output_type": "execute_result",
          "data": {
            "text/plain": [
              "<Axes: >"
            ]
          },
          "metadata": {},
          "execution_count": 46
        },
        {
          "output_type": "display_data",
          "data": {
            "text/plain": [
              "<Figure size 640x480 with 1 Axes>"
            ],
            "image/png": "[encoded data removed]"
          },
          "metadata": {}
        }
      ]
    },
    {
      "cell_type": "markdown",
      "source": [
        "# `DataFrame.plot()`\n",
        "* Makes `plot` of a `DataFrame`"
      ],
      "metadata": {
        "id": "yg2PhYLXGJDk"
      }
    },
    {
      "cell_type": "code",
      "source": [
        "# Let's plot the number of bathrooms vs bedrooms in the houses DataFrame\n",
        "# First, we'll have to create a sub-set from the houses Dataframe, that only contains bedrooms & bathrooms like this:\n",
        "bed_and_baths = houses[[\"bedrooms\", \"bathrooms\"]]\n",
        "bed_and_baths"
      ],
      "metadata": {
        "colab": {
          "base_uri": "https://localhost:8080/",
          "height": 424
        },
        "id": "YHNb498SFlAw",
        "outputId": "e762eb07-ebaa-465f-9d16-06922c25e275"
      },
      "execution_count": 47,
      "outputs": [
        {
          "output_type": "execute_result",
          "data": {
            "text/plain": [
              "       bedrooms  bathrooms\n",
              "0             3       1.00\n",
              "1             3       2.25\n",
              "2             2       1.00\n",
              "3             4       3.00\n",
              "4             3       2.00\n",
              "...         ...        ...\n",
              "21608         3       2.50\n",
              "21609         4       2.50\n",
              "21610         2       0.75\n",
              "21611         3       2.50\n",
              "21612         2       0.75\n",
              "\n",
              "[21613 rows x 2 columns]"
            ],
            "text/html": [
              "\n",
              "  <div id=\"df-0f9a5888-273d-4939-8311-7ed99650ef46\" class=\"colab-df-container\">\n",
              "    <div>\n",
              "<style scoped>\n",
              "    .dataframe tbody tr th:only-of-type {\n",
              "        vertical-align: middle;\n",
              "    }\n",
              "\n",
              "    .dataframe tbody tr th {\n",
              "        vertical-align: top;\n",
              "    }\n",
              "\n",
              "    .dataframe thead th {\n",
              "        text-align: right;\n",
              "    }\n",
              "</style>\n",
              "<table border=\"1\" class=\"dataframe\">\n",
              "  <thead>\n",
              "    <tr style=\"text-align: right;\">\n",
              "      <th></th>\n",
              "      <th>bedrooms</th>\n",
              "      <th>bathrooms</th>\n",
              "    </tr>\n",
              "  </thead>\n",
              "  <tbody>\n",
              "    <tr>\n",
              "      <th>0</th>\n",
              "      <td>3</td>\n",
              "      <td>1.00</td>\n",
              "    </tr>\n",
              "    <tr>\n",
              "      <th>1</th>\n",
              "      <td>3</td>\n",
              "      <td>2.25</td>\n",
              "    </tr>\n",
              "    <tr>\n",
              "      <th>2</th>\n",
              "      <td>2</td>\n",
              "      <td>1.00</td>\n",
              "    </tr>\n",
              "    <tr>\n",
              "      <th>3</th>\n",
              "      <td>4</td>\n",
              "      <td>3.00</td>\n",
              "    </tr>\n",
              "    <tr>\n",
              "      <th>4</th>\n",
              "      <td>3</td>\n",
              "      <td>2.00</td>\n",
              "    </tr>\n",
              "    <tr>\n",
              "      <th>...</th>\n",
              "      <td>...</td>\n",
              "      <td>...</td>\n",
              "    </tr>\n",
              "    <tr>\n",
              "      <th>21608</th>\n",
              "      <td>3</td>\n",
              "      <td>2.50</td>\n",
              "    </tr>\n",
              "    <tr>\n",
              "      <th>21609</th>\n",
              "      <td>4</td>\n",
              "      <td>2.50</td>\n",
              "    </tr>\n",
              "    <tr>\n",
              "      <th>21610</th>\n",
              "      <td>2</td>\n",
              "      <td>0.75</td>\n",
              "    </tr>\n",
              "    <tr>\n",
              "      <th>21611</th>\n",
              "      <td>3</td>\n",
              "      <td>2.50</td>\n",
              "    </tr>\n",
              "    <tr>\n",
              "      <th>21612</th>\n",
              "      <td>2</td>\n",
              "      <td>0.75</td>\n",
              "    </tr>\n",
              "  </tbody>\n",
              "</table>\n",
              "<p>21613 rows × 2 columns</p>\n",
              "</div>\n",
              "    <div class=\"colab-df-buttons\">\n",
              "\n",
              "  <div class=\"colab-df-container\">\n",
              "    <button class=\"colab-df-convert\" onclick=\"convertToInteractive('df-0f9a5888-273d-4939-8311-7ed99650ef46')\"\n",
              "            title=\"Convert this dataframe to an interactive table.\"\n",
              "            style=\"display:none;\">\n",
              "\n",
              "  <svg xmlns=\"http://www.w3.org/2000/svg\" height=\"24px\" viewBox=\"0 -960 960 960\">\n",
              "    <path d=\"M120-120v-720h720v720H120Zm60-500h600v-160H180v160Zm220 220h160v-160H400v160Zm0 220h160v-160H400v160ZM180-400h160v-160H180v160Zm440 0h160v-160H620v160ZM180-180h160v-160H180v160Zm440 0h160v-160H620v160Z\"/>\n",
              "  </svg>\n",
              "    </button>\n",
              "\n",
              "  <style>\n",
              "    .colab-df-container {\n",
              "      display:flex;\n",
              "      gap: 12px;\n",
              "    }\n",
              "\n",
              "    .colab-df-convert {\n",
              "      background-color: #E8F0FE;\n",
              "      border: none;\n",
              "      border-radius: 50%;\n",
              "      cursor: pointer;\n",
              "      display: none;\n",
              "      fill: #1967D2;\n",
              "      height: 32px;\n",
              "      padding: 0 0 0 0;\n",
              "      width: 32px;\n",
              "    }\n",
              "\n",
              "    .colab-df-convert:hover {\n",
              "      background-color: #E2EBFA;\n",
              "      box-shadow: 0px 1px 2px rgba(60, 64, 67, 0.3), 0px 1px 3px 1px rgba(60, 64, 67, 0.15);\n",
              "      fill: #174EA6;\n",
              "    }\n",
              "\n",
              "    .colab-df-buttons div {\n",
              "      margin-bottom: 4px;\n",
              "    }\n",
              "\n",
              "    [theme=dark] .colab-df-convert {\n",
              "      background-color: #3B4455;\n",
              "      fill: #D2E3FC;\n",
              "    }\n",
              "\n",
              "    [theme=dark] .colab-df-convert:hover {\n",
              "      background-color: #434B5C;\n",
              "      box-shadow: 0px 1px 3px 1px rgba(0, 0, 0, 0.15);\n",
              "      filter: drop-shadow(0px 1px 2px rgba(0, 0, 0, 0.3));\n",
              "      fill: #FFFFFF;\n",
              "    }\n",
              "  </style>\n",
              "\n",
              "    <script>\n",
              "      const buttonEl =\n",
              "        document.querySelector('#df-0f9a5888-273d-4939-8311-7ed99650ef46 button.colab-df-convert');\n",
              "      buttonEl.style.display =\n",
              "        google.colab.kernel.accessAllowed ? 'block' : 'none';\n",
              "\n",
              "      async function convertToInteractive(key) {\n",
              "        const element = document.querySelector('#df-0f9a5888-273d-4939-8311-7ed99650ef46');\n",
              "        const dataTable =\n",
              "          await google.colab.kernel.invokeFunction('convertToInteractive',\n",
              "                                                    [key], {});\n",
              "        if (!dataTable) return;\n",
              "\n",
              "        const docLinkHtml = 'Like what you see? Visit the ' +\n",
              "          '<a target=\"_blank\" href=https://colab.research.google.com/notebooks/data_table.ipynb>data table notebook</a>'\n",
              "          + ' to learn more about interactive tables.';\n",
              "        element.innerHTML = '';\n",
              "        dataTable['output_type'] = 'display_data';\n",
              "        await google.colab.output.renderOutput(dataTable, element);\n",
              "        const docLink = document.createElement('div');\n",
              "        docLink.innerHTML = docLinkHtml;\n",
              "        element.appendChild(docLink);\n",
              "      }\n",
              "    </script>\n",
              "  </div>\n",
              "\n",
              "\n",
              "<div id=\"df-5c34f691-a128-4c8f-809a-a2400af976fc\">\n",
              "  <button class=\"colab-df-quickchart\" onclick=\"quickchart('df-5c34f691-a128-4c8f-809a-a2400af976fc')\"\n",
              "            title=\"Suggest charts\"\n",
              "            style=\"display:none;\">\n",
              "\n",
              "<svg xmlns=\"http://www.w3.org/2000/svg\" height=\"24px\"viewBox=\"0 0 24 24\"\n",
              "     width=\"24px\">\n",
              "    <g>\n",
              "        <path d=\"M19 3H5c-1.1 0-2 .9-2 2v14c0 1.1.9 2 2 2h14c1.1 0 2-.9 2-2V5c0-1.1-.9-2-2-2zM9 17H7v-7h2v7zm4 0h-2V7h2v10zm4 0h-2v-4h2v4z\"/>\n",
              "    </g>\n",
              "</svg>\n",
              "  </button>\n",
              "\n",
              "<style>\n",
              "  .colab-df-quickchart {\n",
              "      --bg-color: #E8F0FE;\n",
              "      --fill-color: #1967D2;\n",
              "      --hover-bg-color: #E2EBFA;\n",
              "      --hover-fill-color: #174EA6;\n",
              "      --disabled-fill-color: #AAA;\n",
              "      --disabled-bg-color: #DDD;\n",
              "  }\n",
              "\n",
              "  [theme=dark] .colab-df-quickchart {\n",
              "      --bg-color: #3B4455;\n",
              "      --fill-color: #D2E3FC;\n",
              "      --hover-bg-color: #434B5C;\n",
              "      --hover-fill-color: #FFFFFF;\n",
              "      --disabled-bg-color: #3B4455;\n",
              "      --disabled-fill-color: #666;\n",
              "  }\n",
              "\n",
              "  .colab-df-quickchart {\n",
              "    background-color: var(--bg-color);\n",
              "    border: none;\n",
              "    border-radius: 50%;\n",
              "    cursor: pointer;\n",
              "    display: none;\n",
              "    fill: var(--fill-color);\n",
              "    height: 32px;\n",
              "    padding: 0;\n",
              "    width: 32px;\n",
              "  }\n",
              "\n",
              "  .colab-df-quickchart:hover {\n",
              "    background-color: var(--hover-bg-color);\n",
              "    box-shadow: 0 1px 2px rgba(60, 64, 67, 0.3), 0 1px 3px 1px rgba(60, 64, 67, 0.15);\n",
              "    fill: var(--button-hover-fill-color);\n",
              "  }\n",
              "\n",
              "  .colab-df-quickchart-complete:disabled,\n",
              "  .colab-df-quickchart-complete:disabled:hover {\n",
              "    background-color: var(--disabled-bg-color);\n",
              "    fill: var(--disabled-fill-color);\n",
              "    box-shadow: none;\n",
              "  }\n",
              "\n",
              "  .colab-df-spinner {\n",
              "    border: 2px solid var(--fill-color);\n",
              "    border-color: transparent;\n",
              "    border-bottom-color: var(--fill-color);\n",
              "    animation:\n",
              "      spin 1s steps(1) infinite;\n",
              "  }\n",
              "\n",
              "  @keyframes spin {\n",
              "    0% {\n",
              "      border-color: transparent;\n",
              "      border-bottom-color: var(--fill-color);\n",
              "      border-left-color: var(--fill-color);\n",
              "    }\n",
              "    20% {\n",
              "      border-color: transparent;\n",
              "      border-left-color: var(--fill-color);\n",
              "      border-top-color: var(--fill-color);\n",
              "    }\n",
              "    30% {\n",
              "      border-color: transparent;\n",
              "      border-left-color: var(--fill-color);\n",
              "      border-top-color: var(--fill-color);\n",
              "      border-right-color: var(--fill-color);\n",
              "    }\n",
              "    40% {\n",
              "      border-color: transparent;\n",
              "      border-right-color: var(--fill-color);\n",
              "      border-top-color: var(--fill-color);\n",
              "    }\n",
              "    60% {\n",
              "      border-color: transparent;\n",
              "      border-right-color: var(--fill-color);\n",
              "    }\n",
              "    80% {\n",
              "      border-color: transparent;\n",
              "      border-right-color: var(--fill-color);\n",
              "      border-bottom-color: var(--fill-color);\n",
              "    }\n",
              "    90% {\n",
              "      border-color: transparent;\n",
              "      border-bottom-color: var(--fill-color);\n",
              "    }\n",
              "  }\n",
              "</style>\n",
              "\n",
              "  <script>\n",
              "    async function quickchart(key) {\n",
              "      const quickchartButtonEl =\n",
              "        document.querySelector('#' + key + ' button');\n",
              "      quickchartButtonEl.disabled = true;  // To prevent multiple clicks.\n",
              "      quickchartButtonEl.classList.add('colab-df-spinner');\n",
              "      try {\n",
              "        const charts = await google.colab.kernel.invokeFunction(\n",
              "            'suggestCharts', [key], {});\n",
              "      } catch (error) {\n",
              "        console.error('Error during call to suggestCharts:', error);\n",
              "      }\n",
              "      quickchartButtonEl.classList.remove('colab-df-spinner');\n",
              "      quickchartButtonEl.classList.add('colab-df-quickchart-complete');\n",
              "    }\n",
              "    (() => {\n",
              "      let quickchartButtonEl =\n",
              "        document.querySelector('#df-5c34f691-a128-4c8f-809a-a2400af976fc button');\n",
              "      quickchartButtonEl.style.display =\n",
              "        google.colab.kernel.accessAllowed ? 'block' : 'none';\n",
              "    })();\n",
              "  </script>\n",
              "</div>\n",
              "\n",
              "  <div id=\"id_5886c7ab-57c2-4495-8746-3316783b7d11\">\n",
              "    <style>\n",
              "      .colab-df-generate {\n",
              "        background-color: #E8F0FE;\n",
              "        border: none;\n",
              "        border-radius: 50%;\n",
              "        cursor: pointer;\n",
              "        display: none;\n",
              "        fill: #1967D2;\n",
              "        height: 32px;\n",
              "        padding: 0 0 0 0;\n",
              "        width: 32px;\n",
              "      }\n",
              "\n",
              "      .colab-df-generate:hover {\n",
              "        background-color: #E2EBFA;\n",
              "        box-shadow: 0px 1px 2px rgba(60, 64, 67, 0.3), 0px 1px 3px 1px rgba(60, 64, 67, 0.15);\n",
              "        fill: #174EA6;\n",
              "      }\n",
              "\n",
              "      [theme=dark] .colab-df-generate {\n",
              "        background-color: #3B4455;\n",
              "        fill: #D2E3FC;\n",
              "      }\n",
              "\n",
              "      [theme=dark] .colab-df-generate:hover {\n",
              "        background-color: #434B5C;\n",
              "        box-shadow: 0px 1px 3px 1px rgba(0, 0, 0, 0.15);\n",
              "        filter: drop-shadow(0px 1px 2px rgba(0, 0, 0, 0.3));\n",
              "        fill: #FFFFFF;\n",
              "      }\n",
              "    </style>\n",
              "    <button class=\"colab-df-generate\" onclick=\"generateWithVariable('bed_and_baths')\"\n",
              "            title=\"Generate code using this dataframe.\"\n",
              "            style=\"display:none;\">\n",
              "\n",
              "  <svg xmlns=\"http://www.w3.org/2000/svg\" height=\"24px\"viewBox=\"0 0 24 24\"\n",
              "       width=\"24px\">\n",
              "    <path d=\"M7,19H8.4L18.45,9,17,7.55,7,17.6ZM5,21V16.75L18.45,3.32a2,2,0,0,1,2.83,0l1.4,1.43a1.91,1.91,0,0,1,.58,1.4,1.91,1.91,0,0,1-.58,1.4L9.25,21ZM18.45,9,17,7.55Zm-12,3A5.31,5.31,0,0,0,4.9,8.1,5.31,5.31,0,0,0,1,6.5,5.31,5.31,0,0,0,4.9,4.9,5.31,5.31,0,0,0,6.5,1,5.31,5.31,0,0,0,8.1,4.9,5.31,5.31,0,0,0,12,6.5,5.46,5.46,0,0,0,6.5,12Z\"/>\n",
              "  </svg>\n",
              "    </button>\n",
              "    <script>\n",
              "      (() => {\n",
              "      const buttonEl =\n",
              "        document.querySelector('#id_5886c7ab-57c2-4495-8746-3316783b7d11 button.colab-df-generate');\n",
              "      buttonEl.style.display =\n",
              "        google.colab.kernel.accessAllowed ? 'block' : 'none';\n",
              "\n",
              "      buttonEl.onclick = () => {\n",
              "        google.colab.notebook.generateWithVariable('bed_and_baths');\n",
              "      }\n",
              "      })();\n",
              "    </script>\n",
              "  </div>\n",
              "\n",
              "    </div>\n",
              "  </div>\n"
            ],
            "application/vnd.google.colaboratory.intrinsic+json": {
              "type": "dataframe",
              "variable_name": "bed_and_baths",
              "summary": "{\n  \"name\": \"bed_and_baths\",\n  \"rows\": 21613,\n  \"fields\": [\n    {\n      \"column\": \"bedrooms\",\n      \"properties\": {\n        \"dtype\": \"number\",\n        \"std\": 0,\n        \"min\": 0,\n        \"max\": 33,\n        \"num_unique_values\": 13,\n        \"samples\": [\n          10,\n          9,\n          3\n        ],\n        \"semantic_type\": \"\",\n        \"description\": \"\"\n      }\n    },\n    {\n      \"column\": \"bathrooms\",\n      \"properties\": {\n        \"dtype\": \"number\",\n        \"std\": 0.770163157217742,\n        \"min\": 0.0,\n        \"max\": 8.0,\n        \"num_unique_values\": 30,\n        \"samples\": [\n          7.75,\n          4.25,\n          6.75\n        ],\n        \"semantic_type\": \"\",\n        \"description\": \"\"\n      }\n    }\n  ]\n}"
            }
          },
          "metadata": {},
          "execution_count": 47
        }
      ]
    },
    {
      "cell_type": "code",
      "source": [
        "# Make a Scatter plot, with x axis = bedrooms & y axis = bathrooms\n",
        "bed_and_baths.plot(y=\"bathrooms\", x=\"bedrooms\", kind=\"scatter\")"
      ],
      "metadata": {
        "colab": {
          "base_uri": "https://localhost:8080/",
          "height": 466
        },
        "id": "CYPRNPclFlVh",
        "outputId": "5d134811-e8ff-415f-d4cb-bb5f2be9fd39"
      },
      "execution_count": 48,
      "outputs": [
        {
          "output_type": "execute_result",
          "data": {
            "text/plain": [
              "<Axes: xlabel='bedrooms', ylabel='bathrooms'>"
            ]
          },
          "metadata": {},
          "execution_count": 48
        },
        {
          "output_type": "display_data",
          "data": {
            "text/plain": [
              "<Figure size 640x480 with 1 Axes>"
            ],
            "image/png": "[encoded data removed]"
          },
          "metadata": {}
        }
      ]
    },
    {
      "cell_type": "markdown",
      "source": [
        "# **Exercise Time!** 💪 💪 💪\n",
        "---\n",
        "**Work with the `bestsellers.csv` dataset to answer the following questions:**"
      ],
      "metadata": {
        "id": "EIKZWVOh9yL1"
      }
    },
    {
      "cell_type": "markdown",
      "source": [
        "### Part 1\n",
        "* Retrieve a series that contains the book Names\n",
        "* Retrieve a series that contains the User Ratings\n",
        "* Retrieve the first 8 Authors"
      ],
      "metadata": {
        "id": "8lRN_RplBDqn"
      }
    },
    {
      "cell_type": "code",
      "source": [
        "bestsellers.columns"
      ],
      "metadata": {
        "colab": {
          "base_uri": "https://localhost:8080/"
        },
        "id": "05lMOmJkDHIt",
        "outputId": "d851a7c4-aa25-4395-e9e1-27856437f19b"
      },
      "execution_count": 49,
      "outputs": [
        {
          "output_type": "execute_result",
          "data": {
            "text/plain": [
              "Index(['Name', 'Author', 'User Rating', 'Reviews', 'Price', 'Year', 'Genre'], dtype='object')"
            ]
          },
          "metadata": {},
          "execution_count": 49
        }
      ]
    },
    {
      "cell_type": "code",
      "source": [
        "# Retrieve a series that contains the book Names\n",
        "bestsellers[\"Name\"]"
      ],
      "metadata": {
        "colab": {
          "base_uri": "https://localhost:8080/"
        },
        "id": "2C6IoVRPDJxL",
        "outputId": "d2e1b77c-4ea8-46c6-9c31-7051595e242b"
      },
      "execution_count": 50,
      "outputs": [
        {
          "output_type": "execute_result",
          "data": {
            "text/plain": [
              "0                          10-Day Green Smoothie Cleanse\n",
              "1                                      11/22/63: A Novel\n",
              "2                12 Rules for Life: An Antidote to Chaos\n",
              "3                                 1984 (Signet Classics)\n",
              "4      5,000 Awesome Facts (About Everything!) (Natio...\n",
              "                             ...                        \n",
              "545         Wrecking Ball (Diary of a Wimpy Kid Book 14)\n",
              "546    You Are a Badass: How to Stop Doubting Your Gr...\n",
              "547    You Are a Badass: How to Stop Doubting Your Gr...\n",
              "548    You Are a Badass: How to Stop Doubting Your Gr...\n",
              "549    You Are a Badass: How to Stop Doubting Your Gr...\n",
              "Name: Name, Length: 550, dtype: object"
            ]
          },
          "metadata": {},
          "execution_count": 50
        }
      ]
    },
    {
      "cell_type": "code",
      "source": [
        "# Retrieve a series that contains the User Ratings\n",
        "bestsellers[\"User Rating\"]"
      ],
      "metadata": {
        "colab": {
          "base_uri": "https://localhost:8080/"
        },
        "id": "qR80EuQRDoBC",
        "outputId": "12a8e650-19bc-4720-e797-e6536e5900a0"
      },
      "execution_count": 51,
      "outputs": [
        {
          "output_type": "execute_result",
          "data": {
            "text/plain": [
              "0      4.7\n",
              "1      4.6\n",
              "2      4.7\n",
              "3      4.7\n",
              "4      4.8\n",
              "      ... \n",
              "545    4.9\n",
              "546    4.7\n",
              "547    4.7\n",
              "548    4.7\n",
              "549    4.7\n",
              "Name: User Rating, Length: 550, dtype: float64"
            ]
          },
          "metadata": {},
          "execution_count": 51
        }
      ]
    },
    {
      "cell_type": "code",
      "source": [
        "# Retrieve the first 8 Authors\n",
        "bestsellers[\"Author\"].head(8)"
      ],
      "metadata": {
        "colab": {
          "base_uri": "https://localhost:8080/"
        },
        "id": "iYRmEDi_D0hS",
        "outputId": "1bd3348b-b232-460d-c5b6-7e7babb986ec"
      },
      "execution_count": 52,
      "outputs": [
        {
          "output_type": "execute_result",
          "data": {
            "text/plain": [
              "0                    JJ Smith\n",
              "1                Stephen King\n",
              "2          Jordan B. Peterson\n",
              "3               George Orwell\n",
              "4    National Geographic Kids\n",
              "5         George R. R. Martin\n",
              "6         George R. R. Martin\n",
              "7                 Amor Towles\n",
              "Name: Author, dtype: object"
            ]
          },
          "metadata": {},
          "execution_count": 52
        }
      ]
    },
    {
      "cell_type": "markdown",
      "source": [
        "### Part 2\n",
        "* Find the unique Genres\n",
        "* Find the number of unique Authors\n",
        "* Find the average Price\n",
        "* Find the 10 highest prices"
      ],
      "metadata": {
        "id": "O6NqqPnAA0np"
      }
    },
    {
      "cell_type": "code",
      "source": [
        "# Find the unique Genres\n",
        "bestsellers[\"Genre\"].unique()"
      ],
      "metadata": {
        "colab": {
          "base_uri": "https://localhost:8080/"
        },
        "id": "ndfVjC_GBKeu",
        "outputId": "b20ad686-58a9-49ce-fa07-56c25aa20f17"
      },
      "execution_count": 53,
      "outputs": [
        {
          "output_type": "execute_result",
          "data": {
            "text/plain": [
              "array(['Non Fiction', 'Fiction'], dtype=object)"
            ]
          },
          "metadata": {},
          "execution_count": 53
        }
      ]
    },
    {
      "cell_type": "code",
      "source": [
        "# Find the number of unique Authors\n",
        "bestsellers[\"Author\"].nunique()"
      ],
      "metadata": {
        "colab": {
          "base_uri": "https://localhost:8080/"
        },
        "id": "3qBC3wE-EXSO",
        "outputId": "72d9a1f6-75cb-47ac-e374-610a7c73480d"
      },
      "execution_count": 54,
      "outputs": [
        {
          "output_type": "execute_result",
          "data": {
            "text/plain": [
              "248"
            ]
          },
          "metadata": {},
          "execution_count": 54
        }
      ]
    },
    {
      "cell_type": "code",
      "source": [
        "# Find the average Price\n",
        "bestsellers[\"Price\"].mean()"
      ],
      "metadata": {
        "colab": {
          "base_uri": "https://localhost:8080/"
        },
        "id": "705NU5h4Ee3s",
        "outputId": "2395ee54-1e3b-403f-d8a2-370ec33b6495"
      },
      "execution_count": 56,
      "outputs": [
        {
          "output_type": "execute_result",
          "data": {
            "text/plain": [
              "13.1"
            ]
          },
          "metadata": {},
          "execution_count": 56
        }
      ]
    },
    {
      "cell_type": "code",
      "source": [
        "# Find the 10 highest prices\n",
        "bestsellers[\"Price\"].nlargest(10)"
      ],
      "metadata": {
        "colab": {
          "base_uri": "https://localhost:8080/"
        },
        "id": "g0-6WiTCEnil",
        "outputId": "6ee0f64b-9505-465c-8787-a36143894c0e"
      },
      "execution_count": 57,
      "outputs": [
        {
          "output_type": "execute_result",
          "data": {
            "text/plain": [
              "69     105\n",
              "70     105\n",
              "473     82\n",
              "151     54\n",
              "346     53\n",
              "159     52\n",
              "271     46\n",
              "272     46\n",
              "273     46\n",
              "274     46\n",
              "Name: Price, dtype: int64"
            ]
          },
          "metadata": {},
          "execution_count": 57
        }
      ]
    },
    {
      "cell_type": "markdown",
      "source": [
        "### Part 3\n",
        "* Find the top 3 most common book titles in the dataset\n",
        "* Create a new dataframe with only Author and User Rating\n",
        "* Using the new dataframe, find the most common combination of Author and User Rating Score."
      ],
      "metadata": {
        "id": "opw3FnQSA3Zy"
      }
    },
    {
      "cell_type": "code",
      "source": [
        "# Find the top 3 most common book titles in the dataset\n",
        "# bestsellers[\"Name\"].nunique()\n",
        "bestsellers[\"Name\"].value_counts().head(3)"
      ],
      "metadata": {
        "colab": {
          "base_uri": "https://localhost:8080/"
        },
        "id": "XFd0bJQtBHVe",
        "outputId": "0952c0d8-c189-4735-874b-9d266c2f54f5"
      },
      "execution_count": 58,
      "outputs": [
        {
          "output_type": "execute_result",
          "data": {
            "text/plain": [
              "Publication Manual of the American Psychological Association, 6th Edition    10\n",
              "StrengthsFinder 2.0                                                           9\n",
              "Oh, the Places You'll Go!                                                     8\n",
              "Name: Name, dtype: int64"
            ]
          },
          "metadata": {},
          "execution_count": 58
        }
      ]
    },
    {
      "cell_type": "code",
      "source": [
        "# Create a new dataframe with only Author and User Rating\n",
        "author_n_rating = bestsellers[[\"Author\", \"User Rating\"]]"
      ],
      "metadata": {
        "id": "uoFWuyqBFdap"
      },
      "execution_count": 59,
      "outputs": []
    },
    {
      "cell_type": "code",
      "source": [
        "# Using the new dataframe, find the most common combination of Author and User Rating Score.\n",
        "author_n_rating.value_counts().head(2)"
      ],
      "metadata": {
        "colab": {
          "base_uri": "https://localhost:8080/"
        },
        "id": "TaLMOweDFgFT",
        "outputId": "5b43e145-bde6-4c60-ed9c-dca1a4596c25"
      },
      "execution_count": 60,
      "outputs": [
        {
          "output_type": "execute_result",
          "data": {
            "text/plain": [
              "Author                              User Rating\n",
              "Jeff Kinney                         4.8            10\n",
              "American Psychological Association  4.5            10\n",
              "dtype: int64"
            ]
          },
          "metadata": {},
          "execution_count": 60
        }
      ]
    },
    {
      "cell_type": "markdown",
      "source": [
        "### Part 4\n",
        "* Create a pie chart showing the total number of times each Genre appears in the dataset\n",
        "* Find out the top 10 most prolific authors and plot their number of books as a bar plot\n",
        "* BONUS: create a histogram showing the distribution of User Rating scores"
      ],
      "metadata": {
        "id": "foJ_wPvrCSag"
      }
    },
    {
      "cell_type": "code",
      "source": [
        "# Create a pie chart showing the total number of times each Genre appears in the dataset\n",
        "bestsellers[\"Genre\"].value_counts().plot(kind=\"pie\")"
      ],
      "metadata": {
        "colab": {
          "base_uri": "https://localhost:8080/",
          "height": 423
        },
        "id": "tWeOoTNOG6EH",
        "outputId": "70b9a197-5bd7-449b-d91f-3be4a5252f7e"
      },
      "execution_count": 61,
      "outputs": [
        {
          "output_type": "execute_result",
          "data": {
            "text/plain": [
              "<Axes: ylabel='Genre'>"
            ]
          },
          "metadata": {},
          "execution_count": 61
        },
        {
          "output_type": "display_data",
          "data": {
            "text/plain": [
              "<Figure size 640x480 with 1 Axes>"
            ],
            "image/png": "[encoded data removed]"
          },
          "metadata": {}
        }
      ]
    },
    {
      "cell_type": "code",
      "source": [
        "# Find out the top 10 most prolific authors and plot their number of books as a bar plot\n",
        "bestsellers[\"Author\"].nunique()"
      ],
      "metadata": {
        "colab": {
          "base_uri": "https://localhost:8080/"
        },
        "id": "OcC6UB3AHK93",
        "outputId": "abf3a70e-b234-42b2-9679-ab4d8bb8f056"
      },
      "execution_count": 62,
      "outputs": [
        {
          "output_type": "execute_result",
          "data": {
            "text/plain": [
              "248"
            ]
          },
          "metadata": {},
          "execution_count": 62
        }
      ]
    },
    {
      "cell_type": "code",
      "source": [
        "bestsellers[\"Author\"].value_counts().head(10)"
      ],
      "metadata": {
        "colab": {
          "base_uri": "https://localhost:8080/"
        },
        "id": "zt2avXZt6rWX",
        "outputId": "dc390e9e-de2a-483b-b826-0577db0b28f9"
      },
      "execution_count": 63,
      "outputs": [
        {
          "output_type": "execute_result",
          "data": {
            "text/plain": [
              "Jeff Kinney                           12\n",
              "Gary Chapman                          11\n",
              "Rick Riordan                          11\n",
              "Suzanne Collins                       11\n",
              "American Psychological Association    10\n",
              "Dr. Seuss                              9\n",
              "Gallup                                 9\n",
              "Rob Elliott                            8\n",
              "Stephen R. Covey                       7\n",
              "Stephenie Meyer                        7\n",
              "Name: Author, dtype: int64"
            ]
          },
          "metadata": {},
          "execution_count": 63
        }
      ]
    },
    {
      "cell_type": "code",
      "source": [
        "bestsellers[\"Author\"].value_counts().head(10).plot(kind=\"barh\")"
      ],
      "metadata": {
        "colab": {
          "base_uri": "https://localhost:8080/",
          "height": 447
        },
        "id": "H9jh54-i59no",
        "outputId": "a7848a6a-3e62-46c7-94f5-ecc117c9ab5e"
      },
      "execution_count": 64,
      "outputs": [
        {
          "output_type": "execute_result",
          "data": {
            "text/plain": [
              "<Axes: >"
            ]
          },
          "metadata": {},
          "execution_count": 64
        },
        {
          "output_type": "display_data",
          "data": {
            "text/plain": [
              "<Figure size 640x480 with 1 Axes>"
            ],
            "image/png": "[encoded data removed]"
          },
          "metadata": {}
        }
      ]
    },
    {
      "cell_type": "code",
      "source": [
        "# BONUS: create a histogram showing the distribution of User Rating scores\n",
        "bestsellers[\"User Rating\"].plot(kind=\"hist\")"
      ],
      "metadata": {
        "colab": {
          "base_uri": "https://localhost:8080/",
          "height": 447
        },
        "id": "K_JOPeNBHOu1",
        "outputId": "dad48c40-e271-481b-98ef-ba9f5dfd4850"
      },
      "execution_count": 65,
      "outputs": [
        {
          "output_type": "execute_result",
          "data": {
            "text/plain": [
              "<Axes: ylabel='Frequency'>"
            ]
          },
          "metadata": {},
          "execution_count": 65
        },
        {
          "output_type": "display_data",
          "data": {
            "text/plain": [
              "<Figure size 640x480 with 1 Axes>"
            ],
            "image/png": "[encoded data removed]"
          },
          "metadata": {}
        }
      ]
    }
  ]
}